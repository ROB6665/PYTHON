{
 "cells": [
  {
   "cell_type": "raw",
   "id": "f27e41fe",
   "metadata": {},
   "source": [
    "Python Collections (Arrays)\n",
    "\n",
    "There are four collection data types in the Python programming language:\n",
    "\n",
    "List is a collection which is ordered and changeable. Allows duplicate members.\n",
    "Tuple is a collection which is ordered and unchangeable. Allows duplicate members.\n",
    "Set is a collection which is unordered, unchangeable*, and unindexed. No duplicate members.\n",
    "Dictionary is a collection which is ordered** and changeable. No duplicate members."
   ]
  },
  {
   "cell_type": "markdown",
   "id": "d16c229d",
   "metadata": {},
   "source": [
    "# List"
   ]
  },
  {
   "cell_type": "raw",
   "id": "42205fc9",
   "metadata": {},
   "source": [
    "List Items :\n",
    "List items are ordered, changeable, and allow duplicate values.\n",
    "List items are indexed, the first item has index [0], the second item has index [1] etc.\n",
    "\n",
    "Ordered :\n",
    "When we say that lists are ordered, it means that the items have a defined order, and that order will not change.\n",
    "If you add new items to a list, the new items will be placed at the end of the list.\n",
    "\n",
    "Changeable :\n",
    "The list is changeable, meaning that we can change, add, and remove items in a list after it has been created.\n",
    "\n",
    "Allow Duplicates :\n",
    "Since lists are indexed, lists can have items with the same value:"
   ]
  },
  {
   "cell_type": "raw",
   "id": "5fa31c2e",
   "metadata": {},
   "source": [
    "# Method\t              # Description\n",
    "append()\t Adds an element at the end of the list\n",
    "clear()\t     Removes all the elements from the list\n",
    "copy()\t     Returns a copy of the list\n",
    "count()\t     Returns the number of elements with the specified value\n",
    "extend()\t Add the elements of a list (or any iterable), to the end of the current list\n",
    "index()\t     Returns the index of the first element with the specified value\n",
    "insert()\t Adds an element at the specified position\n",
    "pop()\t     Removes the element at the specified position\n",
    "remove()\t Removes the item with the specified value\n",
    "reverse()\t Reverses the order of the list\n",
    "sort()\t     Sorts the list"
   ]
  },
  {
   "cell_type": "code",
   "execution_count": 2,
   "id": "48a24afd",
   "metadata": {},
   "outputs": [
    {
     "name": "stdout",
     "output_type": "stream",
     "text": [
      "['apple', 'banana', 'cherry', 'apple', 'cherry']\n"
     ]
    }
   ],
   "source": [
    "thislist = [\"apple\", \"banana\", \"cherry\", \"apple\", \"cherry\"]\n",
    "print(thislist)"
   ]
  },
  {
   "cell_type": "code",
   "execution_count": 3,
   "id": "3e9ab814",
   "metadata": {},
   "outputs": [
    {
     "name": "stdout",
     "output_type": "stream",
     "text": [
      "3\n"
     ]
    }
   ],
   "source": [
    "thislist = [\"apple\", \"banana\", \"cherry\"]\n",
    "print(len(thislist))"
   ]
  },
  {
   "cell_type": "code",
   "execution_count": 4,
   "id": "20c3f6a8",
   "metadata": {},
   "outputs": [
    {
     "name": "stdout",
     "output_type": "stream",
     "text": [
      "['apple', 'banana', 'cherry']\n",
      "[1, 5, 7, 9, 3]\n",
      "[True, False, False]\n"
     ]
    }
   ],
   "source": [
    "list1 = [\"apple\", \"banana\", \"cherry\"]\n",
    "list2 = [1, 5, 7, 9, 3]\n",
    "list3 = [True, False, False]\n",
    "print(list1)\n",
    "print(list2)\n",
    "print(list3)"
   ]
  },
  {
   "cell_type": "code",
   "execution_count": 5,
   "id": "960cd385",
   "metadata": {},
   "outputs": [
    {
     "name": "stdout",
     "output_type": "stream",
     "text": [
      "['abc', 34, True, 40, 'male']\n"
     ]
    }
   ],
   "source": [
    "list1 = [\"abc\", 34, True, 40, \"male\"]\n",
    "print(list1)"
   ]
  },
  {
   "cell_type": "code",
   "execution_count": 6,
   "id": "ab492ec0",
   "metadata": {},
   "outputs": [
    {
     "name": "stdout",
     "output_type": "stream",
     "text": [
      "<class 'list'>\n"
     ]
    }
   ],
   "source": [
    "mylist = [\"apple\", \"banana\", \"cherry\"]\n",
    "print(type(mylist))"
   ]
  },
  {
   "cell_type": "code",
   "execution_count": 7,
   "id": "c548ca77",
   "metadata": {},
   "outputs": [
    {
     "name": "stdout",
     "output_type": "stream",
     "text": [
      "['apple', 'banana', 'cherry']\n"
     ]
    }
   ],
   "source": [
    "thislist = list((\"apple\", \"banana\", \"cherry\"))\n",
    "\n",
    "# note the double round-brackets\n",
    "print(thislist)"
   ]
  },
  {
   "cell_type": "markdown",
   "id": "1cb49832",
   "metadata": {},
   "source": [
    "## Access List Items"
   ]
  },
  {
   "cell_type": "code",
   "execution_count": 8,
   "id": "74e49bb0",
   "metadata": {},
   "outputs": [
    {
     "name": "stdout",
     "output_type": "stream",
     "text": [
      "banana\n"
     ]
    }
   ],
   "source": [
    "# Note: The first item has index 0.\n",
    "\n",
    "thislist = [\"apple\", \"banana\", \"cherry\"]\n",
    "print(thislist[1])"
   ]
  },
  {
   "cell_type": "code",
   "execution_count": 9,
   "id": "0b9bb3e6",
   "metadata": {},
   "outputs": [
    {
     "name": "stdout",
     "output_type": "stream",
     "text": [
      "cherry\n"
     ]
    }
   ],
   "source": [
    "# -1 refers to the last item, -2 refers to the second last item etc.\n",
    "\n",
    "thislist = [\"apple\", \"banana\", \"cherry\"]\n",
    "print(thislist[-1])"
   ]
  },
  {
   "cell_type": "markdown",
   "id": "66cafb58",
   "metadata": {},
   "source": [
    "## Range of Indexes"
   ]
  },
  {
   "cell_type": "code",
   "execution_count": 10,
   "id": "b63960fe",
   "metadata": {},
   "outputs": [
    {
     "name": "stdout",
     "output_type": "stream",
     "text": [
      "['cherry', 'orange', 'kiwi']\n"
     ]
    }
   ],
   "source": [
    "# Note: The search will start at index 2 (included) and end at index 5 (not included).\n",
    "# Return the third, fourth, and fifth item:\n",
    "\n",
    "thislist = [\"apple\", \"banana\", \"cherry\", \"orange\", \"kiwi\", \"melon\", \"mango\"]\n",
    "print(thislist[2:5])"
   ]
  },
  {
   "cell_type": "code",
   "execution_count": 11,
   "id": "55e29b62",
   "metadata": {},
   "outputs": [
    {
     "name": "stdout",
     "output_type": "stream",
     "text": [
      "['orange', 'kiwi', 'melon', 'mango']\n"
     ]
    }
   ],
   "source": [
    "thislist = [\"apple\", \"banana\", \"cherry\", \"orange\", \"kiwi\", \"melon\", \"mango\"]\n",
    "print(thislist[3:])"
   ]
  },
  {
   "cell_type": "code",
   "execution_count": 12,
   "id": "af6695c0",
   "metadata": {},
   "outputs": [
    {
     "name": "stdout",
     "output_type": "stream",
     "text": [
      "['apple', 'banana', 'cherry', 'orange', 'kiwi']\n"
     ]
    }
   ],
   "source": [
    "thislist = [\"apple\", \"banana\", \"cherry\", \"orange\", \"kiwi\", \"melon\", \"mango\"]\n",
    "print(thislist[:5])"
   ]
  },
  {
   "cell_type": "markdown",
   "id": "f43ce9b7",
   "metadata": {},
   "source": [
    "## Change List Items"
   ]
  },
  {
   "cell_type": "code",
   "execution_count": 13,
   "id": "65c96e2e",
   "metadata": {},
   "outputs": [
    {
     "name": "stdout",
     "output_type": "stream",
     "text": [
      "['apple', 'blackcurrant', 'cherry']\n"
     ]
    }
   ],
   "source": [
    "thislist = [\"apple\", \"banana\", \"cherry\"]\n",
    "thislist[1] = \"blackcurrant\"\n",
    "print(thislist)"
   ]
  },
  {
   "cell_type": "code",
   "execution_count": 14,
   "id": "13ccf716",
   "metadata": {},
   "outputs": [
    {
     "name": "stdout",
     "output_type": "stream",
     "text": [
      "['apple', 'blackcurrant', 'watermelon', 'orange', 'kiwi', 'mango']\n"
     ]
    }
   ],
   "source": [
    "thislist = [\"apple\", \"banana\", \"cherry\", \"orange\", \"kiwi\", \"mango\"]\n",
    "thislist[1:3] = [\"blackcurrant\", \"watermelon\"]\n",
    "print(thislist)"
   ]
  },
  {
   "cell_type": "code",
   "execution_count": 15,
   "id": "aff5d682",
   "metadata": {},
   "outputs": [
    {
     "name": "stdout",
     "output_type": "stream",
     "text": [
      "['apple', 'blackcurrant', 'watermelon', 'cherry']\n"
     ]
    }
   ],
   "source": [
    "thislist = [\"apple\", \"banana\", \"cherry\"]\n",
    "thislist[1:2] = [\"blackcurrant\", \"watermelon\"]\n",
    "print(thislist)"
   ]
  },
  {
   "cell_type": "markdown",
   "id": "13cfaa8f",
   "metadata": {},
   "source": [
    "## Append Items in list\n"
   ]
  },
  {
   "cell_type": "code",
   "execution_count": 17,
   "id": "ce01ad26",
   "metadata": {},
   "outputs": [
    {
     "name": "stdout",
     "output_type": "stream",
     "text": [
      "['apple', 'banana', 'cherry', 'orange']\n"
     ]
    }
   ],
   "source": [
    "# To add an item to the end of the list, use the append() method:\n",
    "# append()\n",
    "\n",
    "thislist = [\"apple\", \"banana\", \"cherry\"]\n",
    "thislist.append(\"orange\")\n",
    "print(thislist)"
   ]
  },
  {
   "cell_type": "markdown",
   "id": "789728e3",
   "metadata": {},
   "source": [
    "## Insert Items\n"
   ]
  },
  {
   "cell_type": "code",
   "execution_count": 18,
   "id": "ce6c4847",
   "metadata": {},
   "outputs": [
    {
     "name": "stdout",
     "output_type": "stream",
     "text": [
      "['apple', 'orange', 'banana', 'cherry']\n"
     ]
    }
   ],
   "source": [
    "#To insert a list item at a specified index, use the insert() method.\n",
    "#The insert() method inserts an item at the specified index:\n",
    "# insert()\n",
    "\n",
    "thislist = [\"apple\", \"banana\", \"cherry\"]\n",
    "thislist.insert(1, \"orange\")\n",
    "print(thislist)"
   ]
  },
  {
   "cell_type": "markdown",
   "id": "64854e51",
   "metadata": {},
   "source": [
    "## Extend List"
   ]
  },
  {
   "cell_type": "code",
   "execution_count": 19,
   "id": "0445e6fb",
   "metadata": {},
   "outputs": [
    {
     "name": "stdout",
     "output_type": "stream",
     "text": [
      "['apple', 'banana', 'cherry', 'mango', 'pineapple', 'papaya']\n"
     ]
    }
   ],
   "source": [
    "# To append elements from another list to the current list, use the extend() method.\n",
    "# extend()\n",
    "\n",
    "thislist = [\"apple\", \"banana\", \"cherry\"]\n",
    "tropical = [\"mango\", \"pineapple\", \"papaya\"]\n",
    "thislist.extend(tropical)\n",
    "print(thislist)"
   ]
  },
  {
   "cell_type": "markdown",
   "id": "b501fce6",
   "metadata": {},
   "source": [
    "## Nested List "
   ]
  },
  {
   "cell_type": "code",
   "execution_count": 20,
   "id": "92e3314e",
   "metadata": {},
   "outputs": [
    {
     "name": "stdout",
     "output_type": "stream",
     "text": [
      "11\n",
      "[10, 20, 30]\n",
      "100\n"
     ]
    }
   ],
   "source": [
    "L1=[11,22,[10,20,30],100]\n",
    "# print(len(L1))\n",
    "print(L1[0])\n",
    "print(L1[2])\n",
    "print(L1[3])"
   ]
  },
  {
   "cell_type": "code",
   "execution_count": 27,
   "id": "4694c6c1",
   "metadata": {},
   "outputs": [
    {
     "name": "stdout",
     "output_type": "stream",
     "text": [
      "8\n",
      "[['fox', 'jumps']]\n",
      "['fox', 'jumps']\n",
      "jumps\n",
      "m\n",
      "['over', 'the', 'lazy', 'dog']\n"
     ]
    }
   ],
   "source": [
    "L2=['a', 'quick', 'brown', ['fox', 'jumps'], 'over', 'the', 'lazy', 'dog']\n",
    "print(len(L2))\n",
    "print(L2[3:4])\n",
    "print(L2[3:4][0])\n",
    "print(L2[3:4][0][1])\n",
    "print(L2[3:4][0][1][2])\n",
    "print(L2[4:])"
   ]
  },
  {
   "cell_type": "code",
   "execution_count": 26,
   "id": "938b7cff",
   "metadata": {},
   "outputs": [
    {
     "name": "stdout",
     "output_type": "stream",
     "text": [
      "12\n",
      "[1, 2, 3, [4, 5, 6], 7]\n",
      "15\n",
      "[3, [4, 5, 6], 7, 8, 9]\n",
      "[[1, 2, 3, [4, 5, 6], 7, 8, 9], 10, [11, 12, 13], 14, 15, 16, 17]\n",
      "[4, 5, 6]\n",
      "14\n",
      "[12, 13]\n",
      "[[4, 5, 6], 7, 8, 9]\n",
      "[]\n",
      "[1, [4, 5, 6], 9]\n"
     ]
    }
   ],
   "source": [
    "l1=[[1, 2, 3, [4, 5, 6], 7, 8, 9], 10, [11, 12, 13], 14, 15, 16, 17]\n",
    "print(l1[0:3][2][1])\n",
    "print(l1[0][0:5])\n",
    "print(l1[4])\n",
    "print(l1[0][2:14])\n",
    "print(l1[0:1000])\n",
    "print(l1[0][-4])\n",
    "print(l1[-4])\n",
    "print(l1[-5][-2:])\n",
    "print(l1[-7][-4:])\n",
    "print(l1[-6:-7])\n",
    "print(l1[0][0:100:3])"
   ]
  },
  {
   "cell_type": "code",
   "execution_count": 25,
   "id": "7f6a0c3d",
   "metadata": {},
   "outputs": [
    {
     "name": "stdout",
     "output_type": "stream",
     "text": [
      "2\n",
      "['we know this']\n",
      "[['cats', 'vs', 'dogs'], ['we know this']]\n",
      "vs\n",
      "['vs', 'dogs']\n",
      "['cats', 'vs', 'dogs']\n"
     ]
    }
   ],
   "source": [
    "List=[['cats','vs','dogs'],['we know this']]\n",
    "print(len(List))\n",
    "print(List[1])\n",
    "print(List[0:10])\n",
    "print(List[0][1])\n",
    "print(List[0][1:3])\n",
    "print(List[0][0:3])"
   ]
  },
  {
   "cell_type": "markdown",
   "id": "9aebdcb4",
   "metadata": {},
   "source": [
    "## List Comprehension"
   ]
  },
  {
   "cell_type": "markdown",
   "id": "b2a40207",
   "metadata": {},
   "source": [
    "\n",
    "List comprehensions are used for creating new lists from other iterables like tuples, strings, arrays, lists, etc. List comprehension offers a shorter syntax when you want to create a new list based on the values of an existing list.\n",
    "\n",
    "Syntax:\n",
    "\n",
    "newlist = [expression for item in iterable if condition == True]\n",
    "\n",
    "Condition\n",
    "The condition is like a filter that only accepts the items that valuate to True."
   ]
  },
  {
   "cell_type": "code",
   "execution_count": 30,
   "id": "03fdeeed",
   "metadata": {},
   "outputs": [
    {
     "name": "stdout",
     "output_type": "stream",
     "text": [
      "[1, 9, 25, 49, 81]\n"
     ]
    }
   ],
   "source": [
    "# Without Comprehension\n",
    "\n",
    "odd_square=[]\n",
    "for x in range(1,11):\n",
    "    if x%2==1:\n",
    "        odd_square.append(x**2)\n",
    "print(odd_square)"
   ]
  },
  {
   "cell_type": "code",
   "execution_count": 31,
   "id": "fa78093c",
   "metadata": {},
   "outputs": [
    {
     "name": "stdout",
     "output_type": "stream",
     "text": [
      "[1, 9, 25, 49, 81]\n"
     ]
    }
   ],
   "source": [
    "# With Comprehension \n",
    "\n",
    "odd_square=[x**2 for x in range(1,11) if x%2==1]\n",
    "print(odd_square)"
   ]
  },
  {
   "cell_type": "code",
   "execution_count": 32,
   "id": "b341cf79",
   "metadata": {},
   "outputs": [
    {
     "name": "stdout",
     "output_type": "stream",
     "text": [
      "['R', 'O', 'B', 'I', 'N']\n"
     ]
    }
   ],
   "source": [
    "name=[letter for letter in 'ROBIN']\n",
    "print(name)\n"
   ]
  },
  {
   "cell_type": "code",
   "execution_count": 33,
   "id": "fa34db8a",
   "metadata": {},
   "outputs": [
    {
     "name": "stdout",
     "output_type": "stream",
     "text": [
      "['RRR']\n"
     ]
    }
   ],
   "source": [
    "R=[x*3 for x in ('ROBIN') if x=='R']\n",
    "print(R)"
   ]
  },
  {
   "cell_type": "code",
   "execution_count": 34,
   "id": "e42ce36f",
   "metadata": {},
   "outputs": [
    {
     "data": {
      "text/plain": [
       "['apple', 'banana', 'mango']"
      ]
     },
     "execution_count": 34,
     "metadata": {},
     "output_type": "execute_result"
    }
   ],
   "source": [
    "fruits=['apple','banana','cherry','kiwi','mango']\n",
    "newlist=[x for x in fruits if \"a\" in x]\n",
    "newlist"
   ]
  },
  {
   "cell_type": "code",
   "execution_count": 48,
   "id": "baf0f92a",
   "metadata": {},
   "outputs": [
    {
     "data": {
      "text/plain": [
       "['apple', 'orange', 'cherry', 'kiwi', 'mango']"
      ]
     },
     "execution_count": 48,
     "metadata": {},
     "output_type": "execute_result"
    }
   ],
   "source": [
    "fruits = [\"apple\", \"banana\", \"cherry\", \"kiwi\", \"mango\"]\n",
    "newlist = [x if x != \"banana\" else \"orange\" for x in fruits]\n",
    "newlist"
   ]
  },
  {
   "cell_type": "code",
   "execution_count": 35,
   "id": "7105c115",
   "metadata": {},
   "outputs": [
    {
     "data": {
      "text/plain": [
       "[0, 1, 2, 3, 4, 5, 6, 7, 8, 9]"
      ]
     },
     "execution_count": 35,
     "metadata": {},
     "output_type": "execute_result"
    }
   ],
   "source": [
    "newlist=[x for x in range(10)]\n",
    "newlist"
   ]
  },
  {
   "cell_type": "code",
   "execution_count": 36,
   "id": "199adf5d",
   "metadata": {},
   "outputs": [
    {
     "data": {
      "text/plain": [
       "[6, 7, 8, 9]"
      ]
     },
     "execution_count": 36,
     "metadata": {},
     "output_type": "execute_result"
    }
   ],
   "source": [
    "newlist=[x for x in range(10) if x>5]\n",
    "newlist"
   ]
  },
  {
   "cell_type": "code",
   "execution_count": 37,
   "id": "8a4af7cf",
   "metadata": {},
   "outputs": [
    {
     "data": {
      "text/plain": [
       "['Even', 'odd', 'Even', 'odd', 'Even', 'odd', 'Even', 'odd', 'Even', 'odd']"
      ]
     },
     "execution_count": 37,
     "metadata": {},
     "output_type": "execute_result"
    }
   ],
   "source": [
    "obj=['Even' if i%2==0 else \"odd\" for i in range(10)]\n",
    "obj"
   ]
  },
  {
   "cell_type": "code",
   "execution_count": 43,
   "id": "d68878ba",
   "metadata": {},
   "outputs": [],
   "source": [
    "#Write a Python program to find palindromes in a given list of strings\n",
    "# pallindrome\n",
    "# not palindrome\n",
    "l=['madam','1331','php','Robin']"
   ]
  },
  {
   "cell_type": "code",
   "execution_count": 44,
   "id": "35d00dcc",
   "metadata": {},
   "outputs": [
    {
     "name": "stdout",
     "output_type": "stream",
     "text": [
      "madam pallindome\n",
      "1331 pallindome\n",
      "php pallindome\n",
      "Robin not palliondrome\n"
     ]
    }
   ],
   "source": [
    "for i in l:\n",
    "    if i==i[::-1]:\n",
    "        print(i,'pallindome')\n",
    "    else:\n",
    "        print(i,'not palliondrome')"
   ]
  },
  {
   "cell_type": "code",
   "execution_count": 42,
   "id": "8215d794",
   "metadata": {},
   "outputs": [
    {
     "name": "stdout",
     "output_type": "stream",
     "text": [
      "[1, 2, 3, 4, 6, 5, 0, 8, 9, 7, 12, 14, 19, 15]\n"
     ]
    }
   ],
   "source": [
    "#unique number\n",
    "a=[1,2,1,2,1,3,1,4,2,6,2,6,2,6,3,5,2,6,3,6,2,5,5,0,8,9,1,2,3,7,4,12,14,12,19,15]\n",
    "b=[]\n",
    "for i in a:\n",
    "    if i not in b:\n",
    "        b.append(i)\n",
    "print(b)"
   ]
  }
 ],
 "metadata": {
  "kernelspec": {
   "display_name": "Python 3 (ipykernel)",
   "language": "python",
   "name": "python3"
  },
  "language_info": {
   "codemirror_mode": {
    "name": "ipython",
    "version": 3
   },
   "file_extension": ".py",
   "mimetype": "text/x-python",
   "name": "python",
   "nbconvert_exporter": "python",
   "pygments_lexer": "ipython3",
   "version": "3.10.9"
  }
 },
 "nbformat": 4,
 "nbformat_minor": 5
}
