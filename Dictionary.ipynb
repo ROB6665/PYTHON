{
 "cells": [
  {
   "cell_type": "markdown",
   "id": "ec6587a0",
   "metadata": {},
   "source": [
    "# Dictionaries"
   ]
  },
  {
   "cell_type": "markdown",
   "id": "79f8d625",
   "metadata": {},
   "source": [
    "### What is Dictionary?\n",
    "\n",
    "Dictionary is a non-homogeneous data structure which stores key value pairs.   "
   ]
  },
  {
   "cell_type": "markdown",
   "id": "6063099a",
   "metadata": {},
   "source": [
    "Use {} curly brackets to construct the dictionary, and [] square brackets to index it."
   ]
  },
  {
   "cell_type": "markdown",
   "id": "6292f8e6",
   "metadata": {},
   "source": [
    "Separate the key and value with colons: and with commas, between each pair."
   ]
  },
  {
   "cell_type": "markdown",
   "id": "2fd09bef",
   "metadata": {},
   "source": [
    "Dictionaries are mutable, which means they can be changed. "
   ]
  },
  {
   "cell_type": "markdown",
   "id": "82495615",
   "metadata": {},
   "source": [
    "### Creating a Dictionary"
   ]
  },
  {
   "cell_type": "markdown",
   "id": "388c9335",
   "metadata": {},
   "source": [
    "In Python, a Dictionary can be created by placing a sequence of elements within curly {} braces, separated by ‘comma’.  Values  \n",
    "\n"
   ]
  },
  {
   "cell_type": "markdown",
   "id": "6b37d1e3",
   "metadata": {},
   "source": [
    "Dictionary holds pairs of values, one being the Key and the other corresponding pair element being its Key:value."
   ]
  },
  {
   "cell_type": "markdown",
   "id": "181e02b6",
   "metadata": {},
   "source": [
    "In a dictionary can be of any data type and can be duplicated, whereas keys can’t be repeated and must be immutable."
   ]
  },
  {
   "cell_type": "markdown",
   "id": "6c0682a8",
   "metadata": {},
   "source": [
    "Note – Dictionary keys are case sensitive, the same name but different cases of Key will be treated distinctly. "
   ]
  },
  {
   "cell_type": "code",
   "execution_count": 230,
   "id": "632d5fae",
   "metadata": {},
   "outputs": [
    {
     "name": "stdout",
     "output_type": "stream",
     "text": [
      "{0: 'One', 'Two': 2, 3: 'Three', 'Four': 4}\n"
     ]
    }
   ],
   "source": [
    "d={0:'One','Two' :2, 3:\"Three\",'Four':4}\n",
    "print(d)"
   ]
  },
  {
   "cell_type": "code",
   "execution_count": 231,
   "id": "6dc02f39",
   "metadata": {},
   "outputs": [
    {
     "name": "stdout",
     "output_type": "stream",
     "text": [
      "Len of the Dictonary = 2\n"
     ]
    },
    {
     "data": {
      "text/plain": [
       "{'Fruits': ['apple', 'mango'], 'Vegetable': ['potato', 'tomato']}"
      ]
     },
     "execution_count": 231,
     "metadata": {},
     "output_type": "execute_result"
    }
   ],
   "source": [
    "DD={'Fruits':['apple','mango'],'Vegetable':['potato','tomato']}\n",
    "print(\"Len of the Dictonary =\",len(DD))\n",
    "DD"
   ]
  },
  {
   "cell_type": "code",
   "execution_count": 232,
   "id": "02258ba2",
   "metadata": {},
   "outputs": [
    {
     "name": "stdout",
     "output_type": "stream",
     "text": [
      "4\n",
      "{0: 1, 1: 2, 2: 2, 7: 0}\n"
     ]
    }
   ],
   "source": [
    "D={0:0,1:1,2:2,7:0,1:2,0:1}\n",
    "print(len(D))\n",
    "print(D)"
   ]
  },
  {
   "cell_type": "markdown",
   "id": "abc25541",
   "metadata": {},
   "source": [
    "### Creating a Dictionary with Mixed keys\n"
   ]
  },
  {
   "cell_type": "code",
   "execution_count": 233,
   "id": "f1011f08",
   "metadata": {},
   "outputs": [
    {
     "name": "stdout",
     "output_type": "stream",
     "text": [
      "{'Name': 'Data', 1: [1, 2, 3, 4]}\n",
      "2\n"
     ]
    }
   ],
   "source": [
    "Dict = {'Name': 'Python', 1: [1, 2, 3, 4],'Name':'Data'}\n",
    "print(Dict)\n",
    "print(len(Dict))"
   ]
  },
  {
   "cell_type": "markdown",
   "id": "d1931c2a",
   "metadata": {},
   "source": [
    "### Creating an empty Dictionary"
   ]
  },
  {
   "cell_type": "code",
   "execution_count": 234,
   "id": "0080841d",
   "metadata": {},
   "outputs": [
    {
     "name": "stdout",
     "output_type": "stream",
     "text": [
      "{}\n"
     ]
    }
   ],
   "source": [
    "Dictionary = {}\n",
    "print(Dictionary)\n",
    " "
   ]
  },
  {
   "cell_type": "markdown",
   "id": "4f7e505e",
   "metadata": {},
   "source": [
    "### Creating a Dictionary with dict() method\n"
   ]
  },
  {
   "cell_type": "code",
   "execution_count": 235,
   "id": "65fe9f9e",
   "metadata": {},
   "outputs": [
    {
     "name": "stdout",
     "output_type": "stream",
     "text": [
      "{1: 'Hello', 2: 'From', 3: 'The', 4: 'Other', 5: 'Side'}\n",
      "<class 'dict'>\n"
     ]
    }
   ],
   "source": [
    "dictionary = {1: 'Hello', 2: 'From', 3:'The', 4:'Other', 5:'Side'}\n",
    "print(dictionary)\n",
    "print(type(dictionary))"
   ]
  },
  {
   "cell_type": "markdown",
   "id": "2375303c",
   "metadata": {},
   "source": [
    "### Creating a Dictionary with each item as a Pair\n"
   ]
  },
  {
   "cell_type": "code",
   "execution_count": 236,
   "id": "b9ad806f",
   "metadata": {},
   "outputs": [
    {
     "name": "stdout",
     "output_type": "stream",
     "text": [
      "{1: 'Python', 2: 'Core'}\n"
     ]
    }
   ],
   "source": [
    "DICTIONARY = dict([[1, 'Python'], [2, 'Core']])\n",
    "print(DICTIONARY)"
   ]
  },
  {
   "cell_type": "markdown",
   "id": "c4fb8215",
   "metadata": {},
   "source": [
    "### Extract Value by Indexing"
   ]
  },
  {
   "cell_type": "code",
   "execution_count": 237,
   "id": "4c8d90d1",
   "metadata": {},
   "outputs": [
    {
     "name": "stdout",
     "output_type": "stream",
     "text": [
      "{0: 'a', 1: 'quick', 2: 'brown', 3: 'fox', 4: 'jumps', 5: 'over', 6: 'a', 7: 'lazy', 8: 'dog'}\n"
     ]
    }
   ],
   "source": [
    "di={0:'a', 1:'quick', 2:'brown', 3:'fox', 4:'jumps', 5:'over', 6:'a', 7:'lazy', 8:'dog'}\n",
    "print(di)"
   ]
  },
  {
   "cell_type": "code",
   "execution_count": 238,
   "id": "76732ab2",
   "metadata": {},
   "outputs": [
    {
     "name": "stdout",
     "output_type": "stream",
     "text": [
      "9\n"
     ]
    }
   ],
   "source": [
    "print(len(di))"
   ]
  },
  {
   "cell_type": "code",
   "execution_count": 239,
   "id": "56c21b78",
   "metadata": {},
   "outputs": [
    {
     "name": "stdout",
     "output_type": "stream",
     "text": [
      "a\n",
      "fox\n",
      "jumps\n",
      "lazy\n"
     ]
    }
   ],
   "source": [
    "#  For accesing values we have to pass key\n",
    "\n",
    "print(di[0])\n",
    "print(di[3])\n",
    "print(di[4])\n",
    "print(di[7])\n"
   ]
  },
  {
   "cell_type": "code",
   "execution_count": 240,
   "id": "64bb73f8",
   "metadata": {},
   "outputs": [
    {
     "name": "stdout",
     "output_type": "stream",
     "text": [
      "{0: 1, 1: 2, 2: 2, 7: 0}\n"
     ]
    }
   ],
   "source": [
    "print(D)"
   ]
  },
  {
   "cell_type": "code",
   "execution_count": 241,
   "id": "f2f7a33b",
   "metadata": {},
   "outputs": [
    {
     "name": "stdout",
     "output_type": "stream",
     "text": [
      "1\n",
      "2\n",
      "2\n"
     ]
    }
   ],
   "source": [
    "print(D[0])\n",
    "print(D[1])\n",
    "print(D[2])"
   ]
  },
  {
   "cell_type": "markdown",
   "id": "a13de54f",
   "metadata": {},
   "source": [
    "### Accessing keys with = .keys()\n"
   ]
  },
  {
   "cell_type": "code",
   "execution_count": 242,
   "id": "abb09c9d",
   "metadata": {},
   "outputs": [
    {
     "name": "stdout",
     "output_type": "stream",
     "text": [
      "dict_keys([0, 1, 2, 3, 4, 5, 6, 7, 8])\n"
     ]
    }
   ],
   "source": [
    "print(di.keys())"
   ]
  },
  {
   "cell_type": "code",
   "execution_count": 243,
   "id": "5c225fdc",
   "metadata": {},
   "outputs": [
    {
     "name": "stdout",
     "output_type": "stream",
     "text": [
      "dict_keys([0, 1, 2, 7])\n"
     ]
    }
   ],
   "source": [
    "print(D.keys())"
   ]
  },
  {
   "cell_type": "code",
   "execution_count": 244,
   "id": "568e5480",
   "metadata": {},
   "outputs": [
    {
     "name": "stdout",
     "output_type": "stream",
     "text": [
      "dict_keys([])\n"
     ]
    }
   ],
   "source": [
    "empty_dict={}\n",
    "print(empty_dict.keys())"
   ]
  },
  {
   "cell_type": "markdown",
   "id": "3a35a5e4",
   "metadata": {},
   "source": [
    "### Accessing values with = .values()\n"
   ]
  },
  {
   "cell_type": "code",
   "execution_count": 245,
   "id": "14db7d88",
   "metadata": {},
   "outputs": [
    {
     "name": "stdout",
     "output_type": "stream",
     "text": [
      "dict_values(['a', 'quick', 'brown', 'fox', 'jumps', 'over', 'a', 'lazy', 'dog'])\n"
     ]
    }
   ],
   "source": [
    "# Accessing values\n",
    "print(di.values())"
   ]
  },
  {
   "cell_type": "code",
   "execution_count": 246,
   "id": "9a3246ec",
   "metadata": {},
   "outputs": [
    {
     "name": "stdout",
     "output_type": "stream",
     "text": [
      "dict_values([1, 2, 2, 0])\n"
     ]
    }
   ],
   "source": [
    "print(D.values())"
   ]
  },
  {
   "cell_type": "code",
   "execution_count": 247,
   "id": "c00c4de4",
   "metadata": {},
   "outputs": [
    {
     "name": "stdout",
     "output_type": "stream",
     "text": [
      "dict_values([])\n"
     ]
    }
   ],
   "source": [
    "empty_dict={}\n",
    "print(empty_dict.values())"
   ]
  },
  {
   "cell_type": "markdown",
   "id": "3d200e9f",
   "metadata": {},
   "source": [
    "### Accessing both key and values = .items()\n"
   ]
  },
  {
   "cell_type": "code",
   "execution_count": 248,
   "id": "90f923c6",
   "metadata": {},
   "outputs": [
    {
     "name": "stdout",
     "output_type": "stream",
     "text": [
      "dict_items([(0, 'a'), (1, 'quick'), (2, 'brown'), (3, 'fox'), (4, 'jumps'), (5, 'over'), (6, 'a'), (7, 'lazy'), (8, 'dog')])\n"
     ]
    }
   ],
   "source": [
    "print(di.items())"
   ]
  },
  {
   "cell_type": "code",
   "execution_count": 249,
   "id": "7e42d9cc",
   "metadata": {},
   "outputs": [
    {
     "name": "stdout",
     "output_type": "stream",
     "text": [
      "dict_items([(0, 1), (1, 2), (2, 2), (7, 0)])\n"
     ]
    }
   ],
   "source": [
    "print(D.items())"
   ]
  },
  {
   "cell_type": "code",
   "execution_count": 250,
   "id": "7349451a",
   "metadata": {},
   "outputs": [
    {
     "name": "stdout",
     "output_type": "stream",
     "text": [
      "dict_items([])\n",
      "<class 'dict'>\n"
     ]
    }
   ],
   "source": [
    "empty_dict={}\n",
    "print(empty_dict.items())\n",
    "print(type(empty_dict))"
   ]
  },
  {
   "cell_type": "markdown",
   "id": "5edfcda6",
   "metadata": {},
   "source": [
    "### Clear empty the dict = .clear()\n"
   ]
  },
  {
   "cell_type": "code",
   "execution_count": 251,
   "id": "b8bac83a",
   "metadata": {},
   "outputs": [
    {
     "name": "stdout",
     "output_type": "stream",
     "text": [
      "Before using clear() = {1: 'a', 2: 'b'}\n",
      "After using clear() = {}\n"
     ]
    }
   ],
   "source": [
    "d1={1:\"a\",2:\"b\"}\n",
    "print(\"Before using clear() =\",d1)\n",
    "d1.clear()\n",
    "print(\"After using clear() =\",d1)"
   ]
  },
  {
   "cell_type": "markdown",
   "id": "0343d9fd",
   "metadata": {},
   "source": [
    "### Delete the k:v pair from an index by using = del\n"
   ]
  },
  {
   "cell_type": "code",
   "execution_count": 252,
   "id": "aee3ad23",
   "metadata": {},
   "outputs": [
    {
     "name": "stdout",
     "output_type": "stream",
     "text": [
      "{0: 'a', 1: 'quick', 2: 'brown', 3: 'fox', 4: 'jumps', 5: 'over', 7: 'lazy', 8: 'dog'}\n"
     ]
    }
   ],
   "source": [
    "del di[6]   \n",
    "print(di)"
   ]
  },
  {
   "cell_type": "code",
   "execution_count": 253,
   "id": "e12f90d5",
   "metadata": {},
   "outputs": [],
   "source": [
    "# delete\n",
    "del di"
   ]
  },
  {
   "cell_type": "code",
   "execution_count": 254,
   "id": "dda85f16",
   "metadata": {},
   "outputs": [
    {
     "ename": "NameError",
     "evalue": "name 'di' is not defined",
     "output_type": "error",
     "traceback": [
      "\u001b[1;31m---------------------------------------------------------------------------\u001b[0m",
      "\u001b[1;31mNameError\u001b[0m                                 Traceback (most recent call last)",
      "Cell \u001b[1;32mIn[254], line 1\u001b[0m\n\u001b[1;32m----> 1\u001b[0m \u001b[38;5;28mprint\u001b[39m(\u001b[43mdi\u001b[49m)\n",
      "\u001b[1;31mNameError\u001b[0m: name 'di' is not defined"
     ]
    }
   ],
   "source": [
    "print(di)"
   ]
  },
  {
   "cell_type": "markdown",
   "id": "38248f20",
   "metadata": {},
   "source": [
    "### Sort dict by using = print(sorted())"
   ]
  },
  {
   "cell_type": "code",
   "execution_count": 255,
   "id": "3c160e5b",
   "metadata": {},
   "outputs": [],
   "source": [
    "di={0:'a', 5:'quick', 2:'brown', 1:'fox', 4:'jumps', 3:'over', 8:'a', 7:'lazy', 6:'dog'}\n"
   ]
  },
  {
   "cell_type": "code",
   "execution_count": 256,
   "id": "903257ad",
   "metadata": {},
   "outputs": [
    {
     "name": "stdout",
     "output_type": "stream",
     "text": [
      "{0: 'a', 5: 'quick', 2: 'brown', 1: 'fox', 4: 'jumps', 3: 'over', 8: 'a', 7: 'lazy', 6: 'dog'}\n",
      "----------------------------------------------------------------------------------------------------\n",
      "Before Sorting = dict_keys([0, 5, 2, 1, 4, 3, 8, 7, 6])\n",
      "<class 'dict_keys'>\n",
      "----------------------------------------------------------------------------------------------------\n",
      "After Sorting Ascending = [0, 1, 2, 3, 4, 5, 6, 7, 8]\n",
      "After Sorting Descending = [8, 7, 6, 5, 4, 3, 2, 1, 0]\n",
      "Type also changed to list = <class 'list'>\n"
     ]
    }
   ],
   "source": [
    "x=sorted(di)\n",
    "\n",
    "print(di)\n",
    "\n",
    "print(\"-\"*100)\n",
    "\n",
    "print(\"Before Sorting =\",di.keys())\n",
    "\n",
    "print(type(di.keys()))\n",
    "\n",
    "print(\"-\"*100)\n",
    "\n",
    "print(\"After Sorting Ascending =\",x)\n",
    "\n",
    "print(\"After Sorting Descending =\",(sorted(di.keys(),reverse=True)))\n",
    "\n",
    "print(\"Type also changed to list =\",type(x))"
   ]
  },
  {
   "cell_type": "code",
   "execution_count": 257,
   "id": "93edd22f",
   "metadata": {},
   "outputs": [
    {
     "name": "stdout",
     "output_type": "stream",
     "text": [
      "['a', 'a', 'brown', 'dog', 'fox', 'jumps', 'lazy', 'over', 'quick']\n"
     ]
    }
   ],
   "source": [
    "print(sorted(di.values()))"
   ]
  },
  {
   "cell_type": "code",
   "execution_count": 258,
   "id": "37fc62ce",
   "metadata": {},
   "outputs": [
    {
     "name": "stdout",
     "output_type": "stream",
     "text": [
      "In sorting items keys will be first property\n",
      "[(0, 'a'), (1, 'fox'), (2, 'brown'), (3, 'over'), (4, 'jumps'), (5, 'quick'), (6, 'dog'), (7, 'lazy'), (8, 'a')]\n"
     ]
    }
   ],
   "source": [
    "print(\"In sorting items keys will be first property\")\n",
    "\n",
    "print(sorted(di.items()))"
   ]
  },
  {
   "cell_type": "code",
   "execution_count": null,
   "id": "f9b1035c",
   "metadata": {},
   "outputs": [],
   "source": []
  },
  {
   "cell_type": "markdown",
   "id": "ca181211",
   "metadata": {},
   "source": [
    "### Dict only return unique pairs duplicates keys are not allowed"
   ]
  },
  {
   "cell_type": "code",
   "execution_count": 259,
   "id": "c3653f84",
   "metadata": {},
   "outputs": [
    {
     "name": "stdout",
     "output_type": "stream",
     "text": [
      "{'O': 1, 'T': 3, 'F': 5}\n",
      "Len of d2 = 3\n",
      "['F', 'O', 'T']\n"
     ]
    }
   ],
   "source": [
    "d2={'O':1,'T':2,'T':3,'F':4,'F':5}\n",
    "print(d2)\n",
    "print(\"Len of d2 =\",len(d2))\n",
    "print(sorted(d2))"
   ]
  },
  {
   "cell_type": "code",
   "execution_count": 260,
   "id": "65b66b6e",
   "metadata": {},
   "outputs": [],
   "source": [
    "d1={'One':1,'Two':2,'Three':3,'Four':4,'Five':5}\n"
   ]
  },
  {
   "cell_type": "code",
   "execution_count": 261,
   "id": "a21fd0d5",
   "metadata": {},
   "outputs": [
    {
     "name": "stdout",
     "output_type": "stream",
     "text": [
      "dict_keys(['One', 'Two', 'Three', 'Four', 'Five'])\n"
     ]
    }
   ],
   "source": [
    "print(d1.keys())"
   ]
  },
  {
   "cell_type": "code",
   "execution_count": 262,
   "id": "be1ef343",
   "metadata": {},
   "outputs": [
    {
     "name": "stdout",
     "output_type": "stream",
     "text": [
      "['Five', 'Four', 'One', 'Three', 'Two']\n"
     ]
    }
   ],
   "source": [
    "print(sorted(d1))"
   ]
  },
  {
   "cell_type": "markdown",
   "id": "57e25f73",
   "metadata": {},
   "source": [
    "### Update the item by using = .update()"
   ]
  },
  {
   "cell_type": "code",
   "execution_count": 263,
   "id": "a3661073",
   "metadata": {},
   "outputs": [
    {
     "name": "stdout",
     "output_type": "stream",
     "text": [
      "{'One': 1, 'Two': 2, 'Three': 3, 'Four': 4, 'Five': 6}\n"
     ]
    }
   ],
   "source": [
    "d1.update({'Five':6})\n",
    "print(d1)"
   ]
  },
  {
   "cell_type": "code",
   "execution_count": 264,
   "id": "8bfbddf7",
   "metadata": {},
   "outputs": [
    {
     "data": {
      "text/plain": [
       "{'One': 1, 'Two': 2, 'Three': 3, 'Four': 4, 'Five': 7}"
      ]
     },
     "execution_count": 264,
     "metadata": {},
     "output_type": "execute_result"
    }
   ],
   "source": [
    "t={'One': 1, 'Two': 2, 'Three': 3, 'Four': 4, 'Five': 5,'Five':6}\n",
    "t.update({'Five':7})\n",
    "t"
   ]
  },
  {
   "cell_type": "code",
   "execution_count": 265,
   "id": "957ee47a",
   "metadata": {},
   "outputs": [
    {
     "name": "stdout",
     "output_type": "stream",
     "text": [
      "{'One': 1, 'Two': 2, 'Three': 3, 'Four': 4, 'Five': 6, 'example': 100}\n"
     ]
    }
   ],
   "source": [
    "d1.update({'example':100})\n",
    "print(d1)"
   ]
  },
  {
   "cell_type": "markdown",
   "id": "5e7ad37f",
   "metadata": {},
   "source": [
    "### Pop Item using = pop()"
   ]
  },
  {
   "cell_type": "code",
   "execution_count": 266,
   "id": "39d74307",
   "metadata": {},
   "outputs": [
    {
     "name": "stdout",
     "output_type": "stream",
     "text": [
      "{0: 'a', 5: 'quick', 2: 'brown', 1: 'fox', 4: 'jumps', 3: 'over', 8: 'a', 7: 'lazy', 6: 'dog'}\n"
     ]
    }
   ],
   "source": [
    "print(di)"
   ]
  },
  {
   "cell_type": "code",
   "execution_count": 267,
   "id": "71a9a33b",
   "metadata": {},
   "outputs": [
    {
     "name": "stdout",
     "output_type": "stream",
     "text": [
      "{0: 'a', 5: 'quick', 2: 'brown', 4: 'jumps', 3: 'over', 8: 'a', 7: 'lazy', 6: 'dog'}\n"
     ]
    }
   ],
   "source": [
    "di.pop(1)\n",
    "print(di)"
   ]
  },
  {
   "cell_type": "code",
   "execution_count": 268,
   "id": "bed94090",
   "metadata": {},
   "outputs": [
    {
     "name": "stdout",
     "output_type": "stream",
     "text": [
      "(6, 'dog')\n"
     ]
    }
   ],
   "source": [
    "# pop item\n",
    "print(di.popitem())"
   ]
  },
  {
   "cell_type": "code",
   "execution_count": 269,
   "id": "890d4825",
   "metadata": {},
   "outputs": [
    {
     "name": "stdout",
     "output_type": "stream",
     "text": [
      "{0: 'a', 5: 'quick', 2: 'brown', 4: 'jumps', 3: 'over', 8: 'a', 7: 'lazy'}\n"
     ]
    }
   ],
   "source": [
    "print(di)"
   ]
  },
  {
   "cell_type": "code",
   "execution_count": 270,
   "id": "8671f767",
   "metadata": {},
   "outputs": [
    {
     "name": "stdout",
     "output_type": "stream",
     "text": [
      "('example', 100)\n"
     ]
    }
   ],
   "source": [
    "print(d1.popitem())"
   ]
  },
  {
   "cell_type": "markdown",
   "id": "e595f1a6",
   "metadata": {},
   "source": [
    "### Make dict using = fromkeys(l1,l2)"
   ]
  },
  {
   "cell_type": "code",
   "execution_count": 271,
   "id": "0cded9b4",
   "metadata": {},
   "outputs": [
    {
     "name": "stdout",
     "output_type": "stream",
     "text": [
      "{'a': [1, 2, 3, 4, 5], 'o': [1, 2, 3, 4, 5], 'i': [1, 2, 3, 4, 5], 'e': [1, 2, 3, 4, 5], 'u': [1, 2, 3, 4, 5]}\n"
     ]
    }
   ],
   "source": [
    "li=['a','o','i','e','u']\n",
    "l1=[1,2,3,4,5]\n",
    "\n",
    "new_dict=dict.fromkeys(li,l1)\n",
    "\n",
    "print(new_dict)"
   ]
  },
  {
   "cell_type": "code",
   "execution_count": 272,
   "id": "adfb1c47",
   "metadata": {},
   "outputs": [
    {
     "name": "stdout",
     "output_type": "stream",
     "text": [
      "{0: 'a', 5: 'quick', 2: 'brown', 4: 'jumps', 3: 'over', 8: 'a', 7: 'lazy'}\n"
     ]
    }
   ],
   "source": [
    "print(di)"
   ]
  },
  {
   "cell_type": "code",
   "execution_count": 273,
   "id": "672213f1",
   "metadata": {},
   "outputs": [
    {
     "name": "stdout",
     "output_type": "stream",
     "text": [
      "8\n",
      "quick\n"
     ]
    }
   ],
   "source": [
    "# MAX\n",
    "\n",
    "print(max(di.keys()))\n",
    "print(max(di.values()))"
   ]
  },
  {
   "cell_type": "code",
   "execution_count": 274,
   "id": "7944f668",
   "metadata": {},
   "outputs": [
    {
     "name": "stdout",
     "output_type": "stream",
     "text": [
      "0\n",
      "a\n"
     ]
    }
   ],
   "source": [
    "# MIN\n",
    "\n",
    "print(min(di.keys()))\n",
    "print(min(di.values()))"
   ]
  },
  {
   "cell_type": "markdown",
   "id": "1e7f2c9b",
   "metadata": {},
   "source": [
    "### Dictionary modification\n"
   ]
  },
  {
   "cell_type": "code",
   "execution_count": 275,
   "id": "19fe183f",
   "metadata": {},
   "outputs": [],
   "source": [
    "di={0:'a', 1:'quick', 2:'brown', 3:'fox', 4:'jumps', 5:'over', 6:'a', 7:'lazy', 8:'dog'}\n"
   ]
  },
  {
   "cell_type": "code",
   "execution_count": 276,
   "id": "e3ca1c03",
   "metadata": {},
   "outputs": [
    {
     "name": "stdout",
     "output_type": "stream",
     "text": [
      "{0: 'a', 1: 'quick', 2: 'brown', 3: 'fox', 4: 'jumps', 5: 'over', 6: 'a', 7: 'lazy', 8: 'dog'}\n"
     ]
    }
   ],
   "source": [
    "print(di)"
   ]
  },
  {
   "cell_type": "code",
   "execution_count": 277,
   "id": "9e8d1dcf",
   "metadata": {},
   "outputs": [
    {
     "name": "stdout",
     "output_type": "stream",
     "text": [
      "{0: 'a', 1: 'quick', 2: 'brown', 3: 'fox', 4: 'jumps', 5: 'over', 6: 'a', 7: 'lazy', 8: 'dog', 10: ' cat'}\n"
     ]
    }
   ],
   "source": [
    "di[10]=' cat'\n",
    "print(di)"
   ]
  },
  {
   "cell_type": "code",
   "execution_count": 278,
   "id": "6870c9f4",
   "metadata": {},
   "outputs": [
    {
     "name": "stdout",
     "output_type": "stream",
     "text": [
      "(10, ' cat')\n"
     ]
    }
   ],
   "source": [
    "print(di.popitem())"
   ]
  },
  {
   "cell_type": "code",
   "execution_count": 279,
   "id": "8184a755",
   "metadata": {},
   "outputs": [
    {
     "name": "stdout",
     "output_type": "stream",
     "text": [
      "{0: 'a', 1: 'quick', 2: 'brown', 3: 'fox', 4: 'jumps', 5: 'over', 6: 'a', 7: 'lazy', 8: 'dog'}\n"
     ]
    }
   ],
   "source": [
    "print(di)"
   ]
  },
  {
   "cell_type": "code",
   "execution_count": 280,
   "id": "8f75aee1",
   "metadata": {},
   "outputs": [
    {
     "name": "stdout",
     "output_type": "stream",
     "text": [
      "{0: 'a', 1: 'quick', 2: 'brown', 3: 'fox', 4: 'jumps', 5: 'over', 6: 'a', 7: 'lazy', 8: 'dog', 100: 'house'}\n"
     ]
    }
   ],
   "source": [
    "di[100]='house'\n",
    "print(di)"
   ]
  },
  {
   "cell_type": "markdown",
   "id": "992f9c65",
   "metadata": {},
   "source": [
    "## Dictionary Creation"
   ]
  },
  {
   "cell_type": "code",
   "execution_count": 281,
   "id": "394ed2dc",
   "metadata": {},
   "outputs": [],
   "source": [
    "DICT={}"
   ]
  },
  {
   "cell_type": "code",
   "execution_count": 282,
   "id": "4a87c2aa",
   "metadata": {},
   "outputs": [
    {
     "name": "stdout",
     "output_type": "stream",
     "text": [
      "{}\n"
     ]
    }
   ],
   "source": [
    "print(DICT)"
   ]
  },
  {
   "cell_type": "code",
   "execution_count": 283,
   "id": "dccc0af3",
   "metadata": {},
   "outputs": [],
   "source": [
    "DICT[5]='Welcome'\n",
    "DICT[6]='To'\n",
    "DICT[7]=\"Madrid\"\n",
    "DICT['A']={1 : 'Pyhton', 2 : 'For', 3 : 'AI'}\n",
    "DICT['B']={1 : 'Madrid', 2 : 'Solutions'}\n",
    "DICT['C']=[111,222,333]\n",
    "DICT['D']=(1,55,777,6665)"
   ]
  },
  {
   "cell_type": "code",
   "execution_count": 284,
   "id": "17fad770",
   "metadata": {},
   "outputs": [
    {
     "name": "stdout",
     "output_type": "stream",
     "text": [
      "{5: 'Welcome', 6: 'To', 7: 'Madrid', 'A': {1: 'Pyhton', 2: 'For', 3: 'AI'}, 'B': {1: 'Madrid', 2: 'Solutions'}, 'C': [111, 222, 333], 'D': (1, 55, 777, 6665)}\n"
     ]
    }
   ],
   "source": [
    "print(DICT)"
   ]
  },
  {
   "cell_type": "markdown",
   "id": "6dc7ec7d",
   "metadata": {},
   "source": [
    "## Nested Dictionary"
   ]
  },
  {
   "cell_type": "code",
   "execution_count": 285,
   "id": "705b600e",
   "metadata": {},
   "outputs": [
    {
     "name": "stdout",
     "output_type": "stream",
     "text": [
      "{5: 'Welcome', 6: 'To', 7: 'Madrid', 'A': {1: 'Pyhton', 2: 'For', 3: 'AI'}, 'B': {1: 'Madrid', 2: 'Solutions'}, 'C': [100, 200, 300], 'D': (4, 44, 444, 4444)}\n"
     ]
    }
   ],
   "source": [
    "DICT = {5: 'Welcome', 6: 'To', 7: 'Madrid', 'A': {1: 'Pyhton', 2: 'For', 3: 'AI'}, 'B': {1: 'Madrid', 2: 'Solutions'}, 'C': [100, 200, 300], 'D': (4, 44, 444, 4444)}\n",
    "print(DICT)"
   ]
  },
  {
   "cell_type": "code",
   "execution_count": 286,
   "id": "a3a55cc3",
   "metadata": {},
   "outputs": [
    {
     "name": "stdout",
     "output_type": "stream",
     "text": [
      "7\n",
      "{5: 'Welcome', 6: 'To', 7: 'Madrid', 'A': {1: 'Pyhton', 2: 'For', 3: 'AI'}, 'B': {1: 'Madrid', 2: 'Solutions'}, 'C': [100, 200, 300], 'D': (4, 44, 444, 4444)}\n",
      "dict_keys([5, 6, 7, 'A', 'B', 'C', 'D'])\n",
      "dict_values(['Welcome', 'To', 'Madrid', {1: 'Pyhton', 2: 'For', 3: 'AI'}, {1: 'Madrid', 2: 'Solutions'}, [100, 200, 300], (4, 44, 444, 4444)])\n",
      "dict_items([(5, 'Welcome'), (6, 'To'), (7, 'Madrid'), ('A', {1: 'Pyhton', 2: 'For', 3: 'AI'}), ('B', {1: 'Madrid', 2: 'Solutions'}), ('C', [100, 200, 300]), ('D', (4, 44, 444, 4444))])\n",
      "{5: 'Welcome', 6: 'To', 7: 'Madrid', 'A': {1: 'Pyhton', 2: 'For', 3: 'AI'}, 'B': {1: 'Madrid', 2: 'Solutions'}, 'C': [100, 200, 300], 'D': (4, 44, 444, 4444)}\n",
      "{5: 'Welcome', 6: 'To', 7: 'Madrid', 'A': {1: 'Pyhton', 2: 'For', 3: 'AI'}, 'B': {1: 'Madrid', 2: 'Solutions'}, 'C': [100, 200, 300], 'D': (4, 44, 444, 4444), 'Nine': 9}\n",
      "{5: 'Welcome', 6: 'To', 7: 'Madrid', 'A': {1: 'Pyhton', 2: 'For', 3: 'AI'}, 'B': {1: 'Madrid', 2: 'Solutions'}, 'C': [100, 200, 300], 'D': (4, 44, 444, 4444)}\n",
      "{5: 'Welcome', 6: 'To', 'A': {1: 'Pyhton', 2: 'For', 3: 'AI'}, 'B': {1: 'Madrid', 2: 'Solutions'}, 'C': [100, 200, 300], 'D': (4, 44, 444, 4444)}\n",
      "{}\n",
      "{6: 'To', 7: 'Madrid', 'A': {1: 'Pyhton', 2: 'For', 3: 'AI'}, 'B': {1: 'Madrid', 2: 'Solutions'}, 'C': [100, 200, 300], 'D': (4, 44, 444, 4444)}\n"
     ]
    },
    {
     "ename": "NameError",
     "evalue": "name 'DICT' is not defined",
     "output_type": "error",
     "traceback": [
      "\u001b[1;31m---------------------------------------------------------------------------\u001b[0m",
      "\u001b[1;31mNameError\u001b[0m                                 Traceback (most recent call last)",
      "Cell \u001b[1;32mIn[286], line 32\u001b[0m\n\u001b[0;32m     29\u001b[0m \u001b[38;5;28mprint\u001b[39m(DICT)\n\u001b[0;32m     31\u001b[0m \u001b[38;5;28;01mdel\u001b[39;00m DICT\n\u001b[1;32m---> 32\u001b[0m \u001b[38;5;28mprint\u001b[39m(\u001b[43mDICT\u001b[49m)\n",
      "\u001b[1;31mNameError\u001b[0m: name 'DICT' is not defined"
     ]
    }
   ],
   "source": [
    "print(len(DICT))\n",
    "\n",
    "print(DICT)\n",
    "\n",
    "print(DICT.keys())\n",
    "\n",
    "print(DICT.values())\n",
    "\n",
    "print(DICT.items())\n",
    "\n",
    "print(DICT)\n",
    "\n",
    "\n",
    "DICT.update({'Nine':9})\n",
    "print(DICT)\n",
    "\n",
    "DICT.popitem()\n",
    "print(DICT)\n",
    "\n",
    "DICT.pop(7)\n",
    "print(DICT)\n",
    "\n",
    "DICT = {5: 'Welcome', 6: 'To', 7: 'Madrid', 'A': {1: 'Pyhton', 2: 'For', 3: 'AI'}, 'B': {1: 'Madrid', 2: 'Solutions'}, 'C': [100, 200, 300], 'D': (4, 44, 444, 4444)}\n",
    "DICT.clear()\n",
    "print(DICT)\n",
    "\n",
    "DICT = {5: 'Welcome', 6: 'To', 7: 'Madrid', 'A': {1: 'Pyhton', 2: 'For', 3: 'AI'}, 'B': {1: 'Madrid', 2: 'Solutions'}, 'C': [100, 200, 300], 'D': (4, 44, 444, 4444)}\n",
    "del DICT[5]\n",
    "print(DICT)\n",
    "\n",
    "del DICT\n",
    "print(DICT)"
   ]
  },
  {
   "cell_type": "code",
   "execution_count": null,
   "id": "bf2f0967",
   "metadata": {},
   "outputs": [],
   "source": [
    "DICT = {5: 'Welcome', 6: 'To', 7: 'Madrid', 'A': {1: 'Pyhton', 2: 'For', 3: 'AI'}, 'B': {1: 'Madrid', 2: 'Solutions'}, 'C': [100, 200, 300], 'D': (4, 44, 444, 4444)}\n",
    "print(DICT)"
   ]
  },
  {
   "cell_type": "code",
   "execution_count": 287,
   "id": "42569fbd",
   "metadata": {},
   "outputs": [
    {
     "ename": "NameError",
     "evalue": "name 'DICT' is not defined",
     "output_type": "error",
     "traceback": [
      "\u001b[1;31m---------------------------------------------------------------------------\u001b[0m",
      "\u001b[1;31mNameError\u001b[0m                                 Traceback (most recent call last)",
      "Cell \u001b[1;32mIn[287], line 1\u001b[0m\n\u001b[1;32m----> 1\u001b[0m \u001b[38;5;28mprint\u001b[39m(\u001b[43mDICT\u001b[49m[\u001b[38;5;241m5\u001b[39m])\n\u001b[0;32m      2\u001b[0m \u001b[38;5;28mprint\u001b[39m(DICT[\u001b[38;5;124m'\u001b[39m\u001b[38;5;124mA\u001b[39m\u001b[38;5;124m'\u001b[39m][\u001b[38;5;241m1\u001b[39m])\n\u001b[0;32m      3\u001b[0m \u001b[38;5;28mprint\u001b[39m(DICT[\u001b[38;5;124m'\u001b[39m\u001b[38;5;124mC\u001b[39m\u001b[38;5;124m'\u001b[39m][\u001b[38;5;241m2\u001b[39m])\n",
      "\u001b[1;31mNameError\u001b[0m: name 'DICT' is not defined"
     ]
    }
   ],
   "source": [
    "print(DICT[5])\n",
    "print(DICT['A'][1])\n",
    "print(DICT['C'][2])\n",
    "print(DICT['B'][2])\n",
    "print(DICT['D'][3])\n"
   ]
  },
  {
   "cell_type": "markdown",
   "id": "034da771",
   "metadata": {},
   "source": [
    "### Dictionary Comprehension\n"
   ]
  },
  {
   "cell_type": "markdown",
   "id": "8f0ae678",
   "metadata": {},
   "source": [
    "Like List Comprehension, Python allows dictionary comprehensions."
   ]
  },
  {
   "cell_type": "markdown",
   "id": "79926ff4",
   "metadata": {},
   "source": [
    "We can create dictionaries using simple expressions."
   ]
  },
  {
   "cell_type": "markdown",
   "id": "a7e30f23",
   "metadata": {},
   "source": [
    "A dictionary comprehension takes the form {key: value for (key, value) in iterable}"
   ]
  },
  {
   "cell_type": "code",
   "execution_count": 288,
   "id": "7b3b1223",
   "metadata": {},
   "outputs": [
    {
     "name": "stdout",
     "output_type": "stream",
     "text": [
      "{'a': 1, 'b': 2, 'c': 3, 'd': 4, 'e': 5}\n",
      "4\n",
      "a b c d e\n",
      "1 2 3 4 5\n",
      "('a', 1) ('b', 2) ('c', 3) ('d', 4) ('e', 5)\n"
     ]
    }
   ],
   "source": [
    "keys = ['a','b','c','d','e']\n",
    "values = [1,2,3,4,5]\n",
    "\n",
    "# This line shows dict comprehension here\n",
    "\n",
    "myDict = { x:y for (x,y) in zip(keys, values)}\n",
    "\n",
    "print (myDict)\n",
    "\n",
    "print(myDict['d'])\n",
    "\n",
    "# unzip\n",
    "\n",
    "print(*myDict.keys()) \n",
    "\n",
    "print(*myDict.values())\n",
    "\n",
    "print(*myDict.items())\n"
   ]
  },
  {
   "cell_type": "code",
   "execution_count": 289,
   "id": "cad34632",
   "metadata": {},
   "outputs": [
    {
     "name": "stdout",
     "output_type": "stream",
     "text": [
      "{'b': 1, 'r': 2, 'o': 2, 'n': 1, 't': 1, 's': 2, 'a': 2, 'u': 1}\n"
     ]
    }
   ],
   "source": [
    "name=\"brontosauras\"\n",
    "q={}\n",
    "for i in name:\n",
    "    q[i]=name.count(i)\n",
    "print(q)"
   ]
  },
  {
   "cell_type": "markdown",
   "id": "1a8626f6",
   "metadata": {},
   "source": [
    "### Python code to demonstrate dictionary creation using list comprehension\n"
   ]
  },
  {
   "cell_type": "code",
   "execution_count": 290,
   "id": "8619fe21",
   "metadata": {},
   "outputs": [
    {
     "name": "stdout",
     "output_type": "stream",
     "text": [
      "{1: 1, 2: 4, 3: 9, 4: 16, 5: 25}\n"
     ]
    }
   ],
   "source": [
    "\n",
    "myDict = {x:x**2 for x in [1,2,3,4,5]}\n",
    "print (myDict)\n"
   ]
  },
  {
   "cell_type": "code",
   "execution_count": 291,
   "id": "0ef9b069",
   "metadata": {},
   "outputs": [
    {
     "name": "stdout",
     "output_type": "stream",
     "text": [
      "{'R': 'RRR', 'O': 'OOO', 'B': 'BBB', 'I': 'III', 'N': 'NNN'}\n"
     ]
    }
   ],
   "source": [
    "sDict = {x.upper(): x*3 for x in 'ROBIN'}\n",
    "print (sDict)"
   ]
  },
  {
   "cell_type": "code",
   "execution_count": 292,
   "id": "80f6ce9f",
   "metadata": {},
   "outputs": [
    {
     "data": {
      "text/plain": [
       "{0: 'RRR', 'OOO': 2, 3: 'BBB', 'III': 4}"
      ]
     },
     "execution_count": 292,
     "metadata": {},
     "output_type": "execute_result"
    }
   ],
   "source": [
    "d={0:'RRR','OOO' :2, 3:\"BBB\",'III':4}\n",
    "d"
   ]
  },
  {
   "cell_type": "code",
   "execution_count": 293,
   "id": "dbe877a3",
   "metadata": {},
   "outputs": [
    {
     "name": "stdout",
     "output_type": "stream",
     "text": [
      "0\n",
      "OOO\n",
      "3\n",
      "III\n"
     ]
    }
   ],
   "source": [
    "for i in d:\n",
    "    print(i)"
   ]
  },
  {
   "cell_type": "code",
   "execution_count": 294,
   "id": "d3cb5750",
   "metadata": {},
   "outputs": [
    {
     "name": "stdout",
     "output_type": "stream",
     "text": [
      "0\n",
      "OOO\n",
      "3\n",
      "III\n"
     ]
    }
   ],
   "source": [
    "for j in d.keys():\n",
    "    print(j)"
   ]
  },
  {
   "cell_type": "code",
   "execution_count": 295,
   "id": "0e57b83e",
   "metadata": {},
   "outputs": [
    {
     "data": {
      "text/plain": [
       "{0: 'RRR', 'OOO': 2, 3: 'BBB', 'III': 4}"
      ]
     },
     "execution_count": 295,
     "metadata": {},
     "output_type": "execute_result"
    }
   ],
   "source": [
    "d"
   ]
  },
  {
   "cell_type": "code",
   "execution_count": 296,
   "id": "660c38a9",
   "metadata": {},
   "outputs": [
    {
     "name": "stdout",
     "output_type": "stream",
     "text": [
      "RRR\n",
      "2\n",
      "BBB\n",
      "4\n"
     ]
    }
   ],
   "source": [
    "for k in d.values():\n",
    "    print(k)"
   ]
  },
  {
   "cell_type": "code",
   "execution_count": 297,
   "id": "3d4b3e3d",
   "metadata": {},
   "outputs": [
    {
     "name": "stdout",
     "output_type": "stream",
     "text": [
      "(0, 'RRR')\n",
      "('OOO', 2)\n",
      "(3, 'BBB')\n",
      "('III', 4)\n"
     ]
    }
   ],
   "source": [
    "for x in d.items():\n",
    "    print(x)"
   ]
  },
  {
   "cell_type": "code",
   "execution_count": 298,
   "id": "2706e32e",
   "metadata": {},
   "outputs": [
    {
     "name": "stdout",
     "output_type": "stream",
     "text": [
      "{'R': 1, 'o': 1, 'b': 1, 'i': 1, 'n': 1, '_': 1, 'C': 1, 'h': 2, 'a': 2, 'd': 2}\n"
     ]
    }
   ],
   "source": [
    "name='Robin_Chaddha'\n",
    "a={}\n",
    "for i in name:\n",
    "    a[i]=name.count(i)\n",
    "print(a)"
   ]
  },
  {
   "cell_type": "code",
   "execution_count": 299,
   "id": "3824bebe",
   "metadata": {},
   "outputs": [
    {
     "name": "stdout",
     "output_type": "stream",
     "text": [
      "Help on class dict in module builtins:\n",
      "\n",
      "class dict(object)\n",
      " |  dict() -> new empty dictionary\n",
      " |  dict(mapping) -> new dictionary initialized from a mapping object's\n",
      " |      (key, value) pairs\n",
      " |  dict(iterable) -> new dictionary initialized as if via:\n",
      " |      d = {}\n",
      " |      for k, v in iterable:\n",
      " |          d[k] = v\n",
      " |  dict(**kwargs) -> new dictionary initialized with the name=value pairs\n",
      " |      in the keyword argument list.  For example:  dict(one=1, two=2)\n",
      " |  \n",
      " |  Built-in subclasses:\n",
      " |      StgDict\n",
      " |  \n",
      " |  Methods defined here:\n",
      " |  \n",
      " |  __contains__(self, key, /)\n",
      " |      True if the dictionary has the specified key, else False.\n",
      " |  \n",
      " |  __delitem__(self, key, /)\n",
      " |      Delete self[key].\n",
      " |  \n",
      " |  __eq__(self, value, /)\n",
      " |      Return self==value.\n",
      " |  \n",
      " |  __ge__(self, value, /)\n",
      " |      Return self>=value.\n",
      " |  \n",
      " |  __getattribute__(self, name, /)\n",
      " |      Return getattr(self, name).\n",
      " |  \n",
      " |  __getitem__(...)\n",
      " |      x.__getitem__(y) <==> x[y]\n",
      " |  \n",
      " |  __gt__(self, value, /)\n",
      " |      Return self>value.\n",
      " |  \n",
      " |  __init__(self, /, *args, **kwargs)\n",
      " |      Initialize self.  See help(type(self)) for accurate signature.\n",
      " |  \n",
      " |  __ior__(self, value, /)\n",
      " |      Return self|=value.\n",
      " |  \n",
      " |  __iter__(self, /)\n",
      " |      Implement iter(self).\n",
      " |  \n",
      " |  __le__(self, value, /)\n",
      " |      Return self<=value.\n",
      " |  \n",
      " |  __len__(self, /)\n",
      " |      Return len(self).\n",
      " |  \n",
      " |  __lt__(self, value, /)\n",
      " |      Return self<value.\n",
      " |  \n",
      " |  __ne__(self, value, /)\n",
      " |      Return self!=value.\n",
      " |  \n",
      " |  __or__(self, value, /)\n",
      " |      Return self|value.\n",
      " |  \n",
      " |  __repr__(self, /)\n",
      " |      Return repr(self).\n",
      " |  \n",
      " |  __reversed__(self, /)\n",
      " |      Return a reverse iterator over the dict keys.\n",
      " |  \n",
      " |  __ror__(self, value, /)\n",
      " |      Return value|self.\n",
      " |  \n",
      " |  __setitem__(self, key, value, /)\n",
      " |      Set self[key] to value.\n",
      " |  \n",
      " |  __sizeof__(...)\n",
      " |      D.__sizeof__() -> size of D in memory, in bytes\n",
      " |  \n",
      " |  clear(...)\n",
      " |      D.clear() -> None.  Remove all items from D.\n",
      " |  \n",
      " |  copy(...)\n",
      " |      D.copy() -> a shallow copy of D\n",
      " |  \n",
      " |  get(self, key, default=None, /)\n",
      " |      Return the value for key if key is in the dictionary, else default.\n",
      " |  \n",
      " |  items(...)\n",
      " |      D.items() -> a set-like object providing a view on D's items\n",
      " |  \n",
      " |  keys(...)\n",
      " |      D.keys() -> a set-like object providing a view on D's keys\n",
      " |  \n",
      " |  pop(...)\n",
      " |      D.pop(k[,d]) -> v, remove specified key and return the corresponding value.\n",
      " |      \n",
      " |      If the key is not found, return the default if given; otherwise,\n",
      " |      raise a KeyError.\n",
      " |  \n",
      " |  popitem(self, /)\n",
      " |      Remove and return a (key, value) pair as a 2-tuple.\n",
      " |      \n",
      " |      Pairs are returned in LIFO (last-in, first-out) order.\n",
      " |      Raises KeyError if the dict is empty.\n",
      " |  \n",
      " |  setdefault(self, key, default=None, /)\n",
      " |      Insert key with a value of default if key is not in the dictionary.\n",
      " |      \n",
      " |      Return the value for key if key is in the dictionary, else default.\n",
      " |  \n",
      " |  update(...)\n",
      " |      D.update([E, ]**F) -> None.  Update D from dict/iterable E and F.\n",
      " |      If E is present and has a .keys() method, then does:  for k in E: D[k] = E[k]\n",
      " |      If E is present and lacks a .keys() method, then does:  for k, v in E: D[k] = v\n",
      " |      In either case, this is followed by: for k in F:  D[k] = F[k]\n",
      " |  \n",
      " |  values(...)\n",
      " |      D.values() -> an object providing a view on D's values\n",
      " |  \n",
      " |  ----------------------------------------------------------------------\n",
      " |  Class methods defined here:\n",
      " |  \n",
      " |  __class_getitem__(...) from builtins.type\n",
      " |      See PEP 585\n",
      " |  \n",
      " |  fromkeys(iterable, value=None, /) from builtins.type\n",
      " |      Create a new dictionary with keys from iterable and values set to value.\n",
      " |  \n",
      " |  ----------------------------------------------------------------------\n",
      " |  Static methods defined here:\n",
      " |  \n",
      " |  __new__(*args, **kwargs) from builtins.type\n",
      " |      Create and return a new object.  See help(type) for accurate signature.\n",
      " |  \n",
      " |  ----------------------------------------------------------------------\n",
      " |  Data and other attributes defined here:\n",
      " |  \n",
      " |  __hash__ = None\n",
      "\n"
     ]
    }
   ],
   "source": [
    "help(dict)"
   ]
  },
  {
   "cell_type": "code",
   "execution_count": 300,
   "id": "5b2dd181",
   "metadata": {},
   "outputs": [
    {
     "name": "stdout",
     "output_type": "stream",
     "text": [
      "{'q': 1, 'i': 1, 'c': 1, 'k': 1, 'b': 1, 'w': 1, 'n': 1, 'f': 1, 'x': 1, 'j': 1, 'm': 1, 'p': 1, 's': 1, 'v': 1, 'e': 1, 'l': 1, 'z': 1, 'y': 1, 'd': 1, 'g': 1} \n",
      "\n",
      "{'a': 3, ' ': 8, 'q': 1, 'u': 2, 'i': 1, 'c': 1, 'k': 1, 'b': 1, 'r': 2, 'o': 4, 'w': 1, 'n': 1, 'f': 1, 'x': 1, 'j': 1, 'm': 1, 'p': 1, 's': 1, 'v': 1, 'e': 1, 'l': 1, 'z': 1, 'y': 1, 'd': 1, 'g': 1}\n"
     ]
    }
   ],
   "source": [
    "d={}\n",
    "D={}\n",
    "x='a quick brown fox jumps over a lazy dog'\n",
    "for i in x:\n",
    "    D[i]=x.count(i)\n",
    "    \n",
    "    if x.count(i)==1:\n",
    "        d[i]=x.count(i)\n",
    "print(d,'\\n')\n",
    "\n",
    "print(D)"
   ]
  },
  {
   "cell_type": "code",
   "execution_count": 301,
   "id": "5164e4bd",
   "metadata": {},
   "outputs": [
    {
     "name": "stdout",
     "output_type": "stream",
     "text": [
      "{'b': 1, 'r': 2, 'o': 2, 'n': 1, 't': 1, 's': 2, 'a': 2, 'u': 1}\n"
     ]
    }
   ],
   "source": [
    "a={}\n",
    "x='brontosauras'\n",
    "for i in x:\n",
    "    a[i]=x.count(i)\n",
    "    \n",
    "print(a)\n",
    "    "
   ]
  },
  {
   "cell_type": "code",
   "execution_count": 302,
   "id": "3f16ac42",
   "metadata": {},
   "outputs": [
    {
     "name": "stdout",
     "output_type": "stream",
     "text": [
      "{'a': 9, 'b': 12, 'c': 31}\n"
     ]
    }
   ],
   "source": [
    "x='aaaaaaaaabbbbbbbbbbbbccccccccccccccccccccccccccccccc'\n",
    "a={}\n",
    "\n",
    "for i in x:\n",
    "    a[i]=x.count(i)\n",
    "\n",
    "print(a)\n"
   ]
  },
  {
   "cell_type": "code",
   "execution_count": null,
   "id": "fccb88a1",
   "metadata": {},
   "outputs": [],
   "source": []
  }
 ],
 "metadata": {
  "kernelspec": {
   "display_name": "Python 3 (ipykernel)",
   "language": "python",
   "name": "python3"
  },
  "language_info": {
   "codemirror_mode": {
    "name": "ipython",
    "version": 3
   },
   "file_extension": ".py",
   "mimetype": "text/x-python",
   "name": "python",
   "nbconvert_exporter": "python",
   "pygments_lexer": "ipython3",
   "version": "3.10.9"
  }
 },
 "nbformat": 4,
 "nbformat_minor": 5
}
