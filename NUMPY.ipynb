{
 "cells": [
  {
   "cell_type": "markdown",
   "id": "f3aaf068",
   "metadata": {},
   "source": [
    "Numpy is the foundational Python library that is widely used for numerical calculations and linear algebra. ndarray and matrix objects are commonly used numpy objects. ndarray objects are created from the numpy ndarray class. matrix objects are created from the numpy matrix class. If you’re new to numpy, you may get confused with numpy ndarray and numpy matrix objects. "
   ]
  },
  {
   "cell_type": "code",
   "execution_count": 1,
   "id": "7d657224",
   "metadata": {},
   "outputs": [],
   "source": [
    "# Numpy- numerical python arryay manipuation\n",
    "# Pandas cleaning, preproceasing , isights finding\n",
    "# matplotlib\n",
    "# seaborn"
   ]
  },
  {
   "cell_type": "code",
   "execution_count": 1,
   "id": "710b4736",
   "metadata": {},
   "outputs": [],
   "source": [
    "# numpy numerical python\n",
    "import numpy as np"
   ]
  },
  {
   "cell_type": "code",
   "execution_count": 5,
   "id": "ec0bb16f",
   "metadata": {},
   "outputs": [
    {
     "name": "stdout",
     "output_type": "stream",
     "text": [
      "<class 'numpy.ndarray'>\n",
      "int32\n"
     ]
    }
   ],
   "source": [
    "Di=np.array([10,20,30,40])\n",
    "ti=np.array([5,10,15,20])\n",
    "sp=Di//ti\n",
    "print(type(sp))\n",
    "print(sp.dtype)"
   ]
  },
  {
   "cell_type": "code",
   "execution_count": 163,
   "id": "9bfa4b8f",
   "metadata": {},
   "outputs": [],
   "source": [
    "import numpy as np"
   ]
  },
  {
   "cell_type": "code",
   "execution_count": 164,
   "id": "22178dd2",
   "metadata": {},
   "outputs": [
    {
     "name": "stdout",
     "output_type": "stream",
     "text": [
      "[1 1 1]\n"
     ]
    }
   ],
   "source": [
    "l1=np.array([1,2,3])\n",
    "l2=np.array([1,2,3])\n",
    "# type(l1)\n",
    "print(l1//l2)"
   ]
  },
  {
   "cell_type": "code",
   "execution_count": 7,
   "id": "a5222a08",
   "metadata": {},
   "outputs": [
    {
     "name": "stdout",
     "output_type": "stream",
     "text": [
      "[[1 2 3 4 5]\n",
      " [6 7 8 9 0]]\n"
     ]
    }
   ],
   "source": [
    "X=np.array([[1,2,3,4,5],[6,7,8,9,0]])\n",
    "print(X)"
   ]
  },
  {
   "cell_type": "code",
   "execution_count": 167,
   "id": "7242af75",
   "metadata": {},
   "outputs": [
    {
     "name": "stdout",
     "output_type": "stream",
     "text": [
      "[[ 1  2  3  4]\n",
      " [ 5  6  7  8]\n",
      " [ 9 10 11 12]]\n",
      "<class 'numpy.ndarray'>\n"
     ]
    }
   ],
   "source": [
    "q=np.array([[1,2,3,4],[5,6,7,8],[9,10,11,12]])\n",
    "print(q)\n",
    "print(type(q))"
   ]
  },
  {
   "cell_type": "code",
   "execution_count": 172,
   "id": "45d49b4f",
   "metadata": {},
   "outputs": [
    {
     "name": "stdout",
     "output_type": "stream",
     "text": [
      "<class 'numpy.ndarray'>\n",
      "2\n",
      "int32\n",
      "12\n",
      "(3, 4)\n"
     ]
    }
   ],
   "source": [
    "print(type(q))\n",
    "print(q.ndim)\n",
    "print(q.dtype)\n",
    "print(q.size)\n",
    "print(q.shape)"
   ]
  },
  {
   "cell_type": "code",
   "execution_count": null,
   "id": "aa3e78ce",
   "metadata": {},
   "outputs": [],
   "source": []
  },
  {
   "cell_type": "code",
   "execution_count": 5,
   "id": "8dabb9c5",
   "metadata": {},
   "outputs": [
    {
     "name": "stdout",
     "output_type": "stream",
     "text": [
      "<class 'list'> [1, 2, 3, 4, 5, 6]\n",
      "6\n"
     ]
    }
   ],
   "source": [
    "a=[1,2,3,4,5,6]\n",
    "print(type(a),a)\n",
    "print(len(a))\n"
   ]
  },
  {
   "cell_type": "code",
   "execution_count": 9,
   "id": "345786fe",
   "metadata": {},
   "outputs": [
    {
     "name": "stdout",
     "output_type": "stream",
     "text": [
      "<class 'numpy.ndarray'>\n",
      "1\n"
     ]
    }
   ],
   "source": [
    "a=np.array([1,2,3,1,2,45,2,44,2,4])\n",
    "print(type(a))\n",
    "print(a.ndim) # no of dimensions\n",
    "# print(a.size) # no of elements in an array\n",
    "# print(a.dtype)\n",
    "# print(a.shape)"
   ]
  },
  {
   "cell_type": "code",
   "execution_count": 10,
   "id": "68d17421",
   "metadata": {},
   "outputs": [
    {
     "name": "stdout",
     "output_type": "stream",
     "text": [
      "<class 'numpy.ndarray'>\n",
      "2\n"
     ]
    }
   ],
   "source": [
    "import numpy as np\n",
    "x=np.array([[1,2,3,4,5],[6,7,8,9.6,10],[11,12,13,14,15],[1,2,3,4,5],[5,6,7,8,9]])\n",
    "print(type(x))\n",
    "# print(x.size)\n",
    "print(x.ndim)\n",
    "# print(x[0][0][2][1:4])\n",
    "# print(x.dtype)\n",
    "# print(len(x))\n",
    "# print(x.size)\n",
    "# print(x.shape)"
   ]
  },
  {
   "cell_type": "code",
   "execution_count": 9,
   "id": "ce803ecd",
   "metadata": {},
   "outputs": [
    {
     "name": "stdout",
     "output_type": "stream",
     "text": [
      "140704658040656\n",
      "140704658040752\n",
      "False\n"
     ]
    }
   ],
   "source": [
    "a=2\n",
    "b=5\n",
    "print(id(a))\n",
    "print(id(b))\n",
    "print(a is b)"
   ]
  },
  {
   "cell_type": "markdown",
   "id": "54773e9b",
   "metadata": {},
   "source": [
    "- ndim\n",
    "- .shape\n",
    "- .size\n",
    "- dtype"
   ]
  },
  {
   "cell_type": "code",
   "execution_count": 80,
   "id": "d8fcadea",
   "metadata": {},
   "outputs": [
    {
     "name": "stdout",
     "output_type": "stream",
     "text": [
      "1\n",
      "(6,)\n",
      "6\n"
     ]
    }
   ],
   "source": [
    "x=np.array([1,2,3,4,5,6])\n",
    "# print(x)\n",
    "# print(type(x),x)\n",
    "# print(len(x))\n",
    "print(x.ndim)\n",
    "print(x.shape)\n",
    "print(x.size)"
   ]
  },
  {
   "cell_type": "code",
   "execution_count": 6,
   "id": "dfeeddfc",
   "metadata": {},
   "outputs": [
    {
     "name": "stdout",
     "output_type": "stream",
     "text": [
      "(1, 1, 1, 1, 6)\n"
     ]
    }
   ],
   "source": [
    "x=np.array([[1,2,3,4,5,6]])\n",
    "# print(x)\n",
    "y=np.array([[[[[1,2,39,4,5,6]]]]])\n",
    "z=np.array([[1,2,3],[42,5,6],[7,0,9],[10,11,12]])\n",
    "# a=np.array([[[[[[[[[[1,2,3,4,5,6,7],[8,9,10,11,12,14,13]]]]]]]]]])\n",
    "# print(a)\n",
    "# print(y.shape)\n",
    "# print(len(x))"
   ]
  },
  {
   "cell_type": "code",
   "execution_count": 92,
   "id": "9b69ca9c",
   "metadata": {},
   "outputs": [
    {
     "name": "stdout",
     "output_type": "stream",
     "text": [
      "6\n",
      "6\n",
      "12\n",
      "14\n",
      "14\n"
     ]
    }
   ],
   "source": [
    "# ndim means no of dimensions\n",
    "# basicaly it represents the axis of the array\n",
    "# print(x.ndim)\n",
    "print(y.ndim)\n",
    "# print(z.ndim)\n",
    "# print(z.shape)\n",
    "print(x.size)\n",
    "print(y.size)\n",
    "print(z.size)\n",
    "print(a.size)\n",
    "print(a.size)"
   ]
  },
  {
   "cell_type": "code",
   "execution_count": 29,
   "id": "4d6177c3",
   "metadata": {},
   "outputs": [
    {
     "data": {
      "text/plain": [
       "(1, 2, 3)"
      ]
     },
     "execution_count": 29,
     "metadata": {},
     "output_type": "execute_result"
    }
   ],
   "source": [
    "x=np.array([[[1,2,34],[4,6,7]]])\n",
    "print(x.)\n",
    "x.shape"
   ]
  },
  {
   "cell_type": "code",
   "execution_count": 93,
   "id": "e3daff82",
   "metadata": {},
   "outputs": [
    {
     "name": "stdout",
     "output_type": "stream",
     "text": [
      "(1, 6)\n",
      "(1, 1, 6)\n",
      "(4, 3)\n",
      "(1, 1, 1, 1, 1, 1, 1, 1, 2, 7)\n"
     ]
    }
   ],
   "source": [
    "# shape tells the rows and columns in a array\n",
    "print(x.shape)\n",
    "print(y.shape)\n",
    "print(z.shape)\n",
    "print(a.shape)"
   ]
  },
  {
   "cell_type": "code",
   "execution_count": 15,
   "id": "bf1032fe",
   "metadata": {},
   "outputs": [
    {
     "name": "stdout",
     "output_type": "stream",
     "text": [
      "6\n",
      "6\n",
      "12\n",
      "14\n"
     ]
    }
   ],
   "source": [
    "# size tells the total elements in a array\n",
    "print(x.size)\n",
    "print(y.size)\n",
    "print(z.size)\n",
    "print(a.size)"
   ]
  },
  {
   "cell_type": "code",
   "execution_count": 105,
   "id": "49cfd2e1",
   "metadata": {},
   "outputs": [
    {
     "name": "stdout",
     "output_type": "stream",
     "text": [
      "<U9\n"
     ]
    }
   ],
   "source": [
    "# dtype represents the data type of the elements un a array\n",
    "k=np.array([[1.0,2.0,3.0,4.0]])\n",
    "L=np.array([[[1,2,3,4,5]]])\n",
    "S=np.array([['d','e','e','p','a','n','s','h','u']])\n",
    "C=np.array([[[['Delhi','Mumbai','Hyderabad','Chennai','Agra']]]])\n",
    "# print(k.dtype)\n",
    "# print(L.dtype)\n",
    "# print(S.dtype)\n",
    "print(C.dtype)"
   ]
  },
  {
   "cell_type": "code",
   "execution_count": 114,
   "id": "d5de2c5f",
   "metadata": {},
   "outputs": [
    {
     "name": "stdout",
     "output_type": "stream",
     "text": [
      "Delhi\n",
      "5\n",
      "Goa\n",
      "3\n",
      "Hyderabad\n",
      "9\n",
      "Chennai\n",
      "7\n",
      "Agra\n",
      "4\n"
     ]
    }
   ],
   "source": [
    "\n",
    "for i in C:\n",
    "    for j in i:\n",
    "        for k in j:\n",
    "                \n",
    "            \n",
    "            for l in k:\n",
    "                \n",
    "                l=l.replace('Mumbai','Goa')\n",
    "                co=0\n",
    "                print(l)\n",
    "                for m in l:\n",
    "                    co=co+1\n",
    "                print(co)\n",
    "                "
   ]
  },
  {
   "cell_type": "code",
   "execution_count": 18,
   "id": "cc3dbd85",
   "metadata": {},
   "outputs": [
    {
     "data": {
      "text/plain": [
       "[2, 4, 6, 8, 10, 1, 3, 5, 7, 9]"
      ]
     },
     "execution_count": 18,
     "metadata": {},
     "output_type": "execute_result"
    }
   ],
   "source": [
    "# Mathematical operations \n",
    "list1=[2,4,6,8,10]\n",
    "list2=[1,3,5,7,9]\n",
    "list1+list2 #concatenation"
   ]
  },
  {
   "cell_type": "code",
   "execution_count": 19,
   "id": "22921fff",
   "metadata": {},
   "outputs": [
    {
     "name": "stdout",
     "output_type": "stream",
     "text": [
      "[ 3  7 11 15 19]\n",
      "[-1 -1 -1 -1 -1]\n"
     ]
    }
   ],
   "source": [
    "list1=np.array([2,4,6,8,10])\n",
    "list2=np.array([1,3,5,7,9])\n",
    "print(list1+list2)  # Operation in the Array\n",
    "print(list2-list1)"
   ]
  },
  {
   "cell_type": "code",
   "execution_count": 20,
   "id": "ae4f2058",
   "metadata": {},
   "outputs": [
    {
     "ename": "TypeError",
     "evalue": "unsupported operand type(s) for /: 'list' and 'list'",
     "output_type": "error",
     "traceback": [
      "\u001b[1;31m---------------------------------------------------------------------------\u001b[0m",
      "\u001b[1;31mTypeError\u001b[0m                                 Traceback (most recent call last)",
      "\u001b[1;32m<ipython-input-20-715ded149677>\u001b[0m in \u001b[0;36m<module>\u001b[1;34m\u001b[0m\n\u001b[0;32m      1\u001b[0m \u001b[0mD\u001b[0m\u001b[1;33m=\u001b[0m\u001b[1;33m[\u001b[0m\u001b[1;36m10\u001b[0m\u001b[1;33m,\u001b[0m\u001b[1;36m20\u001b[0m\u001b[1;33m,\u001b[0m\u001b[1;36m30\u001b[0m\u001b[1;33m,\u001b[0m\u001b[1;36m40\u001b[0m\u001b[1;33m,\u001b[0m\u001b[1;36m50\u001b[0m\u001b[1;33m]\u001b[0m\u001b[1;33m\u001b[0m\u001b[1;33m\u001b[0m\u001b[0m\n\u001b[0;32m      2\u001b[0m \u001b[0mT\u001b[0m\u001b[1;33m=\u001b[0m\u001b[1;33m[\u001b[0m\u001b[1;36m5\u001b[0m\u001b[1;33m,\u001b[0m\u001b[1;36m10\u001b[0m\u001b[1;33m,\u001b[0m\u001b[1;36m15\u001b[0m\u001b[1;33m,\u001b[0m\u001b[1;36m20\u001b[0m\u001b[1;33m,\u001b[0m\u001b[1;36m25\u001b[0m\u001b[1;33m]\u001b[0m\u001b[1;33m\u001b[0m\u001b[1;33m\u001b[0m\u001b[0m\n\u001b[1;32m----> 3\u001b[1;33m \u001b[0mS\u001b[0m\u001b[1;33m=\u001b[0m\u001b[0mD\u001b[0m\u001b[1;33m/\u001b[0m\u001b[0mT\u001b[0m\u001b[1;33m\u001b[0m\u001b[1;33m\u001b[0m\u001b[0m\n\u001b[0m\u001b[0;32m      4\u001b[0m \u001b[0mprint\u001b[0m\u001b[1;33m(\u001b[0m\u001b[0mS\u001b[0m\u001b[1;33m)\u001b[0m\u001b[1;33m\u001b[0m\u001b[1;33m\u001b[0m\u001b[0m\n",
      "\u001b[1;31mTypeError\u001b[0m: unsupported operand type(s) for /: 'list' and 'list'"
     ]
    }
   ],
   "source": [
    "D=[10,20,30,40,50]\n",
    "T=[5,10,15,20,25]\n",
    "S=D/T\n",
    "print(S)"
   ]
  },
  {
   "cell_type": "code",
   "execution_count": 23,
   "id": "64a60bf9",
   "metadata": {},
   "outputs": [],
   "source": [
    "D=np.array([10,20,30,40,50])\n",
    "T=np.array([5,10,15,20,25])\n",
    "S=D/T"
   ]
  },
  {
   "cell_type": "code",
   "execution_count": 24,
   "id": "3ea4856a",
   "metadata": {},
   "outputs": [
    {
     "data": {
      "text/plain": [
       "array([2., 2., 2., 2., 2.])"
      ]
     },
     "execution_count": 24,
     "metadata": {},
     "output_type": "execute_result"
    }
   ],
   "source": [
    "S"
   ]
  },
  {
   "cell_type": "markdown",
   "id": "ba9213bf",
   "metadata": {},
   "source": [
    "## Indexing and Slicing"
   ]
  },
  {
   "cell_type": "code",
   "execution_count": 115,
   "id": "2e480b83",
   "metadata": {},
   "outputs": [
    {
     "name": "stdout",
     "output_type": "stream",
     "text": [
      "[[[1 2 3 4 5 6 7 8 9]]]\n",
      "3\n",
      "(1, 1, 9)\n",
      "9\n",
      "int32\n"
     ]
    }
   ],
   "source": [
    "a=np.array([[[1,2,3,4,5,6,7,8,9]]])\n",
    "print(a)\n",
    "print(a.ndim)\n",
    "print(a.shape)\n",
    "print(a.size)\n",
    "print(a.dtype)"
   ]
  },
  {
   "cell_type": "code",
   "execution_count": 116,
   "id": "47ef9cbb",
   "metadata": {},
   "outputs": [
    {
     "name": "stdout",
     "output_type": "stream",
     "text": [
      "9\n"
     ]
    }
   ],
   "source": [
    "print(a[0][0][-1])"
   ]
  },
  {
   "cell_type": "code",
   "execution_count": 38,
   "id": "c6e2ca3a",
   "metadata": {},
   "outputs": [
    {
     "data": {
      "text/plain": [
       "7"
      ]
     },
     "execution_count": 38,
     "metadata": {},
     "output_type": "execute_result"
    }
   ],
   "source": [
    "a[0][0][6]"
   ]
  },
  {
   "cell_type": "code",
   "execution_count": null,
   "id": "24b47202",
   "metadata": {},
   "outputs": [],
   "source": []
  },
  {
   "cell_type": "code",
   "execution_count": 40,
   "id": "d6301b09",
   "metadata": {},
   "outputs": [
    {
     "name": "stdout",
     "output_type": "stream",
     "text": [
      "(1, 1, 1, 1, 1, 1, 1, 4)\n"
     ]
    }
   ],
   "source": [
    "b=np.array([[[[[[[['Delhi','Agra','Hyderabda','Mumbai']]]]]]]])\n",
    "print(b.shape)"
   ]
  },
  {
   "cell_type": "code",
   "execution_count": 117,
   "id": "d0fdd2ca",
   "metadata": {},
   "outputs": [
    {
     "name": "stdout",
     "output_type": "stream",
     "text": [
      "r\n",
      "D\n",
      "b\n"
     ]
    }
   ],
   "source": [
    "print(b[0][0][0][0][0][0][0][1][-2])\n",
    "print(b[0][0][0][0][0][0][0][0][0])\n",
    "print(b[0][0][0][0][0][0][0][-1][-3])\n"
   ]
  },
  {
   "cell_type": "code",
   "execution_count": 118,
   "id": "94c9c1a6",
   "metadata": {},
   "outputs": [
    {
     "name": "stdout",
     "output_type": "stream",
     "text": [
      "[[ 1  2  3]\n",
      " [ 4  5  6]\n",
      " [ 7  8  9]\n",
      " [11 12  3]]\n",
      "(4, 3)\n"
     ]
    }
   ],
   "source": [
    "c=np.array([[1,2,3],[4,5,6],[7,8,9],[11,12,3]])\n",
    "print(c)\n",
    "print(c.shape)"
   ]
  },
  {
   "cell_type": "code",
   "execution_count": 120,
   "id": "06f41217",
   "metadata": {},
   "outputs": [
    {
     "name": "stdout",
     "output_type": "stream",
     "text": [
      "2\n",
      "8\n"
     ]
    }
   ],
   "source": [
    "# print(c[2])\n",
    "print(c[-4][-2])\n",
    "print(c[2][-2])\n"
   ]
  },
  {
   "cell_type": "code",
   "execution_count": 32,
   "id": "68979b80",
   "metadata": {},
   "outputs": [],
   "source": [
    "# baisc \n",
    "# operator\n",
    "# if else\n",
    "# for loop, nested loop\n",
    "# data type, str, list, dict\n"
   ]
  },
  {
   "cell_type": "code",
   "execution_count": 48,
   "id": "f917e292",
   "metadata": {},
   "outputs": [
    {
     "name": "stdout",
     "output_type": "stream",
     "text": [
      "[[[[ 1  2  3]\n",
      "   [ 4  5  6]\n",
      "   [ 7  8  9]\n",
      "   [11 12  3]]]]\n",
      "(1, 1, 4, 3)\n",
      "int32\n"
     ]
    }
   ],
   "source": [
    "d=np.array([[[[1,2,3],[4,5,6],[7,8,9],[11,12,3]]]])\n",
    "print(d)\n",
    "print(d.shape)\n",
    "print(d.dtype)"
   ]
  },
  {
   "cell_type": "code",
   "execution_count": 49,
   "id": "e670a84c",
   "metadata": {},
   "outputs": [
    {
     "name": "stdout",
     "output_type": "stream",
     "text": [
      "[1 2 3]\n",
      "7\n"
     ]
    }
   ],
   "source": [
    "print(d[0][0][0]) #\n",
    "print(d[0][0][-2][-3])"
   ]
  },
  {
   "cell_type": "code",
   "execution_count": 35,
   "id": "2f5d4381",
   "metadata": {},
   "outputs": [],
   "source": [
    "e=np.array([[[[[[[[[[[[[1,2,3,4,5],[6,7,8,9,0],[11,12,13,14,15],[16,17,18,19,20]]]]]]]]]]]]])"
   ]
  },
  {
   "cell_type": "code",
   "execution_count": 36,
   "id": "08b08dea",
   "metadata": {},
   "outputs": [
    {
     "name": "stdout",
     "output_type": "stream",
     "text": [
      "0\n"
     ]
    }
   ],
   "source": [
    "print(e[0][0][0][0][0][0][0][0][0][0][0][-3][4])"
   ]
  },
  {
   "cell_type": "code",
   "execution_count": 37,
   "id": "e5ed48fa",
   "metadata": {},
   "outputs": [],
   "source": [
    "f=np.array([[[[1,2,3,4,5],[6,7,8,9,0],[11,12,13,14,15],[16,17,18,19,20]]]])"
   ]
  },
  {
   "cell_type": "code",
   "execution_count": 38,
   "id": "0fdb53c1",
   "metadata": {},
   "outputs": [],
   "source": [
    "k=[[[[1,2,3,4,5],[6,7,8,9,0],[11,12,13,14,15],[16,17,18,19,20]]]]\n",
    "k[0][0].reverse()"
   ]
  },
  {
   "cell_type": "code",
   "execution_count": 39,
   "id": "d265a7dd",
   "metadata": {},
   "outputs": [
    {
     "name": "stdout",
     "output_type": "stream",
     "text": [
      "[[[[16, 17, 18, 19, 20], [11, 12, 13, 14, 15], [6, 7, 8, 9, 0], [1, 2, 3, 4, 5]]]]\n"
     ]
    }
   ],
   "source": [
    "print(k)"
   ]
  },
  {
   "cell_type": "code",
   "execution_count": 40,
   "id": "1a465b94",
   "metadata": {},
   "outputs": [
    {
     "name": "stdout",
     "output_type": "stream",
     "text": [
      "[11 12 13 14 15]\n",
      "[1 2 3 4 5]\n",
      "[6 7 8 9 0]\n",
      "18\n"
     ]
    }
   ],
   "source": [
    "print(f[0][0][-2])\n",
    "print(f[-1][-1][-4])\n",
    "print(f[0][0][1])\n",
    "print(f[0][-1][3][2])"
   ]
  },
  {
   "cell_type": "code",
   "execution_count": 41,
   "id": "d434b21b",
   "metadata": {},
   "outputs": [
    {
     "name": "stdout",
     "output_type": "stream",
     "text": [
      "(1, 2, 2, 5)\n"
     ]
    }
   ],
   "source": [
    "g=np.array([[[[1,2,3,4,5],[6,7,8,9,0]],[[11,12,13,14,15],[16,17,18,19,20]]]])\n",
    "print(g.shape)"
   ]
  },
  {
   "cell_type": "code",
   "execution_count": 42,
   "id": "ff2b0691",
   "metadata": {},
   "outputs": [
    {
     "name": "stdout",
     "output_type": "stream",
     "text": [
      "[[[[ 1  2  3  4  5]\n",
      "   [ 6  7  8  9  0]]\n",
      "\n",
      "  [[11 12 13 14 15]\n",
      "   [16 17 18 19 20]]]]\n"
     ]
    }
   ],
   "source": [
    "print(g)"
   ]
  },
  {
   "cell_type": "code",
   "execution_count": 43,
   "id": "351b84ac",
   "metadata": {},
   "outputs": [
    {
     "name": "stdout",
     "output_type": "stream",
     "text": [
      "[[1 2 3 4 5]\n",
      " [6 7 8 9 0]]\n"
     ]
    }
   ],
   "source": [
    "print(g[0][0][1][4])\n",
    "# print(g[-1][-2][-2][-3])\n",
    "# print(g[0][1][0][1])\n",
    "# print(g[-1][0][-1])\n",
    "# print(g[0][1][0][4])\n",
    "# print(g[-1][-2][1][3])\n",
    "# print(g[-1][-1][-1][-1])\n",
    "# print(g[0][0][0][0])\n",
    "print(g[0][-2])"
   ]
  },
  {
   "cell_type": "markdown",
   "id": "636901de",
   "metadata": {},
   "source": [
    "### slicing"
   ]
  },
  {
   "cell_type": "code",
   "execution_count": 122,
   "id": "85f7ac48",
   "metadata": {},
   "outputs": [
    {
     "name": "stdout",
     "output_type": "stream",
     "text": [
      "(1, 2, 2, 5)\n",
      "[[[[ 1  2  3  4  5]\n",
      "   [ 6  7  8  9  0]]\n",
      "\n",
      "  [[11 12 13 14 15]\n",
      "   [16 17 18 19 20]]]]\n"
     ]
    }
   ],
   "source": [
    "g=np.array([[[[1,2,3,4,5],[6,7,8,9,0]],[[11,12,13,14,15],[16,17,18,19,20]]]])\n",
    "print(g.shape)\n",
    "print(g)"
   ]
  },
  {
   "cell_type": "code",
   "execution_count": 125,
   "id": "c993c797",
   "metadata": {},
   "outputs": [
    {
     "name": "stdout",
     "output_type": "stream",
     "text": [
      "[[[[ 1  2  3  4  5]\n",
      "   [ 6  7  8  9  0]]\n",
      "\n",
      "  [[11 12 13 14 15]\n",
      "   [16 17 18 19 20]]]]\n"
     ]
    }
   ],
   "source": [
    "print(g)"
   ]
  },
  {
   "cell_type": "code",
   "execution_count": 148,
   "id": "2def57f6",
   "metadata": {},
   "outputs": [
    {
     "name": "stdout",
     "output_type": "stream",
     "text": [
      "[[13 14]\n",
      " [18 19]]\n",
      "(1, 2, 2, 5)\n"
     ]
    }
   ],
   "source": [
    "# [rows,col]\n",
    "# [row:row,col:col]\n",
    "\n",
    "# print(g[0][0:])\n",
    "# print(g[:1])\n",
    "# print(g[0:1])\n",
    "# print(g[0][0:])\n",
    "# print(g[:])\n",
    "# print(g[4:])\n",
    "# print(type(g[4:]))\n",
    "# # print(g[-2:])\n",
    "# print(g[-1][-1][0][0:4])\n",
    "# print(g[0][0][:,3:5])\n",
    "# print(g[-1][-2][-2:-1,0:2])\n",
    "# print(g[-1][-2][-2:,0:2])\n",
    "print(g[0][-1][:,2:4])\n",
    "print(g.shape)"
   ]
  },
  {
   "cell_type": "code",
   "execution_count": 19,
   "id": "216ed4aa",
   "metadata": {},
   "outputs": [
    {
     "name": "stdout",
     "output_type": "stream",
     "text": [
      "[[[[[12 13 14 15]\n",
      "    [16 17 18 19]]\n",
      "\n",
      "   [[20 21 22 23]\n",
      "    [24 25 26 27]]]]]\n"
     ]
    }
   ],
   "source": [
    "h=np.array([[[[[12,13,14,15],[16,17,18,19]],[[20,21,22,23],[24,25,26,27]]]]])\n",
    "print(h)\n",
    "# print(h.shape)"
   ]
  },
  {
   "cell_type": "code",
   "execution_count": 24,
   "id": "67725bd4",
   "metadata": {},
   "outputs": [
    {
     "name": "stdout",
     "output_type": "stream",
     "text": [
      "[[23]\n",
      " [27]] [[12]\n",
      " [16]]\n"
     ]
    }
   ],
   "source": [
    "# print(h[0][0][0][1,-1])\n",
    "# print(h[0][0][0][1][-1])\n",
    "# print(h[0][0][0:4][0][0:2,-3:])\n",
    "# print(h[-1][-1][-1][-2:,-1:])\n",
    "# print(h[0][0][0][0:2,0:2],h[0][0][-1][-2:,-4:-2])\n",
    "# print(h[0][0][0][-1],h[-1][0][-1][-2])\n",
    "# print(h[0][0][0][0:,1:2],h[0][0][1][-2:,-3:-2])\n",
    "# print(h[0][0][0][0:,1:2],h[0][0][0][0:,2:3])\n",
    "# print(h[0][0][0][:,:-1])\n",
    "print(h[0][0][-1][:,-1:],h[-1][-1][0][0:3,-4:-3])"
   ]
  },
  {
   "cell_type": "code",
   "execution_count": 26,
   "id": "6b7881b2",
   "metadata": {},
   "outputs": [
    {
     "data": {
      "text/plain": [
       "(1, 1, 3, 3, 1)"
      ]
     },
     "execution_count": 26,
     "metadata": {},
     "output_type": "execute_result"
    }
   ],
   "source": [
    "Z=np.array([[[[[1],[1],[1]],[[2],[2],[2]],[[3],[3],[3]]]]])\n",
    "Z.shape"
   ]
  },
  {
   "cell_type": "code",
   "execution_count": 49,
   "id": "fd3c0f26",
   "metadata": {},
   "outputs": [],
   "source": [
    "t=np.array([[[[[1,2,3],[4,5,6],[7,8,9]],[[0,0,0],[1,1,1],[2,2,2]],[[3,3,3],[4,4,4],[9,9,9]]]]])"
   ]
  },
  {
   "cell_type": "code",
   "execution_count": 50,
   "id": "b9a2ca08",
   "metadata": {},
   "outputs": [
    {
     "data": {
      "text/plain": [
       "(1, 1, 3, 3, 3)"
      ]
     },
     "execution_count": 50,
     "metadata": {},
     "output_type": "execute_result"
    }
   ],
   "source": [
    "t.shape"
   ]
  },
  {
   "cell_type": "code",
   "execution_count": null,
   "id": "a0f88a4f",
   "metadata": {},
   "outputs": [],
   "source": []
  },
  {
   "cell_type": "code",
   "execution_count": 51,
   "id": "7fbacf21",
   "metadata": {},
   "outputs": [
    {
     "data": {
      "text/plain": [
       "(1, 1, 4)"
      ]
     },
     "execution_count": 51,
     "metadata": {},
     "output_type": "execute_result"
    }
   ],
   "source": [
    "import numpy as np\n",
    "x=np.array([[[1,2,3,4]]])\n",
    "x.shape\n",
    "# (1,1,1,3,3,1)\n",
    "#(1,1,1,3,3,3)"
   ]
  },
  {
   "cell_type": "code",
   "execution_count": 52,
   "id": "26641c7c",
   "metadata": {},
   "outputs": [
    {
     "data": {
      "text/plain": [
       "(1, 1, 1, 3, 3, 1)"
      ]
     },
     "execution_count": 52,
     "metadata": {},
     "output_type": "execute_result"
    }
   ],
   "source": [
    "t=np.array([[[[[[1],[10],[100]],[[2],[20],[200]],[[3],[30],[300]]]]]])\n",
    "t.shape"
   ]
  },
  {
   "cell_type": "code",
   "execution_count": 53,
   "id": "796fc956",
   "metadata": {},
   "outputs": [
    {
     "name": "stdout",
     "output_type": "stream",
     "text": [
      "(1, 1, 3, 3, 3)\n"
     ]
    }
   ],
   "source": [
    "Q=np.array([[[[[1,1,1],[2,2,2],[3,3,3]],[[4,4,4],[5,5,5],[6,6,6]],[[7,7,7],[8,8,8],[9,9,9]]]]])\n",
    "print(Q.shape)"
   ]
  },
  {
   "cell_type": "code",
   "execution_count": 54,
   "id": "3602061e",
   "metadata": {},
   "outputs": [],
   "source": [
    "l1=[44,56,67,78,89,90]\n",
    "L1=l1.copy()\n"
   ]
  },
  {
   "cell_type": "code",
   "execution_count": 55,
   "id": "6240be16",
   "metadata": {},
   "outputs": [
    {
     "name": "stdout",
     "output_type": "stream",
     "text": [
      "[44, 56, 67, 78, 89, 90]\n",
      "[44, 56, 67, 78, 89, 90]\n"
     ]
    }
   ],
   "source": [
    "print(L1)\n",
    "print(l1)"
   ]
  },
  {
   "cell_type": "code",
   "execution_count": 56,
   "id": "55c709e7",
   "metadata": {},
   "outputs": [],
   "source": [
    "l1.clear()"
   ]
  },
  {
   "cell_type": "code",
   "execution_count": 57,
   "id": "f766a4be",
   "metadata": {},
   "outputs": [
    {
     "name": "stdout",
     "output_type": "stream",
     "text": [
      "[44, 56, 67, 78, 89, 90]\n"
     ]
    }
   ],
   "source": [
    "print(L1)"
   ]
  },
  {
   "cell_type": "code",
   "execution_count": 58,
   "id": "927e0349",
   "metadata": {},
   "outputs": [
    {
     "name": "stdout",
     "output_type": "stream",
     "text": [
      "[]\n"
     ]
    }
   ],
   "source": [
    "print(l1) # Deep copy"
   ]
  },
  {
   "cell_type": "code",
   "execution_count": 59,
   "id": "e7360edf",
   "metadata": {},
   "outputs": [],
   "source": [
    "# Condition in Array "
   ]
  },
  {
   "cell_type": "code",
   "execution_count": 34,
   "id": "84953809",
   "metadata": {},
   "outputs": [
    {
     "data": {
      "text/plain": [
       "(2, 6)"
      ]
     },
     "execution_count": 34,
     "metadata": {},
     "output_type": "execute_result"
    }
   ],
   "source": [
    "marks_of_2students=np.array([[44,56,67,78,89,90],[98,76,54,43,59,89]])\n",
    "marks_of_2students.shape"
   ]
  },
  {
   "cell_type": "code",
   "execution_count": 35,
   "id": "e22fe598",
   "metadata": {},
   "outputs": [],
   "source": [
    "passing_marks=60"
   ]
  },
  {
   "cell_type": "code",
   "execution_count": 36,
   "id": "7298c3a1",
   "metadata": {},
   "outputs": [
    {
     "data": {
      "text/plain": [
       "array([[False, False,  True,  True,  True,  True],\n",
       "       [ True,  True, False, False, False,  True]])"
      ]
     },
     "execution_count": 36,
     "metadata": {},
     "output_type": "execute_result"
    }
   ],
   "source": [
    "marks_of_2students>passing_marks"
   ]
  },
  {
   "cell_type": "code",
   "execution_count": 37,
   "id": "fb7a4186",
   "metadata": {},
   "outputs": [
    {
     "name": "stdout",
     "output_type": "stream",
     "text": [
      "<class 'numpy.ndarray'> [67 78 89 90 98 76 89]\n"
     ]
    }
   ],
   "source": [
    "# To see the elements of the array which satiesfies the condition\n",
    "df=marks_of_2students[marks_of_2students>passing_marks]\n",
    "print(type(df),df)"
   ]
  },
  {
   "cell_type": "markdown",
   "id": "ad57530e",
   "metadata": {},
   "source": [
    "### Shallow copy vs deep copy"
   ]
  },
  {
   "cell_type": "code",
   "execution_count": 48,
   "id": "5518bec4",
   "metadata": {},
   "outputs": [
    {
     "name": "stdout",
     "output_type": "stream",
     "text": [
      "[['agra' 'aligarh' 'kanpur']\n",
      " ['lucknow' 'brailley' 'mirzapur']]\n",
      "[['agra' 'aligarh' 'kanpur']\n",
      " ['lucknow' 'brailley' 'mirzapur']]\n"
     ]
    }
   ],
   "source": [
    "UP=np.array([['agra','aligarh','kanpur'],['lucknow','brailley','mirzapur']])\n",
    "city=UP # shallow copy it chnages in original array\n",
    "print(city)\n",
    "print(UP)"
   ]
  },
  {
   "cell_type": "code",
   "execution_count": 49,
   "id": "780421e0",
   "metadata": {},
   "outputs": [],
   "source": [
    "city[1][1]='varanasi'"
   ]
  },
  {
   "cell_type": "code",
   "execution_count": 50,
   "id": "9bb5997f",
   "metadata": {},
   "outputs": [
    {
     "name": "stdout",
     "output_type": "stream",
     "text": [
      "[['agra' 'aligarh' 'kanpur']\n",
      " ['lucknow' 'varanasi' 'mirzapur']]\n"
     ]
    }
   ],
   "source": [
    "print(city)"
   ]
  },
  {
   "cell_type": "code",
   "execution_count": 51,
   "id": "28b2209f",
   "metadata": {},
   "outputs": [
    {
     "name": "stdout",
     "output_type": "stream",
     "text": [
      "[['agra' 'aligarh' 'kanpur']\n",
      " ['lucknow' 'varanasi' 'mirzapur']]\n"
     ]
    }
   ],
   "source": [
    "print(UP)\n",
    "# print(id(UP))\n",
    "# print(id(city))"
   ]
  },
  {
   "cell_type": "code",
   "execution_count": 52,
   "id": "62186891",
   "metadata": {},
   "outputs": [
    {
     "name": "stdout",
     "output_type": "stream",
     "text": [
      "[[['bikaner' 'jodhpur']\n",
      "  ['udaipur' 'bharatpur']\n",
      "  ['alwar' 'jaipur']]]\n",
      "[[['bikaner' 'jodhpur']\n",
      "  ['udaipur' 'bharatpur']\n",
      "  ['alwar' 'jaipur']]]\n",
      "(1, 3, 2)\n"
     ]
    }
   ],
   "source": [
    "Rajasthan=np.array([[['bikaner','jodhpur'],['udaipur','bharatpur'],['alwar','jaipur']]])\n",
    "Rjcity=Rajasthan.copy()  # deep copy id doenn't change in original array\n",
    "print(Rajasthan)\n",
    "print(Rjcity)\n",
    "# print(Rajasthan.shape)"
   ]
  },
  {
   "cell_type": "code",
   "execution_count": 69,
   "id": "d39cdc97",
   "metadata": {},
   "outputs": [
    {
     "name": "stdout",
     "output_type": "stream",
     "text": [
      "[['bikaner' 'jodhpur']\n",
      " ['udaipur' 'dholpur']\n",
      " ['alwar' 'jaipur']]\n"
     ]
    }
   ],
   "source": [
    "Rjcity[1][1]='dholpur'\n",
    "print(Rjcity)"
   ]
  },
  {
   "cell_type": "code",
   "execution_count": 70,
   "id": "15a972ad",
   "metadata": {},
   "outputs": [
    {
     "name": "stdout",
     "output_type": "stream",
     "text": [
      "[['bikaner' 'jodhpur']\n",
      " ['udaipur' 'bharatpur']\n",
      " ['alwar' 'jaipur']]\n"
     ]
    }
   ],
   "source": [
    "print(Rajasthan)"
   ]
  },
  {
   "cell_type": "code",
   "execution_count": 71,
   "id": "d58bb350",
   "metadata": {},
   "outputs": [
    {
     "name": "stdout",
     "output_type": "stream",
     "text": [
      "2327209569712\n",
      "2327209569616\n"
     ]
    }
   ],
   "source": [
    "print(id(Rajasthan))\n",
    "print(id(Rjcity))"
   ]
  },
  {
   "cell_type": "code",
   "execution_count": 72,
   "id": "70c649e8",
   "metadata": {},
   "outputs": [
    {
     "name": "stdout",
     "output_type": "stream",
     "text": [
      "[[1 2 3]\n",
      " [4 5 6]]\n"
     ]
    }
   ],
   "source": [
    "t=np.array([[1,2,3],[4,5,6]])\n",
    "print(t)"
   ]
  },
  {
   "cell_type": "code",
   "execution_count": 73,
   "id": "4b8f82ed",
   "metadata": {},
   "outputs": [
    {
     "name": "stdout",
     "output_type": "stream",
     "text": [
      "[[1 2 3]\n",
      " [4 5 6]]\n"
     ]
    }
   ],
   "source": [
    "u=t\n",
    "print(u)"
   ]
  },
  {
   "cell_type": "code",
   "execution_count": 74,
   "id": "6e0559de",
   "metadata": {},
   "outputs": [
    {
     "name": "stdout",
     "output_type": "stream",
     "text": [
      "[[  1   2   3]\n",
      " [  4   5 100]]\n"
     ]
    }
   ],
   "source": [
    "u[1][-1]=100\n",
    "print(u)"
   ]
  },
  {
   "cell_type": "code",
   "execution_count": 75,
   "id": "006cec0e",
   "metadata": {},
   "outputs": [
    {
     "name": "stdout",
     "output_type": "stream",
     "text": [
      "[[  1   2   3]\n",
      " [  4   5 100]]\n"
     ]
    }
   ],
   "source": [
    "print(t)"
   ]
  },
  {
   "cell_type": "code",
   "execution_count": 76,
   "id": "ae09a343",
   "metadata": {},
   "outputs": [
    {
     "name": "stdout",
     "output_type": "stream",
     "text": [
      "[[11 12 13]\n",
      " [14 15 16]]\n"
     ]
    }
   ],
   "source": [
    "a=np.asarray([[11,12,13],[14,15,16]])\n",
    "print(a)"
   ]
  },
  {
   "cell_type": "code",
   "execution_count": 77,
   "id": "38f97916",
   "metadata": {},
   "outputs": [
    {
     "name": "stdout",
     "output_type": "stream",
     "text": [
      "[[11 12 13]\n",
      " [14 15 16]]\n"
     ]
    }
   ],
   "source": [
    "b=a\n",
    "print(b)"
   ]
  },
  {
   "cell_type": "code",
   "execution_count": 78,
   "id": "e362f145",
   "metadata": {},
   "outputs": [
    {
     "name": "stdout",
     "output_type": "stream",
     "text": [
      "[[11 12 13]\n",
      " [14  0 16]]\n"
     ]
    }
   ],
   "source": [
    "b[1][1]=0\n",
    "print(b)"
   ]
  },
  {
   "cell_type": "code",
   "execution_count": 79,
   "id": "d50d051b",
   "metadata": {},
   "outputs": [
    {
     "name": "stdout",
     "output_type": "stream",
     "text": [
      "[[11 12 13]\n",
      " [14  0 16]]\n"
     ]
    }
   ],
   "source": [
    "print(a)"
   ]
  },
  {
   "cell_type": "code",
   "execution_count": 80,
   "id": "ae1508c7",
   "metadata": {},
   "outputs": [
    {
     "name": "stdout",
     "output_type": "stream",
     "text": [
      "2327209477392\n",
      "2327209477392\n"
     ]
    }
   ],
   "source": [
    "print(id(a))\n",
    "print(id(b))"
   ]
  },
  {
   "cell_type": "markdown",
   "id": "d0689d9e",
   "metadata": {},
   "source": [
    "### Mathematical functions"
   ]
  },
  {
   "cell_type": "markdown",
   "id": "e6541b22",
   "metadata": {},
   "source": [
    "Numpy provides useful mathematical functions called Universal functions. These functions operate element-wise on an array,  producing another array as output.Some of these functions are"
   ]
  },
  {
   "cell_type": "code",
   "execution_count": 81,
   "id": "884e9cfd",
   "metadata": {},
   "outputs": [
    {
     "data": {
      "text/plain": [
       "array([1.        , 1.41421356, 1.73205081])"
      ]
     },
     "execution_count": 81,
     "metadata": {},
     "output_type": "execute_result"
    }
   ],
   "source": [
    "## sqrt\n",
    "a=np.array([1,2,3])\n",
    "a=np.sqrt(a)\n",
    "a"
   ]
  },
  {
   "cell_type": "code",
   "execution_count": 82,
   "id": "e1e539f6",
   "metadata": {},
   "outputs": [
    {
     "data": {
      "text/plain": [
       "array([0.84147098, 0.98776595, 0.98702664])"
      ]
     },
     "execution_count": 82,
     "metadata": {},
     "output_type": "execute_result"
    }
   ],
   "source": [
    " np.sin(a)"
   ]
  },
  {
   "cell_type": "code",
   "execution_count": 83,
   "id": "f6aaff4c",
   "metadata": {},
   "outputs": [
    {
     "data": {
      "text/plain": [
       "array([ 0.54030231,  0.15594369, -0.16055654])"
      ]
     },
     "execution_count": 83,
     "metadata": {},
     "output_type": "execute_result"
    }
   ],
   "source": [
    "np.cos(a)"
   ]
  },
  {
   "cell_type": "code",
   "execution_count": 54,
   "id": "1a20de59",
   "metadata": {},
   "outputs": [
    {
     "data": {
      "text/plain": [
       "63.0"
      ]
     },
     "execution_count": 54,
     "metadata": {},
     "output_type": "execute_result"
    }
   ],
   "source": [
    "np.ceil(62.3)"
   ]
  },
  {
   "cell_type": "code",
   "execution_count": 55,
   "id": "d0d04316",
   "metadata": {},
   "outputs": [
    {
     "data": {
      "text/plain": [
       "62.0"
      ]
     },
     "execution_count": 55,
     "metadata": {},
     "output_type": "execute_result"
    }
   ],
   "source": [
    "np.floor(62.3)"
   ]
  },
  {
   "cell_type": "code",
   "execution_count": 86,
   "id": "4036c897",
   "metadata": {},
   "outputs": [],
   "source": [
    "ceil=102.0,457.0,10\n",
    "floor=101,456,9"
   ]
  },
  {
   "cell_type": "code",
   "execution_count": 87,
   "id": "dd99a3cf",
   "metadata": {},
   "outputs": [
    {
     "name": "stdout",
     "output_type": "stream",
     "text": [
      "[102. 457.  10.]\n",
      "[101. 456.   9.]\n"
     ]
    }
   ],
   "source": [
    "arr=np.array([101.34,456.23,9.56])\n",
    "print(np.ceil(arr))\n",
    "print(np.floor(arr))"
   ]
  },
  {
   "cell_type": "markdown",
   "id": "ce771edd",
   "metadata": {},
   "source": [
    "## Shape manipulation"
   ]
  },
  {
   "cell_type": "code",
   "execution_count": 57,
   "id": "f2204ae6",
   "metadata": {},
   "outputs": [
    {
     "name": "stdout",
     "output_type": "stream",
     "text": [
      "[[ 1  2  3  4  5  6]\n",
      " [ 7  8  9 10 11 12]]\n",
      "12\n",
      "2\n",
      "(2, 6)\n"
     ]
    }
   ],
   "source": [
    "x=np.array([[1,2,3,4,5,6],[7,8,9,10,11,12]])\n",
    "print(x)\n",
    "print(x.size)\n",
    "print(x.ndim)\n",
    "print(x.shape)"
   ]
  },
  {
   "cell_type": "code",
   "execution_count": 192,
   "id": "2cd0a580",
   "metadata": {},
   "outputs": [
    {
     "name": "stdout",
     "output_type": "stream",
     "text": [
      "[[ 1  2  3  4  5  6  7  8  9 10 11 12]]\n"
     ]
    }
   ],
   "source": [
    "print(x.reshape(1,12))"
   ]
  },
  {
   "cell_type": "code",
   "execution_count": 196,
   "id": "e0aef1c8",
   "metadata": {},
   "outputs": [
    {
     "name": "stdout",
     "output_type": "stream",
     "text": [
      "[[ 1  2  3  4]\n",
      " [ 5  6  7  8]\n",
      " [ 9 10 11 12]]\n"
     ]
    }
   ],
   "source": [
    "print(x.reshape(3,4))"
   ]
  },
  {
   "cell_type": "code",
   "execution_count": 194,
   "id": "68de467a",
   "metadata": {},
   "outputs": [
    {
     "name": "stdout",
     "output_type": "stream",
     "text": [
      "[[ 1  2  3  4  5  6]\n",
      " [ 7  8  9 10 11 12]]\n"
     ]
    }
   ],
   "source": [
    "print(x)"
   ]
  },
  {
   "cell_type": "code",
   "execution_count": 195,
   "id": "d60b2454",
   "metadata": {},
   "outputs": [],
   "source": [
    "x.resize(6,2)"
   ]
  },
  {
   "cell_type": "code",
   "execution_count": 92,
   "id": "051d515c",
   "metadata": {},
   "outputs": [
    {
     "name": "stdout",
     "output_type": "stream",
     "text": [
      "[[ 1  2]\n",
      " [ 3  4]\n",
      " [ 5  6]\n",
      " [ 7  8]\n",
      " [ 9 10]\n",
      " [11 12]]\n"
     ]
    }
   ],
   "source": [
    "print(x)"
   ]
  },
  {
   "cell_type": "code",
   "execution_count": 93,
   "id": "c5ed6a67",
   "metadata": {},
   "outputs": [
    {
     "name": "stdout",
     "output_type": "stream",
     "text": [
      "12\n",
      "(6, 2)\n"
     ]
    }
   ],
   "source": [
    "print(x.size)\n",
    "print(x.shape)\n"
   ]
  },
  {
   "cell_type": "code",
   "execution_count": 94,
   "id": "c6a0d3e8",
   "metadata": {},
   "outputs": [],
   "source": [
    "## size of the array is 12\n",
    "#let say how many ways i can reshape the 12\n",
    "# 12=3,4\n",
    "# 12=4,3\n",
    "# 12=6,2\n",
    "# 12=2,6\n",
    "# 12=1,12\n",
    "# 12=12,1"
   ]
  },
  {
   "cell_type": "code",
   "execution_count": 95,
   "id": "e6fda7aa",
   "metadata": {},
   "outputs": [],
   "source": [
    "# reshape does not change in original array"
   ]
  },
  {
   "cell_type": "code",
   "execution_count": 96,
   "id": "2b77f616",
   "metadata": {},
   "outputs": [
    {
     "name": "stdout",
     "output_type": "stream",
     "text": [
      "[[ 1  2  3  4]\n",
      " [ 5  6  7  8]\n",
      " [ 9 10 11 12]]\n",
      "(3, 4)\n"
     ]
    }
   ],
   "source": [
    "q=x.reshape(3,4)\n",
    "print(q)\n",
    "print(q.shape)"
   ]
  },
  {
   "cell_type": "code",
   "execution_count": 97,
   "id": "848a0fda",
   "metadata": {},
   "outputs": [
    {
     "name": "stdout",
     "output_type": "stream",
     "text": [
      "[[ 1  2]\n",
      " [ 3  4]\n",
      " [ 5  6]\n",
      " [ 7  8]\n",
      " [ 9 10]\n",
      " [11 12]]\n"
     ]
    }
   ],
   "source": [
    "print(x)"
   ]
  },
  {
   "cell_type": "code",
   "execution_count": 98,
   "id": "b336686a",
   "metadata": {},
   "outputs": [
    {
     "name": "stdout",
     "output_type": "stream",
     "text": [
      "[[ 1  2  3]\n",
      " [ 4  5  6]\n",
      " [ 7  8  9]\n",
      " [10 11 12]]\n"
     ]
    }
   ],
   "source": [
    "print(x.reshape(4,3))"
   ]
  },
  {
   "cell_type": "code",
   "execution_count": 99,
   "id": "c2792955",
   "metadata": {},
   "outputs": [
    {
     "name": "stdout",
     "output_type": "stream",
     "text": [
      "[[ 1  2]\n",
      " [ 3  4]\n",
      " [ 5  6]\n",
      " [ 7  8]\n",
      " [ 9 10]\n",
      " [11 12]]\n"
     ]
    }
   ],
   "source": [
    "print(x.reshape(6,2))"
   ]
  },
  {
   "cell_type": "code",
   "execution_count": 100,
   "id": "b48faa53",
   "metadata": {},
   "outputs": [
    {
     "name": "stdout",
     "output_type": "stream",
     "text": [
      "[[ 1  2  3  4  5  6  7  8  9 10 11 12]]\n"
     ]
    }
   ],
   "source": [
    "print(x.reshape(1,12))"
   ]
  },
  {
   "cell_type": "code",
   "execution_count": 101,
   "id": "f6574dfc",
   "metadata": {},
   "outputs": [
    {
     "name": "stdout",
     "output_type": "stream",
     "text": [
      "[[ 1]\n",
      " [ 2]\n",
      " [ 3]\n",
      " [ 4]\n",
      " [ 5]\n",
      " [ 6]\n",
      " [ 7]\n",
      " [ 8]\n",
      " [ 9]\n",
      " [10]\n",
      " [11]\n",
      " [12]]\n"
     ]
    }
   ],
   "source": [
    "print(x.reshape(12,1)) # it form a new array"
   ]
  },
  {
   "cell_type": "code",
   "execution_count": 102,
   "id": "0b907408",
   "metadata": {},
   "outputs": [
    {
     "name": "stdout",
     "output_type": "stream",
     "text": [
      "[[ 1  2]\n",
      " [ 3  4]\n",
      " [ 5  6]\n",
      " [ 7  8]\n",
      " [ 9 10]\n",
      " [11 12]]\n"
     ]
    }
   ],
   "source": [
    "print(x)"
   ]
  },
  {
   "cell_type": "code",
   "execution_count": 103,
   "id": "459cb606",
   "metadata": {},
   "outputs": [],
   "source": [
    "x.resize(6,2) # it changes the existing array"
   ]
  },
  {
   "cell_type": "code",
   "execution_count": 104,
   "id": "f3330e38",
   "metadata": {},
   "outputs": [
    {
     "name": "stdout",
     "output_type": "stream",
     "text": [
      "[[ 1  2]\n",
      " [ 3  4]\n",
      " [ 5  6]\n",
      " [ 7  8]\n",
      " [ 9 10]\n",
      " [11 12]]\n"
     ]
    }
   ],
   "source": [
    "print(x)"
   ]
  },
  {
   "cell_type": "code",
   "execution_count": 59,
   "id": "58141cfd",
   "metadata": {},
   "outputs": [
    {
     "name": "stdout",
     "output_type": "stream",
     "text": [
      "1\n"
     ]
    }
   ],
   "source": [
    "A=x.ravel()\n",
    "print(A.ndim)"
   ]
  },
  {
   "cell_type": "code",
   "execution_count": 60,
   "id": "a99184fb",
   "metadata": {},
   "outputs": [
    {
     "name": "stdout",
     "output_type": "stream",
     "text": [
      "[[ 1  2  3  4  5  6]\n",
      " [ 7  8  9 10 11 12]]\n"
     ]
    }
   ],
   "source": [
    "print(x)"
   ]
  },
  {
   "cell_type": "code",
   "execution_count": 105,
   "id": "4a447329",
   "metadata": {},
   "outputs": [
    {
     "data": {
      "text/plain": [
       "6"
      ]
     },
     "execution_count": 105,
     "metadata": {},
     "output_type": "execute_result"
    }
   ],
   "source": [
    "u=np.array([[1,2,3],[4,5,6]])\n",
    "u.size"
   ]
  },
  {
   "cell_type": "code",
   "execution_count": 106,
   "id": "3a091252",
   "metadata": {},
   "outputs": [
    {
     "data": {
      "text/plain": [
       "array([[1],\n",
       "       [2],\n",
       "       [3],\n",
       "       [4],\n",
       "       [5],\n",
       "       [6]])"
      ]
     },
     "execution_count": 106,
     "metadata": {},
     "output_type": "execute_result"
    }
   ],
   "source": [
    "u.reshape((6,1))"
   ]
  },
  {
   "cell_type": "code",
   "execution_count": 107,
   "id": "eb80ff17",
   "metadata": {},
   "outputs": [
    {
     "name": "stdout",
     "output_type": "stream",
     "text": [
      "[[1 2 3]\n",
      " [4 5 6]]\n"
     ]
    }
   ],
   "source": [
    "print(u)"
   ]
  },
  {
   "cell_type": "code",
   "execution_count": 108,
   "id": "0a35918c",
   "metadata": {},
   "outputs": [],
   "source": [
    "u.resize((6,1))"
   ]
  },
  {
   "cell_type": "code",
   "execution_count": 109,
   "id": "58fbebe4",
   "metadata": {},
   "outputs": [
    {
     "data": {
      "text/plain": [
       "array([[1],\n",
       "       [2],\n",
       "       [3],\n",
       "       [4],\n",
       "       [5],\n",
       "       [6]])"
      ]
     },
     "execution_count": 109,
     "metadata": {},
     "output_type": "execute_result"
    }
   ],
   "source": [
    "u"
   ]
  },
  {
   "cell_type": "markdown",
   "id": "70098169",
   "metadata": {},
   "source": [
    "### ravel"
   ]
  },
  {
   "cell_type": "code",
   "execution_count": 61,
   "id": "e1d451fe",
   "metadata": {},
   "outputs": [
    {
     "name": "stdout",
     "output_type": "stream",
     "text": [
      "4\n"
     ]
    }
   ],
   "source": [
    "import numpy as np\n",
    "a=np.array([[[[101,102,103,104,105],[106,107,108,109,110],[1,2,3,4,5]]]])\n",
    "print(a.ndim)"
   ]
  },
  {
   "cell_type": "code",
   "execution_count": 62,
   "id": "e44e5e1c",
   "metadata": {},
   "outputs": [],
   "source": [
    "b=a.ravel() # convert the array in 1 d"
   ]
  },
  {
   "cell_type": "code",
   "execution_count": 63,
   "id": "03923c0c",
   "metadata": {},
   "outputs": [
    {
     "data": {
      "text/plain": [
       "array([101, 102, 103, 104, 105, 106, 107, 108, 109, 110,   1,   2,   3,\n",
       "         4,   5])"
      ]
     },
     "execution_count": 63,
     "metadata": {},
     "output_type": "execute_result"
    }
   ],
   "source": [
    "b"
   ]
  },
  {
   "cell_type": "code",
   "execution_count": 113,
   "id": "2517bedf",
   "metadata": {},
   "outputs": [
    {
     "name": "stdout",
     "output_type": "stream",
     "text": [
      "(15,)\n",
      "1\n"
     ]
    }
   ],
   "source": [
    "print(b.shape)\n",
    "print(b.ndim)"
   ]
  },
  {
   "cell_type": "code",
   "execution_count": 114,
   "id": "d9669a98",
   "metadata": {},
   "outputs": [
    {
     "data": {
      "text/plain": [
       "array([[[[101, 102, 103, 104, 105],\n",
       "         [106, 107, 108, 109, 110],\n",
       "         [  1,   2,   3,   4,   5]]]])"
      ]
     },
     "execution_count": 114,
     "metadata": {},
     "output_type": "execute_result"
    }
   ],
   "source": [
    "a"
   ]
  },
  {
   "cell_type": "code",
   "execution_count": 64,
   "id": "7dbb76e5",
   "metadata": {},
   "outputs": [
    {
     "data": {
      "text/plain": [
       "array([101, 102, 103, 104, 105, 106, 107, 108, 109, 110,   1,   2,   3,\n",
       "         4,   5])"
      ]
     },
     "execution_count": 64,
     "metadata": {},
     "output_type": "execute_result"
    }
   ],
   "source": [
    "b"
   ]
  },
  {
   "cell_type": "code",
   "execution_count": 65,
   "id": "69d6965f",
   "metadata": {},
   "outputs": [],
   "source": [
    "b[0]=100"
   ]
  },
  {
   "cell_type": "code",
   "execution_count": 66,
   "id": "ef4c13de",
   "metadata": {},
   "outputs": [
    {
     "data": {
      "text/plain": [
       "array([100, 102, 103, 104, 105, 106, 107, 108, 109, 110,   1,   2,   3,\n",
       "         4,   5])"
      ]
     },
     "execution_count": 66,
     "metadata": {},
     "output_type": "execute_result"
    }
   ],
   "source": [
    "b"
   ]
  },
  {
   "cell_type": "code",
   "execution_count": 116,
   "id": "d646f778",
   "metadata": {},
   "outputs": [
    {
     "data": {
      "text/plain": [
       "array([[[[100, 102, 103, 104, 105],\n",
       "         [106, 107, 108, 109, 110],\n",
       "         [  1,   2,   3,   4,   5]]]])"
      ]
     },
     "execution_count": 116,
     "metadata": {},
     "output_type": "execute_result"
    }
   ],
   "source": [
    "a"
   ]
  },
  {
   "cell_type": "code",
   "execution_count": 117,
   "id": "fd1f35e7",
   "metadata": {},
   "outputs": [
    {
     "data": {
      "text/plain": [
       "array([100, 102, 103, 104, 105, 106, 107, 108, 109, 110,   1,   2,   3,\n",
       "         4,   5])"
      ]
     },
     "execution_count": 117,
     "metadata": {},
     "output_type": "execute_result"
    }
   ],
   "source": [
    "b"
   ]
  },
  {
   "cell_type": "code",
   "execution_count": 118,
   "id": "936e7cdc",
   "metadata": {},
   "outputs": [],
   "source": [
    "a[0][0][2][-1]=1"
   ]
  },
  {
   "cell_type": "code",
   "execution_count": 119,
   "id": "e738d3f1",
   "metadata": {},
   "outputs": [
    {
     "data": {
      "text/plain": [
       "array([[[[100, 102, 103, 104, 105],\n",
       "         [106, 107, 108, 109, 110],\n",
       "         [  1,   2,   3,   4,   1]]]])"
      ]
     },
     "execution_count": 119,
     "metadata": {},
     "output_type": "execute_result"
    }
   ],
   "source": [
    "a"
   ]
  },
  {
   "cell_type": "code",
   "execution_count": 120,
   "id": "7df2ef49",
   "metadata": {},
   "outputs": [
    {
     "data": {
      "text/plain": [
       "array([100, 102, 103, 104, 105, 106, 107, 108, 109, 110,   1,   2,   3,\n",
       "         4,   1])"
      ]
     },
     "execution_count": 120,
     "metadata": {},
     "output_type": "execute_result"
    }
   ],
   "source": [
    "b"
   ]
  },
  {
   "cell_type": "markdown",
   "id": "3004c998",
   "metadata": {},
   "source": [
    "### flatten()"
   ]
  },
  {
   "cell_type": "code",
   "execution_count": 121,
   "id": "e4f9effe",
   "metadata": {},
   "outputs": [
    {
     "name": "stdout",
     "output_type": "stream",
     "text": [
      "4\n"
     ]
    }
   ],
   "source": [
    "a=np.array([[[[101,102,103,104,105],[106,107,108,109,110],[1,2,3,4,5]]]])\n",
    "print(a.ndim)"
   ]
  },
  {
   "cell_type": "code",
   "execution_count": 122,
   "id": "2164f2d6",
   "metadata": {},
   "outputs": [],
   "source": [
    "b=a.flatten() #it returns a copy of the array"
   ]
  },
  {
   "cell_type": "code",
   "execution_count": 123,
   "id": "388fb7bf",
   "metadata": {},
   "outputs": [
    {
     "data": {
      "text/plain": [
       "array([101, 102, 103, 104, 105, 106, 107, 108, 109, 110,   1,   2,   3,\n",
       "         4,   5])"
      ]
     },
     "execution_count": 123,
     "metadata": {},
     "output_type": "execute_result"
    }
   ],
   "source": [
    "b"
   ]
  },
  {
   "cell_type": "code",
   "execution_count": 124,
   "id": "e27a8bbf",
   "metadata": {},
   "outputs": [
    {
     "data": {
      "text/plain": [
       "array([[[[101, 102, 103, 104, 105],\n",
       "         [106, 107, 108, 109, 110],\n",
       "         [  1,   2,   3,   4,   5]]]])"
      ]
     },
     "execution_count": 124,
     "metadata": {},
     "output_type": "execute_result"
    }
   ],
   "source": [
    "a"
   ]
  },
  {
   "cell_type": "code",
   "execution_count": 125,
   "id": "2f09162b",
   "metadata": {},
   "outputs": [],
   "source": [
    "a[0][0][2][-1]=1"
   ]
  },
  {
   "cell_type": "code",
   "execution_count": 126,
   "id": "d90884d0",
   "metadata": {},
   "outputs": [
    {
     "data": {
      "text/plain": [
       "array([[[[101, 102, 103, 104, 105],\n",
       "         [106, 107, 108, 109, 110],\n",
       "         [  1,   2,   3,   4,   1]]]])"
      ]
     },
     "execution_count": 126,
     "metadata": {},
     "output_type": "execute_result"
    }
   ],
   "source": [
    "a"
   ]
  },
  {
   "cell_type": "code",
   "execution_count": 127,
   "id": "9d65e562",
   "metadata": {},
   "outputs": [
    {
     "data": {
      "text/plain": [
       "array([101, 102, 103, 104, 105, 106, 107, 108, 109, 110,   1,   2,   3,\n",
       "         4,   5])"
      ]
     },
     "execution_count": 127,
     "metadata": {},
     "output_type": "execute_result"
    }
   ],
   "source": [
    "b"
   ]
  },
  {
   "cell_type": "markdown",
   "id": "9e18cdc0",
   "metadata": {},
   "source": [
    "## Broadcasting"
   ]
  },
  {
   "cell_type": "markdown",
   "id": "14794453",
   "metadata": {},
   "source": [
    "Numpy uses broadcasting to carry out arithmetic operations between arrays of different shapes. In this method Numpy automatically broadcasts the smaller array over the larger array"
   ]
  },
  {
   "cell_type": "markdown",
   "id": "7da9cad7",
   "metadata": {},
   "source": [
    "- NumPy operations are usually done on pairs of arrays on an element-by-element basis. \n",
    "- In the simplest case, the two arrays must have exactly the same shape.\n",
    "- NumPy’s broadcasting rule relaxes this constraint when the arrays’ shapes meet certain constraints. \n",
    "- When operating on two arrays, NumPy compares their shapes element-wise. It starts with the trailing \n",
    "- dimensions, and works its way forward. Two dimensions are compatible when\n",
    "- they are equal, or one of them is 1"
   ]
  },
  {
   "cell_type": "code",
   "execution_count": 128,
   "id": "2912a134",
   "metadata": {},
   "outputs": [],
   "source": [
    "arr1=np.array([[10,20,30,40,50]])\n",
    "arr2=np.array([[60,70,80,90,100]])"
   ]
  },
  {
   "cell_type": "code",
   "execution_count": 129,
   "id": "69cb0feb",
   "metadata": {},
   "outputs": [
    {
     "name": "stdout",
     "output_type": "stream",
     "text": [
      "(1, 5)\n",
      "(1, 5)\n"
     ]
    }
   ],
   "source": [
    "print(arr1.shape)\n",
    "print(arr2.shape)"
   ]
  },
  {
   "cell_type": "code",
   "execution_count": 130,
   "id": "740a01f1",
   "metadata": {},
   "outputs": [
    {
     "data": {
      "text/plain": [
       "array([[ 600, 1400, 2400, 3600, 5000]])"
      ]
     },
     "execution_count": 130,
     "metadata": {},
     "output_type": "execute_result"
    }
   ],
   "source": [
    "arr1*arr2"
   ]
  },
  {
   "cell_type": "code",
   "execution_count": 131,
   "id": "ca74817b",
   "metadata": {},
   "outputs": [
    {
     "data": {
      "text/plain": [
       "array([[120, 140, 160, 180, 200]])"
      ]
     },
     "execution_count": 131,
     "metadata": {},
     "output_type": "execute_result"
    }
   ],
   "source": [
    "c=2\n",
    "arr2*c"
   ]
  },
  {
   "cell_type": "code",
   "execution_count": 132,
   "id": "d3fc25a9",
   "metadata": {},
   "outputs": [
    {
     "name": "stdout",
     "output_type": "stream",
     "text": [
      "(1, 2, 3)\n",
      "(3,)\n",
      "[[[ 8 10 12]\n",
      "  [11 13 15]]]\n"
     ]
    }
   ],
   "source": [
    "m=np.array([[[1,2,3],[4,5,6]]])\n",
    "n=np.array([7,8,9])\n",
    "print(m.shape)\n",
    "print(n.shape)\n",
    "print(m+n)"
   ]
  },
  {
   "cell_type": "code",
   "execution_count": 68,
   "id": "e189bd75",
   "metadata": {},
   "outputs": [],
   "source": [
    "# m=np.array([[['1','2','3'],['4','5','6']]])\n",
    "# n=np.array(['7','8','9'])\n",
    "\n",
    "# print(m+n)"
   ]
  },
  {
   "cell_type": "code",
   "execution_count": 133,
   "id": "0f0666c9",
   "metadata": {},
   "outputs": [
    {
     "name": "stdout",
     "output_type": "stream",
     "text": [
      "(1, 1, 4, 3)\n",
      "12\n",
      "4\n",
      "[[[[ 1  2  3]\n",
      "   [ 4  5  6]\n",
      "   [ 7  8  9]\n",
      "   [10 11 12]]]]\n"
     ]
    }
   ],
   "source": [
    "arr=np.array([[[[1,2,3],[4,5,6],[7,8,9],[10,11,12]]]])\n",
    "print(arr.shape)\n",
    "print(arr.size)\n",
    "print(arr.ndim)\n",
    "print(arr)"
   ]
  },
  {
   "cell_type": "code",
   "execution_count": 134,
   "id": "35173d71",
   "metadata": {},
   "outputs": [
    {
     "name": "stdout",
     "output_type": "stream",
     "text": [
      "[[[[ 10  20  30]\n",
      "   [ 40  50  60]\n",
      "   [ 70  80  90]\n",
      "   [100 110 120]]]]\n"
     ]
    }
   ],
   "source": [
    "print(arr*10)"
   ]
  },
  {
   "cell_type": "code",
   "execution_count": 135,
   "id": "960f909c",
   "metadata": {},
   "outputs": [
    {
     "name": "stdout",
     "output_type": "stream",
     "text": [
      "[[[[ 1  2  3]\n",
      "   [ 4  5  6]\n",
      "   [ 7  8  9]\n",
      "   [10 11 12]]]]\n"
     ]
    }
   ],
   "source": [
    "print(arr)"
   ]
  },
  {
   "cell_type": "code",
   "execution_count": 69,
   "id": "9cfe1a4f",
   "metadata": {},
   "outputs": [],
   "source": [
    "x=np.array([[[1,2,3,4],[5,6,7,8]]],ndmin=5)"
   ]
  },
  {
   "cell_type": "code",
   "execution_count": 70,
   "id": "6a1fd4fc",
   "metadata": {},
   "outputs": [
    {
     "data": {
      "text/plain": [
       "array([[[[[1, 2, 3, 4],\n",
       "          [5, 6, 7, 8]]]]])"
      ]
     },
     "execution_count": 70,
     "metadata": {},
     "output_type": "execute_result"
    }
   ],
   "source": [
    "x"
   ]
  },
  {
   "cell_type": "code",
   "execution_count": 180,
   "id": "5b3e8b40",
   "metadata": {},
   "outputs": [],
   "source": [
    "## we must have a 2 dimesion in a array for the addition of axis"
   ]
  },
  {
   "cell_type": "code",
   "execution_count": 148,
   "id": "791a637a",
   "metadata": {},
   "outputs": [
    {
     "data": {
      "text/plain": [
       "array([22, 26, 30])"
      ]
     },
     "execution_count": 148,
     "metadata": {},
     "output_type": "execute_result"
    }
   ],
   "source": [
    "# it adds all the rows\n",
    "arr[0][0].sum(axis=0)"
   ]
  },
  {
   "cell_type": "code",
   "execution_count": 79,
   "id": "b0a91981",
   "metadata": {},
   "outputs": [
    {
     "name": "stdout",
     "output_type": "stream",
     "text": [
      "(4, 3)\n",
      "[[ 1  2  3]\n",
      " [ 4  5  6]\n",
      " [ 7  8  9]\n",
      " [10 11 12]]\n"
     ]
    }
   ],
   "source": [
    "ARR=np.array([[1,2,3],[4,5,6],[7,8,9],[10,11,12]])\n",
    "print(ARR.shape)\n",
    "print(ARR)"
   ]
  },
  {
   "cell_type": "code",
   "execution_count": 82,
   "id": "80f15fda",
   "metadata": {},
   "outputs": [
    {
     "data": {
      "text/plain": [
       "array([[ 1,  4,  7, 10],\n",
       "       [ 2,  5,  8, 11],\n",
       "       [ 3,  6,  9, 12]])"
      ]
     },
     "execution_count": 82,
     "metadata": {},
     "output_type": "execute_result"
    }
   ],
   "source": [
    "ARR.transpose()"
   ]
  },
  {
   "cell_type": "code",
   "execution_count": 81,
   "id": "98c8d701",
   "metadata": {},
   "outputs": [
    {
     "name": "stdout",
     "output_type": "stream",
     "text": [
      "[ 6 15 24 33]\n"
     ]
    }
   ],
   "source": [
    "# print(ARR.sum(axis=0)) # rows\n",
    "print(ARR.sum(axis=1)) # col"
   ]
  },
  {
   "cell_type": "code",
   "execution_count": 181,
   "id": "5a3e7e39",
   "metadata": {},
   "outputs": [
    {
     "data": {
      "text/plain": [
       "numpy.ndarray"
      ]
     },
     "execution_count": 181,
     "metadata": {},
     "output_type": "execute_result"
    }
   ],
   "source": [
    "type(ARR)"
   ]
  },
  {
   "cell_type": "code",
   "execution_count": 182,
   "id": "c6fdd592",
   "metadata": {},
   "outputs": [
    {
     "data": {
      "text/plain": [
       "array([[[ 1,  2,  3],\n",
       "        [ 4,  5,  6],\n",
       "        [ 7,  8,  9],\n",
       "        [10, 11, 12]]])"
      ]
     },
     "execution_count": 182,
     "metadata": {},
     "output_type": "execute_result"
    }
   ],
   "source": [
    "# it adds all the columns\n",
    "arr.sum(axis=1)"
   ]
  },
  {
   "cell_type": "code",
   "execution_count": 186,
   "id": "2d7a323d",
   "metadata": {},
   "outputs": [
    {
     "name": "stdout",
     "output_type": "stream",
     "text": [
      "(1, 1, 1, 1, 3)\n",
      "5\n",
      "4\n",
      "(1, 1, 1, 3)\n"
     ]
    },
    {
     "data": {
      "text/plain": [
       "array([[[[[1., 1., 1.]]]]])"
      ]
     },
     "execution_count": 186,
     "metadata": {},
     "output_type": "execute_result"
    }
   ],
   "source": [
    "t=np.array([[[[[1,2,3]]]]])\n",
    "u=np.array([[[[1,2,3]]]])\n",
    "print(t.shape)\n",
    "print(t.ndim)\n",
    "print(u.ndim)\n",
    "print(u.shape)\n",
    "u/t"
   ]
  },
  {
   "cell_type": "code",
   "execution_count": null,
   "id": "a3214d6f",
   "metadata": {},
   "outputs": [],
   "source": [
    "print(t.sum(axis=0))\n",
    "print(t.sum(axis=1))"
   ]
  },
  {
   "cell_type": "code",
   "execution_count": 190,
   "id": "b2abe2ba",
   "metadata": {},
   "outputs": [
    {
     "name": "stdout",
     "output_type": "stream",
     "text": [
      "[1 2 3]\n",
      "[6]\n"
     ]
    }
   ],
   "source": [
    "t=np.array([[1,2,3]])\n",
    "# print(t)\n",
    "print(t.sum(axis=0))\n",
    "print(t.sum(axis=1))"
   ]
  },
  {
   "cell_type": "code",
   "execution_count": 191,
   "id": "f3018f7e",
   "metadata": {},
   "outputs": [
    {
     "name": "stdout",
     "output_type": "stream",
     "text": [
      "[1200 1500 1800]\n",
      "[ 600 1500 2400]\n"
     ]
    }
   ],
   "source": [
    "Z=np.array([[100,200,300],[400,500,600],[700,800,900]])\n",
    "print(Z.sum(axis=0))\n",
    "print(Z.sum(axis=1))"
   ]
  },
  {
   "cell_type": "code",
   "execution_count": 192,
   "id": "fe5dc8b6",
   "metadata": {},
   "outputs": [
    {
     "ename": "ValueError",
     "evalue": "operands could not be broadcast together with shapes (2,3) (2,) ",
     "output_type": "error",
     "traceback": [
      "\u001b[1;31m---------------------------------------------------------------------------\u001b[0m",
      "\u001b[1;31mValueError\u001b[0m                                Traceback (most recent call last)",
      "\u001b[1;32m<ipython-input-192-f330a37c282f>\u001b[0m in \u001b[0;36m<module>\u001b[1;34m\u001b[0m\n\u001b[0;32m      1\u001b[0m \u001b[0mm\u001b[0m\u001b[1;33m=\u001b[0m\u001b[0mnp\u001b[0m\u001b[1;33m.\u001b[0m\u001b[0marray\u001b[0m\u001b[1;33m(\u001b[0m\u001b[1;33m[\u001b[0m\u001b[1;33m[\u001b[0m\u001b[1;36m1\u001b[0m\u001b[1;33m,\u001b[0m\u001b[1;36m2\u001b[0m\u001b[1;33m,\u001b[0m\u001b[1;36m3\u001b[0m\u001b[1;33m]\u001b[0m\u001b[1;33m,\u001b[0m\u001b[1;33m[\u001b[0m\u001b[1;36m4\u001b[0m\u001b[1;33m,\u001b[0m\u001b[1;36m5\u001b[0m\u001b[1;33m,\u001b[0m\u001b[1;36m6\u001b[0m\u001b[1;33m]\u001b[0m\u001b[1;33m]\u001b[0m\u001b[1;33m)\u001b[0m\u001b[1;33m\u001b[0m\u001b[1;33m\u001b[0m\u001b[0m\n\u001b[0;32m      2\u001b[0m \u001b[0mn\u001b[0m\u001b[1;33m=\u001b[0m\u001b[0mnp\u001b[0m\u001b[1;33m.\u001b[0m\u001b[0marray\u001b[0m\u001b[1;33m(\u001b[0m\u001b[1;33m[\u001b[0m\u001b[1;36m7\u001b[0m\u001b[1;33m,\u001b[0m\u001b[1;36m4\u001b[0m\u001b[1;33m]\u001b[0m\u001b[1;33m)\u001b[0m\u001b[1;33m\u001b[0m\u001b[1;33m\u001b[0m\u001b[0m\n\u001b[1;32m----> 3\u001b[1;33m \u001b[0mm\u001b[0m\u001b[1;33m+\u001b[0m\u001b[0mn\u001b[0m\u001b[1;33m\u001b[0m\u001b[1;33m\u001b[0m\u001b[0m\n\u001b[0m",
      "\u001b[1;31mValueError\u001b[0m: operands could not be broadcast together with shapes (2,3) (2,) "
     ]
    }
   ],
   "source": [
    "m=np.array([[1,2,3],[4,5,6]])\n",
    "n=np.array([7,4])\n",
    "m+n"
   ]
  },
  {
   "cell_type": "markdown",
   "id": "d16776dd",
   "metadata": {},
   "source": [
    "### transpose"
   ]
  },
  {
   "cell_type": "code",
   "execution_count": 193,
   "id": "15661b5b",
   "metadata": {},
   "outputs": [
    {
     "data": {
      "text/plain": [
       "array([[44, 21, 26, 67, 10, 30],\n",
       "       [99, 23, 55,  1, 78, 33]])"
      ]
     },
     "execution_count": 193,
     "metadata": {},
     "output_type": "execute_result"
    }
   ],
   "source": [
    "marks=np.array([[44,21,26,67,10,30],[99,23,55,1,78,33]])\n",
    "marks"
   ]
  },
  {
   "cell_type": "code",
   "execution_count": 194,
   "id": "34a94377",
   "metadata": {},
   "outputs": [
    {
     "data": {
      "text/plain": [
       "(2, 6)"
      ]
     },
     "execution_count": 194,
     "metadata": {},
     "output_type": "execute_result"
    }
   ],
   "source": [
    "marks.shape"
   ]
  },
  {
   "cell_type": "code",
   "execution_count": 195,
   "id": "53c84714",
   "metadata": {},
   "outputs": [
    {
     "data": {
      "text/plain": [
       "array([[44, 99],\n",
       "       [21, 23],\n",
       "       [26, 55],\n",
       "       [67,  1],\n",
       "       [10, 78],\n",
       "       [30, 33]])"
      ]
     },
     "execution_count": 195,
     "metadata": {},
     "output_type": "execute_result"
    }
   ],
   "source": [
    "marks.T"
   ]
  },
  {
   "cell_type": "code",
   "execution_count": 196,
   "id": "d5e14854",
   "metadata": {},
   "outputs": [
    {
     "data": {
      "text/plain": [
       "array([[44, 99],\n",
       "       [21, 23],\n",
       "       [26, 55],\n",
       "       [67,  1],\n",
       "       [10, 78],\n",
       "       [30, 33]])"
      ]
     },
     "execution_count": 196,
     "metadata": {},
     "output_type": "execute_result"
    }
   ],
   "source": [
    "marks.transpose()"
   ]
  },
  {
   "cell_type": "markdown",
   "id": "1a43ffde",
   "metadata": {},
   "source": [
    "### inverse and trace functions"
   ]
  },
  {
   "cell_type": "code",
   "execution_count": 83,
   "id": "f3f25ba1",
   "metadata": {},
   "outputs": [],
   "source": [
    "a=np.array([[1,2],[3,4]])"
   ]
  },
  {
   "cell_type": "code",
   "execution_count": 84,
   "id": "7a526edf",
   "metadata": {},
   "outputs": [
    {
     "data": {
      "text/plain": [
       "array([[1, 2],\n",
       "       [3, 4]])"
      ]
     },
     "execution_count": 84,
     "metadata": {},
     "output_type": "execute_result"
    }
   ],
   "source": [
    "a"
   ]
  },
  {
   "cell_type": "code",
   "execution_count": 85,
   "id": "96c9aadd",
   "metadata": {},
   "outputs": [
    {
     "data": {
      "text/plain": [
       "5"
      ]
     },
     "execution_count": 85,
     "metadata": {},
     "output_type": "execute_result"
    }
   ],
   "source": [
    "a.trace()"
   ]
  },
  {
   "cell_type": "code",
   "execution_count": 203,
   "id": "24448998",
   "metadata": {},
   "outputs": [],
   "source": [
    "b=np.linalg.inv(a)"
   ]
  },
  {
   "cell_type": "code",
   "execution_count": 200,
   "id": "f7177cc5",
   "metadata": {},
   "outputs": [
    {
     "data": {
      "text/plain": [
       "array([[-2. ,  1. ],\n",
       "       [ 1.5, -0.5]])"
      ]
     },
     "execution_count": 200,
     "metadata": {},
     "output_type": "execute_result"
    }
   ],
   "source": [
    "b"
   ]
  },
  {
   "cell_type": "code",
   "execution_count": 204,
   "id": "7473c83e",
   "metadata": {},
   "outputs": [
    {
     "data": {
      "text/plain": [
       "array([[-2. ,  2. ],\n",
       "       [ 4.5, -2. ]])"
      ]
     },
     "execution_count": 204,
     "metadata": {},
     "output_type": "execute_result"
    }
   ],
   "source": [
    "a*b"
   ]
  },
  {
   "cell_type": "code",
   "execution_count": 208,
   "id": "81ad84f1",
   "metadata": {},
   "outputs": [
    {
     "data": {
      "text/plain": [
       "matrix([[ 4, -2,  1],\n",
       "        [ 5,  0,  3],\n",
       "        [-1,  2,  6]])"
      ]
     },
     "execution_count": 208,
     "metadata": {},
     "output_type": "execute_result"
    }
   ],
   "source": [
    "Y=np.mat([[4,-2,1],[5,0,3],[-1,2,6]])\n",
    "Y"
   ]
  },
  {
   "cell_type": "code",
   "execution_count": 206,
   "id": "0995c019",
   "metadata": {},
   "outputs": [
    {
     "data": {
      "text/plain": [
       "numpy.matrix"
      ]
     },
     "execution_count": 206,
     "metadata": {},
     "output_type": "execute_result"
    }
   ],
   "source": [
    "type(Y)"
   ]
  },
  {
   "cell_type": "code",
   "execution_count": 209,
   "id": "bae17183",
   "metadata": {},
   "outputs": [
    {
     "data": {
      "text/plain": [
       "matrix([[-0.11538462,  0.26923077, -0.11538462],\n",
       "        [-0.63461538,  0.48076923, -0.13461538],\n",
       "        [ 0.19230769, -0.11538462,  0.19230769]])"
      ]
     },
     "execution_count": 209,
     "metadata": {},
     "output_type": "execute_result"
    }
   ],
   "source": [
    "np.linalg.inv(Y)"
   ]
  },
  {
   "cell_type": "code",
   "execution_count": null,
   "id": "a7df9fcc",
   "metadata": {},
   "outputs": [],
   "source": [
    "-3/26"
   ]
  },
  {
   "cell_type": "code",
   "execution_count": 210,
   "id": "b08709e6",
   "metadata": {},
   "outputs": [
    {
     "data": {
      "text/plain": [
       "matrix([[1, 2],\n",
       "        [4, 5]])"
      ]
     },
     "execution_count": 210,
     "metadata": {},
     "output_type": "execute_result"
    }
   ],
   "source": [
    "c=np.mat([[1,2],[4,5]])\n",
    "c"
   ]
  },
  {
   "cell_type": "code",
   "execution_count": 211,
   "id": "176ad242",
   "metadata": {},
   "outputs": [
    {
     "data": {
      "text/plain": [
       "matrix([[-1.66666667,  0.66666667],\n",
       "        [ 1.33333333, -0.33333333]])"
      ]
     },
     "execution_count": 211,
     "metadata": {},
     "output_type": "execute_result"
    }
   ],
   "source": [
    "c=np.linalg.inv(c)\n",
    "c"
   ]
  },
  {
   "cell_type": "code",
   "execution_count": 213,
   "id": "0cde34bd",
   "metadata": {},
   "outputs": [
    {
     "data": {
      "text/plain": [
       "matrix([[1, 2, 3],\n",
       "        [0, 1, 4],\n",
       "        [5, 6, 0]])"
      ]
     },
     "execution_count": 213,
     "metadata": {},
     "output_type": "execute_result"
    }
   ],
   "source": [
    "d=np.mat([[1,2,3],[0,1,4],[5,6,0]])\n",
    "d"
   ]
  },
  {
   "cell_type": "code",
   "execution_count": 214,
   "id": "ccde1ed9",
   "metadata": {},
   "outputs": [
    {
     "data": {
      "text/plain": [
       "matrix([[-24.,  18.,   5.],\n",
       "        [ 20., -15.,  -4.],\n",
       "        [ -5.,   4.,   1.]])"
      ]
     },
     "execution_count": 214,
     "metadata": {},
     "output_type": "execute_result"
    }
   ],
   "source": [
    "e=np.linalg.inv(d)\n",
    "e"
   ]
  },
  {
   "cell_type": "code",
   "execution_count": 217,
   "id": "0cc21afe",
   "metadata": {},
   "outputs": [
    {
     "name": "stdout",
     "output_type": "stream",
     "text": [
      "[[10 18 24]\n",
      " [28 30 30]\n",
      " [28 24 18]]\n"
     ]
    }
   ],
   "source": [
    "X=np.array([[10,9,8],[7,6,5],[4,3,2]])\n",
    "Y=np.array([[1,2,3],[4,5,6],[7,8,9]])\n",
    "# print(X)\n",
    "# print(Y)\n",
    "print(X*Y)"
   ]
  },
  {
   "cell_type": "code",
   "execution_count": 1,
   "id": "01d8495a",
   "metadata": {},
   "outputs": [],
   "source": [
    "import numpy as np"
   ]
  },
  {
   "cell_type": "code",
   "execution_count": 7,
   "id": "713b838b",
   "metadata": {},
   "outputs": [
    {
     "name": "stdout",
     "output_type": "stream",
     "text": [
      "[[102 129 156]\n",
      " [ 66  84 102]\n",
      " [ 30  39  48]]\n"
     ]
    }
   ],
   "source": [
    "x=np.mat([[10,9,8],[7,6,5],[4,3,2]])\n",
    "y=np.mat([[1,2,3],[4,5,6],[7,8,9]])\n",
    "# print(type(x))\n",
    "# print(y)\n",
    "print(x*y)"
   ]
  },
  {
   "cell_type": "code",
   "execution_count": 9,
   "id": "6927754d",
   "metadata": {},
   "outputs": [
    {
     "data": {
      "text/plain": [
       "129"
      ]
     },
     "execution_count": 9,
     "metadata": {},
     "output_type": "execute_result"
    }
   ],
   "source": [
    "\n",
    "10+36+5\n",
    "20+45+64"
   ]
  },
  {
   "cell_type": "code",
   "execution_count": 11,
   "id": "af2c1d05",
   "metadata": {},
   "outputs": [
    {
     "ename": "ValueError",
     "evalue": "shapes (3,3) and (2,3) not aligned: 3 (dim 1) != 2 (dim 0)",
     "output_type": "error",
     "traceback": [
      "\u001b[1;31m---------------------------------------------------------------------------\u001b[0m",
      "\u001b[1;31mValueError\u001b[0m                                Traceback (most recent call last)",
      "\u001b[1;32m<ipython-input-11-7a9525453fef>\u001b[0m in \u001b[0;36m<module>\u001b[1;34m\u001b[0m\n\u001b[0;32m      1\u001b[0m \u001b[0mx\u001b[0m\u001b[1;33m=\u001b[0m\u001b[0mnp\u001b[0m\u001b[1;33m.\u001b[0m\u001b[0mmat\u001b[0m\u001b[1;33m(\u001b[0m\u001b[1;33m[\u001b[0m\u001b[1;33m[\u001b[0m\u001b[1;36m10\u001b[0m\u001b[1;33m,\u001b[0m\u001b[1;36m9\u001b[0m\u001b[1;33m,\u001b[0m\u001b[1;36m8\u001b[0m\u001b[1;33m]\u001b[0m\u001b[1;33m,\u001b[0m\u001b[1;33m[\u001b[0m\u001b[1;36m7\u001b[0m\u001b[1;33m,\u001b[0m\u001b[1;36m6\u001b[0m\u001b[1;33m,\u001b[0m\u001b[1;36m5\u001b[0m\u001b[1;33m]\u001b[0m\u001b[1;33m,\u001b[0m\u001b[1;33m[\u001b[0m\u001b[1;36m4\u001b[0m\u001b[1;33m,\u001b[0m\u001b[1;36m3\u001b[0m\u001b[1;33m,\u001b[0m\u001b[1;36m2\u001b[0m\u001b[1;33m]\u001b[0m\u001b[1;33m]\u001b[0m\u001b[1;33m)\u001b[0m\u001b[1;33m\u001b[0m\u001b[1;33m\u001b[0m\u001b[0m\n\u001b[0;32m      2\u001b[0m \u001b[0my\u001b[0m\u001b[1;33m=\u001b[0m\u001b[0mnp\u001b[0m\u001b[1;33m.\u001b[0m\u001b[0mmat\u001b[0m\u001b[1;33m(\u001b[0m\u001b[1;33m[\u001b[0m\u001b[1;33m[\u001b[0m\u001b[1;36m1\u001b[0m\u001b[1;33m,\u001b[0m\u001b[1;36m2\u001b[0m\u001b[1;33m,\u001b[0m\u001b[1;36m3\u001b[0m\u001b[1;33m]\u001b[0m\u001b[1;33m,\u001b[0m\u001b[1;33m[\u001b[0m\u001b[1;36m4\u001b[0m\u001b[1;33m,\u001b[0m\u001b[1;36m5\u001b[0m\u001b[1;33m,\u001b[0m\u001b[1;36m6\u001b[0m\u001b[1;33m]\u001b[0m\u001b[1;33m]\u001b[0m\u001b[1;33m)\u001b[0m\u001b[1;33m\u001b[0m\u001b[1;33m\u001b[0m\u001b[0m\n\u001b[1;32m----> 3\u001b[1;33m \u001b[0mprint\u001b[0m\u001b[1;33m(\u001b[0m\u001b[0mx\u001b[0m\u001b[1;33m*\u001b[0m\u001b[0my\u001b[0m\u001b[1;33m)\u001b[0m\u001b[1;33m\u001b[0m\u001b[1;33m\u001b[0m\u001b[0m\n\u001b[0m",
      "\u001b[1;32m~\\anaconda3\\lib\\site-packages\\numpy\\matrixlib\\defmatrix.py\u001b[0m in \u001b[0;36m__mul__\u001b[1;34m(self, other)\u001b[0m\n\u001b[0;32m    216\u001b[0m         \u001b[1;32mif\u001b[0m \u001b[0misinstance\u001b[0m\u001b[1;33m(\u001b[0m\u001b[0mother\u001b[0m\u001b[1;33m,\u001b[0m \u001b[1;33m(\u001b[0m\u001b[0mN\u001b[0m\u001b[1;33m.\u001b[0m\u001b[0mndarray\u001b[0m\u001b[1;33m,\u001b[0m \u001b[0mlist\u001b[0m\u001b[1;33m,\u001b[0m \u001b[0mtuple\u001b[0m\u001b[1;33m)\u001b[0m\u001b[1;33m)\u001b[0m \u001b[1;33m:\u001b[0m\u001b[1;33m\u001b[0m\u001b[1;33m\u001b[0m\u001b[0m\n\u001b[0;32m    217\u001b[0m             \u001b[1;31m# This promotes 1-D vectors to row vectors\u001b[0m\u001b[1;33m\u001b[0m\u001b[1;33m\u001b[0m\u001b[1;33m\u001b[0m\u001b[0m\n\u001b[1;32m--> 218\u001b[1;33m             \u001b[1;32mreturn\u001b[0m \u001b[0mN\u001b[0m\u001b[1;33m.\u001b[0m\u001b[0mdot\u001b[0m\u001b[1;33m(\u001b[0m\u001b[0mself\u001b[0m\u001b[1;33m,\u001b[0m \u001b[0masmatrix\u001b[0m\u001b[1;33m(\u001b[0m\u001b[0mother\u001b[0m\u001b[1;33m)\u001b[0m\u001b[1;33m)\u001b[0m\u001b[1;33m\u001b[0m\u001b[1;33m\u001b[0m\u001b[0m\n\u001b[0m\u001b[0;32m    219\u001b[0m         \u001b[1;32mif\u001b[0m \u001b[0misscalar\u001b[0m\u001b[1;33m(\u001b[0m\u001b[0mother\u001b[0m\u001b[1;33m)\u001b[0m \u001b[1;32mor\u001b[0m \u001b[1;32mnot\u001b[0m \u001b[0mhasattr\u001b[0m\u001b[1;33m(\u001b[0m\u001b[0mother\u001b[0m\u001b[1;33m,\u001b[0m \u001b[1;34m'__rmul__'\u001b[0m\u001b[1;33m)\u001b[0m \u001b[1;33m:\u001b[0m\u001b[1;33m\u001b[0m\u001b[1;33m\u001b[0m\u001b[0m\n\u001b[0;32m    220\u001b[0m             \u001b[1;32mreturn\u001b[0m \u001b[0mN\u001b[0m\u001b[1;33m.\u001b[0m\u001b[0mdot\u001b[0m\u001b[1;33m(\u001b[0m\u001b[0mself\u001b[0m\u001b[1;33m,\u001b[0m \u001b[0mother\u001b[0m\u001b[1;33m)\u001b[0m\u001b[1;33m\u001b[0m\u001b[1;33m\u001b[0m\u001b[0m\n",
      "\u001b[1;32m<__array_function__ internals>\u001b[0m in \u001b[0;36mdot\u001b[1;34m(*args, **kwargs)\u001b[0m\n",
      "\u001b[1;31mValueError\u001b[0m: shapes (3,3) and (2,3) not aligned: 3 (dim 1) != 2 (dim 0)"
     ]
    }
   ],
   "source": [
    "x=np.mat([[10,9,8],[7,6,5],[4,3,2]])\n",
    "y=np.mat([[1,2,3],[4,5,6]])\n",
    "print(x*y)"
   ]
  },
  {
   "cell_type": "code",
   "execution_count": 223,
   "id": "2731d6ca",
   "metadata": {},
   "outputs": [
    {
     "ename": "ValueError",
     "evalue": "matrix must be 2-dimensional",
     "output_type": "error",
     "traceback": [
      "\u001b[1;31m---------------------------------------------------------------------------\u001b[0m",
      "\u001b[1;31mValueError\u001b[0m                                Traceback (most recent call last)",
      "\u001b[1;32m<ipython-input-223-193cb475c9b4>\u001b[0m in \u001b[0;36m<module>\u001b[1;34m\u001b[0m\n\u001b[1;32m----> 1\u001b[1;33m \u001b[0mnp\u001b[0m\u001b[1;33m.\u001b[0m\u001b[0mmat\u001b[0m\u001b[1;33m(\u001b[0m\u001b[1;33m[\u001b[0m\u001b[1;33m[\u001b[0m\u001b[1;33m[\u001b[0m\u001b[1;36m1\u001b[0m\u001b[1;33m,\u001b[0m\u001b[1;36m2\u001b[0m\u001b[1;33m,\u001b[0m\u001b[1;36m3\u001b[0m\u001b[1;33m]\u001b[0m\u001b[1;33m,\u001b[0m\u001b[1;33m[\u001b[0m\u001b[1;36m4\u001b[0m\u001b[1;33m,\u001b[0m\u001b[1;36m5\u001b[0m\u001b[1;33m,\u001b[0m\u001b[1;36m6\u001b[0m\u001b[1;33m]\u001b[0m\u001b[1;33m]\u001b[0m\u001b[1;33m]\u001b[0m\u001b[1;33m)\u001b[0m\u001b[1;33m\u001b[0m\u001b[1;33m\u001b[0m\u001b[0m\n\u001b[0m",
      "\u001b[1;32m~\\anaconda3\\lib\\site-packages\\numpy\\matrixlib\\defmatrix.py\u001b[0m in \u001b[0;36masmatrix\u001b[1;34m(data, dtype)\u001b[0m\n\u001b[0;32m     67\u001b[0m \u001b[1;33m\u001b[0m\u001b[0m\n\u001b[0;32m     68\u001b[0m     \"\"\"\n\u001b[1;32m---> 69\u001b[1;33m     \u001b[1;32mreturn\u001b[0m \u001b[0mmatrix\u001b[0m\u001b[1;33m(\u001b[0m\u001b[0mdata\u001b[0m\u001b[1;33m,\u001b[0m \u001b[0mdtype\u001b[0m\u001b[1;33m=\u001b[0m\u001b[0mdtype\u001b[0m\u001b[1;33m,\u001b[0m \u001b[0mcopy\u001b[0m\u001b[1;33m=\u001b[0m\u001b[1;32mFalse\u001b[0m\u001b[1;33m)\u001b[0m\u001b[1;33m\u001b[0m\u001b[1;33m\u001b[0m\u001b[0m\n\u001b[0m\u001b[0;32m     70\u001b[0m \u001b[1;33m\u001b[0m\u001b[0m\n\u001b[0;32m     71\u001b[0m \u001b[1;33m\u001b[0m\u001b[0m\n",
      "\u001b[1;32m~\\anaconda3\\lib\\site-packages\\numpy\\matrixlib\\defmatrix.py\u001b[0m in \u001b[0;36m__new__\u001b[1;34m(subtype, data, dtype, copy)\u001b[0m\n\u001b[0;32m    147\u001b[0m         \u001b[0mshape\u001b[0m \u001b[1;33m=\u001b[0m \u001b[0marr\u001b[0m\u001b[1;33m.\u001b[0m\u001b[0mshape\u001b[0m\u001b[1;33m\u001b[0m\u001b[1;33m\u001b[0m\u001b[0m\n\u001b[0;32m    148\u001b[0m         \u001b[1;32mif\u001b[0m \u001b[1;33m(\u001b[0m\u001b[0mndim\u001b[0m \u001b[1;33m>\u001b[0m \u001b[1;36m2\u001b[0m\u001b[1;33m)\u001b[0m\u001b[1;33m:\u001b[0m\u001b[1;33m\u001b[0m\u001b[1;33m\u001b[0m\u001b[0m\n\u001b[1;32m--> 149\u001b[1;33m             \u001b[1;32mraise\u001b[0m \u001b[0mValueError\u001b[0m\u001b[1;33m(\u001b[0m\u001b[1;34m\"matrix must be 2-dimensional\"\u001b[0m\u001b[1;33m)\u001b[0m\u001b[1;33m\u001b[0m\u001b[1;33m\u001b[0m\u001b[0m\n\u001b[0m\u001b[0;32m    150\u001b[0m         \u001b[1;32melif\u001b[0m \u001b[0mndim\u001b[0m \u001b[1;33m==\u001b[0m \u001b[1;36m0\u001b[0m\u001b[1;33m:\u001b[0m\u001b[1;33m\u001b[0m\u001b[1;33m\u001b[0m\u001b[0m\n\u001b[0;32m    151\u001b[0m             \u001b[0mshape\u001b[0m \u001b[1;33m=\u001b[0m \u001b[1;33m(\u001b[0m\u001b[1;36m1\u001b[0m\u001b[1;33m,\u001b[0m \u001b[1;36m1\u001b[0m\u001b[1;33m)\u001b[0m\u001b[1;33m\u001b[0m\u001b[1;33m\u001b[0m\u001b[0m\n",
      "\u001b[1;31mValueError\u001b[0m: matrix must be 2-dimensional"
     ]
    }
   ],
   "source": [
    "np.mat([[[1,2,3],[4,5,6]]])"
   ]
  },
  {
   "cell_type": "code",
   "execution_count": 224,
   "id": "a3a8dc2e",
   "metadata": {},
   "outputs": [
    {
     "name": "stdout",
     "output_type": "stream",
     "text": [
      "[[1 2]\n",
      " [3 4]]\n",
      "<class 'numpy.ndarray'>\n"
     ]
    }
   ],
   "source": [
    "print(a)\n",
    "print(type(a))"
   ]
  },
  {
   "cell_type": "code",
   "execution_count": 225,
   "id": "bdf4a15c",
   "metadata": {},
   "outputs": [
    {
     "name": "stdout",
     "output_type": "stream",
     "text": [
      "<class 'numpy.matrix'>\n",
      "[[10  9  8]\n",
      " [ 7  6  5]\n",
      " [ 4  3  2]]\n"
     ]
    }
   ],
   "source": [
    "print(type(x))\n",
    "print(x)"
   ]
  },
  {
   "cell_type": "code",
   "execution_count": 227,
   "id": "95cf39d8",
   "metadata": {},
   "outputs": [
    {
     "name": "stdout",
     "output_type": "stream",
     "text": [
      "5\n",
      "18\n"
     ]
    }
   ],
   "source": [
    "print(np.trace(a)) # it returns the sum of diagonals elements\n",
    "print(np.trace(x))"
   ]
  },
  {
   "cell_type": "code",
   "execution_count": null,
   "id": "352dddf2",
   "metadata": {},
   "outputs": [],
   "source": [
    "print(d)"
   ]
  },
  {
   "cell_type": "code",
   "execution_count": null,
   "id": "a1ac5af5",
   "metadata": {},
   "outputs": [],
   "source": [
    "print(np.trace(d))"
   ]
  },
  {
   "cell_type": "markdown",
   "id": "b9fa2a70",
   "metadata": {},
   "source": [
    "### numpy.fromfunction"
   ]
  },
  {
   "cell_type": "code",
   "execution_count": 14,
   "id": "f051acd8",
   "metadata": {},
   "outputs": [
    {
     "data": {
      "text/plain": [
       "array([[0., 1., 2.],\n",
       "       [1., 2., 3.],\n",
       "       [2., 3., 4.]])"
      ]
     },
     "execution_count": 14,
     "metadata": {},
     "output_type": "execute_result"
    }
   ],
   "source": [
    "np.fromfunction(lambda i,j:i+j,(3,3)) #By default it form a float type array"
   ]
  },
  {
   "cell_type": "code",
   "execution_count": 18,
   "id": "1f0928d5",
   "metadata": {},
   "outputs": [
    {
     "data": {
      "text/plain": [
       "array([[0, 0, 0, 0],\n",
       "       [0, 1, 2, 3],\n",
       "       [0, 2, 4, 6],\n",
       "       [0, 3, 6, 9]])"
      ]
     },
     "execution_count": 18,
     "metadata": {},
     "output_type": "execute_result"
    }
   ],
   "source": [
    "np.fromfunction(lambda a,b:a*b,(4,4),dtype=int)"
   ]
  },
  {
   "cell_type": "code",
   "execution_count": 238,
   "id": "c537a18d",
   "metadata": {},
   "outputs": [
    {
     "data": {
      "text/plain": [
       "array([[ 0.+0.j, -1.+0.j],\n",
       "       [ 1.+0.j,  0.+0.j]])"
      ]
     },
     "execution_count": 238,
     "metadata": {},
     "output_type": "execute_result"
    }
   ],
   "source": [
    "np.fromfunction(lambda m,n:m-n,(2,2),dtype=complex)"
   ]
  },
  {
   "cell_type": "code",
   "execution_count": 1,
   "id": "c0a07376",
   "metadata": {},
   "outputs": [],
   "source": [
    "import numpy as np"
   ]
  },
  {
   "cell_type": "code",
   "execution_count": 19,
   "id": "9a002b2d",
   "metadata": {},
   "outputs": [
    {
     "data": {
      "text/plain": [
       "array([[False, False],\n",
       "       [ True, False]])"
      ]
     },
     "execution_count": 19,
     "metadata": {},
     "output_type": "execute_result"
    }
   ],
   "source": [
    "np.fromfunction(lambda x,y:x>y,(2,2))"
   ]
  },
  {
   "cell_type": "code",
   "execution_count": 3,
   "id": "246805ec",
   "metadata": {},
   "outputs": [
    {
     "ename": "NameError",
     "evalue": "name 'a' is not defined",
     "output_type": "error",
     "traceback": [
      "\u001b[1;31m---------------------------------------------------------------------------\u001b[0m",
      "\u001b[1;31mNameError\u001b[0m                                 Traceback (most recent call last)",
      "\u001b[1;32m<ipython-input-3-bca0e2660b9f>\u001b[0m in \u001b[0;36m<module>\u001b[1;34m\u001b[0m\n\u001b[1;32m----> 1\u001b[1;33m \u001b[0mprint\u001b[0m\u001b[1;33m(\u001b[0m\u001b[0ma\u001b[0m\u001b[1;33m)\u001b[0m\u001b[1;33m\u001b[0m\u001b[1;33m\u001b[0m\u001b[0m\n\u001b[0m",
      "\u001b[1;31mNameError\u001b[0m: name 'a' is not defined"
     ]
    }
   ],
   "source": [
    "print(a)"
   ]
  },
  {
   "cell_type": "code",
   "execution_count": null,
   "id": "593efc01",
   "metadata": {},
   "outputs": [],
   "source": [
    "print(b)"
   ]
  },
  {
   "cell_type": "code",
   "execution_count": 4,
   "id": "297c0572",
   "metadata": {},
   "outputs": [
    {
     "data": {
      "text/plain": [
       "array([[0., 1.],\n",
       "       [1., 2.]])"
      ]
     },
     "execution_count": 4,
     "metadata": {},
     "output_type": "execute_result"
    }
   ],
   "source": [
    "np.fromfunction(lambda a,b:a+b,(2,2))"
   ]
  },
  {
   "cell_type": "code",
   "execution_count": 21,
   "id": "63b9bb59",
   "metadata": {},
   "outputs": [
    {
     "data": {
      "text/plain": [
       "[1, 4, 9, 16, 25, 36, 49, 64, 81, 100]"
      ]
     },
     "execution_count": 21,
     "metadata": {},
     "output_type": "execute_result"
    }
   ],
   "source": [
    "L=[i*i for i in range(1,11)]\n",
    "L"
   ]
  },
  {
   "cell_type": "code",
   "execution_count": 22,
   "id": "b2ee33ac",
   "metadata": {},
   "outputs": [
    {
     "data": {
      "text/plain": [
       "array([  1.,   4.,   9.,  16.,  25.,  36.,  49.,  64.,  81., 100.])"
      ]
     },
     "execution_count": 22,
     "metadata": {},
     "output_type": "execute_result"
    }
   ],
   "source": [
    "np.fromiter(L,dtype=float)"
   ]
  },
  {
   "cell_type": "code",
   "execution_count": 23,
   "id": "08ae3b4c",
   "metadata": {},
   "outputs": [
    {
     "data": {
      "text/plain": [
       "{1: 1, 2: 4, 3: 9, 4: 16, 5: 25, 6: 36, 7: 49, 8: 64, 9: 81, 10: 100}"
      ]
     },
     "execution_count": 23,
     "metadata": {},
     "output_type": "execute_result"
    }
   ],
   "source": [
    "D={i:i*i for i in range(1,11)}\n",
    "D"
   ]
  },
  {
   "cell_type": "code",
   "execution_count": 24,
   "id": "8d73ef1e",
   "metadata": {},
   "outputs": [
    {
     "data": {
      "text/plain": [
       "array([ 1,  2,  3,  4,  5,  6,  7,  8,  9, 10])"
      ]
     },
     "execution_count": 24,
     "metadata": {},
     "output_type": "execute_result"
    }
   ],
   "source": [
    "np.fromiter(D,dtype=int)"
   ]
  },
  {
   "cell_type": "code",
   "execution_count": 17,
   "id": "22067e20",
   "metadata": {},
   "outputs": [],
   "source": []
  },
  {
   "cell_type": "code",
   "execution_count": 29,
   "id": "3ec74539",
   "metadata": {},
   "outputs": [
    {
     "data": {
      "text/plain": [
       "array([ 10., 220.])"
      ]
     },
     "execution_count": 29,
     "metadata": {},
     "output_type": "execute_result"
    }
   ],
   "source": [
    "np.fromstring('10 , 220',sep=',',dtype=float)"
   ]
  },
  {
   "cell_type": "code",
   "execution_count": null,
   "id": "3b326945",
   "metadata": {},
   "outputs": [],
   "source": [
    "mera_fun(17)"
   ]
  },
  {
   "cell_type": "code",
   "execution_count": 31,
   "id": "e8878dea",
   "metadata": {},
   "outputs": [
    {
     "data": {
      "text/plain": [
       "[0, 1, 2, 3, 4, 5, 6, 7, 8, 9]"
      ]
     },
     "execution_count": 31,
     "metadata": {},
     "output_type": "execute_result"
    }
   ],
   "source": [
    "list(range(10))"
   ]
  },
  {
   "cell_type": "code",
   "execution_count": 22,
   "id": "887d9c16",
   "metadata": {},
   "outputs": [
    {
     "data": {
      "text/plain": [
       "array([10.,  6.])"
      ]
     },
     "execution_count": 22,
     "metadata": {},
     "output_type": "execute_result"
    }
   ],
   "source": [
    "np.fromstring('10 , 6',sep=',')"
   ]
  },
  {
   "cell_type": "markdown",
   "id": "e40873c0",
   "metadata": {},
   "source": [
    "### arange and linspace"
   ]
  },
  {
   "cell_type": "code",
   "execution_count": 32,
   "id": "3bf2975c",
   "metadata": {},
   "outputs": [],
   "source": [
    "# range(1,10)"
   ]
  },
  {
   "cell_type": "code",
   "execution_count": 37,
   "id": "2e3b2346",
   "metadata": {},
   "outputs": [
    {
     "name": "stdout",
     "output_type": "stream",
     "text": [
      "1\n",
      "2\n",
      "3\n",
      "4\n",
      "5\n",
      "6\n",
      "7\n",
      "8\n",
      "9\n"
     ]
    }
   ],
   "source": [
    "for i in range(1,10):\n",
    "    print(i)"
   ]
  },
  {
   "cell_type": "code",
   "execution_count": 38,
   "id": "88cae967",
   "metadata": {},
   "outputs": [
    {
     "data": {
      "text/plain": [
       "array([1, 2, 3, 4, 5, 6, 7, 8, 9])"
      ]
     },
     "execution_count": 38,
     "metadata": {},
     "output_type": "execute_result"
    }
   ],
   "source": [
    "np.arange(1,10)"
   ]
  },
  {
   "cell_type": "code",
   "execution_count": 35,
   "id": "96fea1fe",
   "metadata": {},
   "outputs": [
    {
     "data": {
      "text/plain": [
       "array([ 2.5,  3.5,  4.5,  5.5,  6.5,  7.5,  8.5,  9.5, 10.5])"
      ]
     },
     "execution_count": 35,
     "metadata": {},
     "output_type": "execute_result"
    }
   ],
   "source": [
    "np.arange(2.5,11.5)"
   ]
  },
  {
   "cell_type": "code",
   "execution_count": 40,
   "id": "df76f78f",
   "metadata": {},
   "outputs": [
    {
     "data": {
      "text/plain": [
       "array([1.5, 4. , 6.5, 9. ])"
      ]
     },
     "execution_count": 40,
     "metadata": {},
     "output_type": "execute_result"
    }
   ],
   "source": [
    "np.arange(1.5,10.9,2.5)"
   ]
  },
  {
   "cell_type": "code",
   "execution_count": 41,
   "id": "2e6de544",
   "metadata": {},
   "outputs": [
    {
     "data": {
      "text/plain": [
       "range(2, 17, 3)"
      ]
     },
     "execution_count": 41,
     "metadata": {},
     "output_type": "execute_result"
    }
   ],
   "source": [
    "range(2,17,3)"
   ]
  },
  {
   "cell_type": "code",
   "execution_count": 42,
   "id": "d7ef52b7",
   "metadata": {},
   "outputs": [
    {
     "data": {
      "text/plain": [
       "array([ 2,  5,  8, 11, 14])"
      ]
     },
     "execution_count": 42,
     "metadata": {},
     "output_type": "execute_result"
    }
   ],
   "source": [
    "np.arange(2,17,3)"
   ]
  },
  {
   "cell_type": "code",
   "execution_count": 43,
   "id": "d31ffcdf",
   "metadata": {},
   "outputs": [
    {
     "name": "stdout",
     "output_type": "stream",
     "text": [
      "Numbers spaced apart by 10: [50 60 70 80 90]\n"
     ]
    }
   ],
   "source": [
    "print(\"Numbers spaced apart by 10:\",np.arange(50,100,10))"
   ]
  },
  {
   "cell_type": "code",
   "execution_count": 44,
   "id": "174a1c01",
   "metadata": {},
   "outputs": [
    {
     "name": "stdout",
     "output_type": "stream",
     "text": [
      "Numbers spaced apart by float: [ 0.   2.5  5.   7.5 10. ]\n"
     ]
    }
   ],
   "source": [
    "print(\"Numbers spaced apart by float:\",np.arange(0,11,2.5))"
   ]
  },
  {
   "cell_type": "code",
   "execution_count": 45,
   "id": "d7566213",
   "metadata": {},
   "outputs": [
    {
     "name": "stdout",
     "output_type": "stream",
     "text": [
      "Numbers in reverse order: [100  80  60  40  20]\n"
     ]
    }
   ],
   "source": [
    "print(\"Numbers in reverse order:\",np.arange(100,0,-20))"
   ]
  },
  {
   "cell_type": "code",
   "execution_count": 43,
   "id": "ba920377",
   "metadata": {},
   "outputs": [
    {
     "data": {
      "text/plain": [
       "array([1.        , 1.11111111, 1.22222222, 1.33333333, 1.44444444,\n",
       "       1.55555556, 1.66666667, 1.77777778, 1.88888889, 2.        ])"
      ]
     },
     "execution_count": 43,
     "metadata": {},
     "output_type": "execute_result"
    }
   ],
   "source": [
    "np.linspace(1,2,10)     #it generates the array between the range"
   ]
  },
  {
   "cell_type": "code",
   "execution_count": 55,
   "id": "df56c9ea",
   "metadata": {},
   "outputs": [
    {
     "data": {
      "text/plain": [
       "0.11111110999999996"
      ]
     },
     "execution_count": 55,
     "metadata": {},
     "output_type": "execute_result"
    }
   ],
   "source": [
    "1.22222222-1.11111111"
   ]
  },
  {
   "cell_type": "code",
   "execution_count": 56,
   "id": "ec17f79b",
   "metadata": {},
   "outputs": [
    {
     "data": {
      "text/plain": [
       "0.11111110999999996"
      ]
     },
     "execution_count": 56,
     "metadata": {},
     "output_type": "execute_result"
    }
   ],
   "source": [
    "1.88888889-1.77777778"
   ]
  },
  {
   "cell_type": "code",
   "execution_count": 60,
   "id": "a868b2fc",
   "metadata": {},
   "outputs": [
    {
     "data": {
      "text/plain": [
       "array([1.        , 1.01111111, 1.02222222, 1.03333333, 1.04444444,\n",
       "       1.05555556, 1.06666667, 1.07777778, 1.08888889, 1.1       ])"
      ]
     },
     "execution_count": 60,
     "metadata": {},
     "output_type": "execute_result"
    }
   ],
   "source": [
    "np.linspace(1,1.1,10)"
   ]
  },
  {
   "cell_type": "markdown",
   "id": "2c53225d",
   "metadata": {},
   "source": [
    "### array creation"
   ]
  },
  {
   "cell_type": "code",
   "execution_count": 64,
   "id": "584cf1f2",
   "metadata": {},
   "outputs": [
    {
     "data": {
      "text/plain": [
       "array([[0., 0., 0., 0., 0.],\n",
       "       [0., 0., 0., 0., 0.],\n",
       "       [0., 0., 0., 0., 0.]])"
      ]
     },
     "execution_count": 64,
     "metadata": {},
     "output_type": "execute_result"
    }
   ],
   "source": [
    "np.zeros((3,5))"
   ]
  },
  {
   "cell_type": "code",
   "execution_count": 62,
   "id": "ac3a5cfe",
   "metadata": {},
   "outputs": [
    {
     "data": {
      "text/plain": [
       "array([[0.+0.j, 0.+0.j, 0.+0.j, 0.+0.j, 0.+0.j],\n",
       "       [0.+0.j, 0.+0.j, 0.+0.j, 0.+0.j, 0.+0.j],\n",
       "       [0.+0.j, 0.+0.j, 0.+0.j, 0.+0.j, 0.+0.j],\n",
       "       [0.+0.j, 0.+0.j, 0.+0.j, 0.+0.j, 0.+0.j],\n",
       "       [0.+0.j, 0.+0.j, 0.+0.j, 0.+0.j, 0.+0.j]])"
      ]
     },
     "execution_count": 62,
     "metadata": {},
     "output_type": "execute_result"
    }
   ],
   "source": [
    "np.zeros((5,5),dtype=complex)"
   ]
  },
  {
   "cell_type": "code",
   "execution_count": 67,
   "id": "d15bd3c2",
   "metadata": {},
   "outputs": [
    {
     "data": {
      "text/plain": [
       "array([[1., 1.],\n",
       "       [1., 1.]])"
      ]
     },
     "execution_count": 67,
     "metadata": {},
     "output_type": "execute_result"
    }
   ],
   "source": [
    "np.ones((2,2))"
   ]
  },
  {
   "cell_type": "code",
   "execution_count": 46,
   "id": "383d7bac",
   "metadata": {},
   "outputs": [
    {
     "data": {
      "text/plain": [
       "array([[['1', '1'],\n",
       "        ['1', '1']],\n",
       "\n",
       "       [['1', '1'],\n",
       "        ['1', '1']],\n",
       "\n",
       "       [['1', '1'],\n",
       "        ['1', '1']]], dtype='<U1')"
      ]
     },
     "execution_count": 46,
     "metadata": {},
     "output_type": "execute_result"
    }
   ],
   "source": [
    "np.ones((3,2,2),dtype=str)"
   ]
  },
  {
   "cell_type": "code",
   "execution_count": 47,
   "id": "f88d6784",
   "metadata": {},
   "outputs": [
    {
     "data": {
      "text/plain": [
       "array([[[1, 1, 1],\n",
       "        [1, 1, 1],\n",
       "        [1, 1, 1]],\n",
       "\n",
       "       [[1, 1, 1],\n",
       "        [1, 1, 1],\n",
       "        [1, 1, 1]]])"
      ]
     },
     "execution_count": 47,
     "metadata": {},
     "output_type": "execute_result"
    }
   ],
   "source": [
    "np.ones((2,3,3),dtype=int)\n",
    "\n",
    "# x.ndim"
   ]
  },
  {
   "cell_type": "code",
   "execution_count": 48,
   "id": "6dc57d19",
   "metadata": {},
   "outputs": [
    {
     "name": "stdout",
     "output_type": "stream",
     "text": [
      "[[[5 5]\n",
      "  [5 5]\n",
      "  [5 5]\n",
      "  [5 5]]\n",
      "\n",
      " [[5 5]\n",
      "  [5 5]\n",
      "  [5 5]\n",
      "  [5 5]]\n",
      "\n",
      " [[5 5]\n",
      "  [5 5]\n",
      "  [5 5]\n",
      "  [5 5]]]\n"
     ]
    }
   ],
   "source": [
    "print(np.full((3,4,2),5))"
   ]
  },
  {
   "cell_type": "code",
   "execution_count": 74,
   "id": "3edeecb7",
   "metadata": {},
   "outputs": [
    {
     "name": "stdout",
     "output_type": "stream",
     "text": [
      "[[[6. 6. 6. 6. 6.]\n",
      "  [6. 6. 6. 6. 6.]\n",
      "  [6. 6. 6. 6. 6.]\n",
      "  [6. 6. 6. 6. 6.]\n",
      "  [6. 6. 6. 6. 6.]]\n",
      "\n",
      " [[6. 6. 6. 6. 6.]\n",
      "  [6. 6. 6. 6. 6.]\n",
      "  [6. 6. 6. 6. 6.]\n",
      "  [6. 6. 6. 6. 6.]\n",
      "  [6. 6. 6. 6. 6.]]\n",
      "\n",
      " [[6. 6. 6. 6. 6.]\n",
      "  [6. 6. 6. 6. 6.]\n",
      "  [6. 6. 6. 6. 6.]\n",
      "  [6. 6. 6. 6. 6.]\n",
      "  [6. 6. 6. 6. 6.]]]\n"
     ]
    }
   ],
   "source": [
    "print(5+np.ones((3,5,5)))"
   ]
  },
  {
   "cell_type": "markdown",
   "id": "4dbd66bf",
   "metadata": {},
   "source": [
    "#### Idenity matrix"
   ]
  },
  {
   "cell_type": "code",
   "execution_count": 49,
   "id": "76aa6636",
   "metadata": {},
   "outputs": [
    {
     "name": "stdout",
     "output_type": "stream",
     "text": [
      "[[1. 0. 0. 0.]\n",
      " [0. 1. 0. 0.]\n",
      " [0. 0. 1. 0.]\n",
      " [0. 0. 0. 1.]]\n"
     ]
    }
   ],
   "source": [
    "import numpy as np\n",
    "ar=np.eye(4)\n",
    "# print('for diagonal elements 1',ar.shape)\n",
    "# print(type(ar))\n",
    "print(ar)"
   ]
  },
  {
   "cell_type": "code",
   "execution_count": 55,
   "id": "db6b9687",
   "metadata": {},
   "outputs": [
    {
     "name": "stdout",
     "output_type": "stream",
     "text": [
      "[[0. 0. 0. 0.]\n",
      " [0. 0. 0. 0.]\n",
      " [1. 0. 0. 0.]\n",
      " [0. 1. 0. 0.]]\n"
     ]
    }
   ],
   "source": [
    "# ar1=np.eye(4,k=1)\n",
    "# print(ar1)\n",
    "\n",
    "# print('-------------------------------------------')\n",
    "\n",
    "ar2=np.eye(4,k=-2)\n",
    "print(ar2)\n",
    "\n",
    "# print('-----------------------------------------')\n",
    "\n",
    "# mat3=np.eye(4,k=3)\n",
    "\n",
    "# print(mat3)"
   ]
  },
  {
   "cell_type": "code",
   "execution_count": 99,
   "id": "69481eeb",
   "metadata": {},
   "outputs": [
    {
     "name": "stdout",
     "output_type": "stream",
     "text": [
      "[[0. 0. 0.]\n",
      " [0. 0. 0.]\n",
      " [1. 0. 0.]]\n",
      "---------------------------------\n"
     ]
    }
   ],
   "source": [
    "mat4=np.eye(3,k=-2)\n",
    "print(mat4)\n",
    "\n",
    "print('---------------------------------')\n",
    "# mat5=np.eye(3,k=-2)\n",
    "# print(mat5)"
   ]
  },
  {
   "cell_type": "code",
   "execution_count": 56,
   "id": "f810e693",
   "metadata": {},
   "outputs": [
    {
     "data": {
      "text/plain": [
       "matrix([[3, 2, 2, 5, 6]])"
      ]
     },
     "execution_count": 56,
     "metadata": {},
     "output_type": "execute_result"
    }
   ],
   "source": [
    "np.mat((3,2,2,5,6))"
   ]
  },
  {
   "cell_type": "code",
   "execution_count": null,
   "id": "91227362",
   "metadata": {},
   "outputs": [],
   "source": [
    "np.mat([[1,2,3,5],[6,7,8,9]])"
   ]
  },
  {
   "cell_type": "markdown",
   "id": "4cf9ecd3",
   "metadata": {},
   "source": [
    "#### Diagonal"
   ]
  },
  {
   "cell_type": "code",
   "execution_count": 57,
   "id": "dab4255a",
   "metadata": {},
   "outputs": [
    {
     "data": {
      "text/plain": [
       "array([[  1,   2,   3],\n",
       "       [100, 200, 300],\n",
       "       [ 11,  22,  33]])"
      ]
     },
     "execution_count": 57,
     "metadata": {},
     "output_type": "execute_result"
    }
   ],
   "source": [
    "D=np.array([[1,2,3],[100,200,300],[11,22,33]])\n",
    "D\n"
   ]
  },
  {
   "cell_type": "code",
   "execution_count": 119,
   "id": "4efe1952",
   "metadata": {},
   "outputs": [
    {
     "data": {
      "text/plain": [
       "3"
      ]
     },
     "execution_count": 119,
     "metadata": {},
     "output_type": "execute_result"
    }
   ],
   "source": [
    "len(D)"
   ]
  },
  {
   "cell_type": "code",
   "execution_count": 116,
   "id": "ec87ac4b",
   "metadata": {},
   "outputs": [
    {
     "name": "stdout",
     "output_type": "stream",
     "text": [
      "[3, 3, 3, 300, 300, 300, 33, 33, 33]\n"
     ]
    }
   ],
   "source": [
    "L=[]\n",
    "x=0\n",
    "for i in D:\n",
    "    \n",
    "    a=len(i)\n",
    "    x=a\n",
    "    \n",
    "#     print(i)\n",
    "    for j in i:\n",
    "        L.append(i[a-1])\n",
    "    a=a-1\n",
    "print(L)   "
   ]
  },
  {
   "cell_type": "code",
   "execution_count": 121,
   "id": "e74b5251",
   "metadata": {},
   "outputs": [
    {
     "name": "stdout",
     "output_type": "stream",
     "text": [
      "[3, 3, 3, 200, 200, 200, 11, 11, 11]\n"
     ]
    }
   ],
   "source": [
    "L=[]\n",
    "x=0\n",
    "a=len(D)\n",
    "for i in D:\n",
    "    \n",
    "\n",
    "    for j in i:\n",
    "        L.append(i[a-1])\n",
    "    a=a-1\n",
    "print(L)   "
   ]
  },
  {
   "cell_type": "code",
   "execution_count": 105,
   "id": "b92f2152",
   "metadata": {},
   "outputs": [
    {
     "name": "stdout",
     "output_type": "stream",
     "text": [
      "[  1 200  33]\n"
     ]
    }
   ],
   "source": [
    "print(np.diag((D)))"
   ]
  },
  {
   "cell_type": "code",
   "execution_count": 61,
   "id": "0d0b1b2d",
   "metadata": {},
   "outputs": [
    {
     "name": "stdout",
     "output_type": "stream",
     "text": [
      "<class 'numpy.matrix'>\n",
      "[[  7   8   9]\n",
      " [ 77  88  99]\n",
      " [777 888 999]]\n",
      "\n",
      "[  7  88 999]\n"
     ]
    }
   ],
   "source": [
    "E=np.mat([[7,8,9],[77,88,99],[777,888,999]])\n",
    "print(type(E))\n",
    "print(E)\n",
    "\n",
    "print()\n",
    "print(np.diag(E))"
   ]
  },
  {
   "cell_type": "code",
   "execution_count": 63,
   "id": "cbcdf5b4",
   "metadata": {},
   "outputs": [
    {
     "name": "stdout",
     "output_type": "stream",
     "text": [
      "[777]\n"
     ]
    }
   ],
   "source": [
    "# print(np.diag(E))\n",
    "# print(np.diag(E,k=1))\n",
    "print(np.diag(E,k=-2))"
   ]
  },
  {
   "cell_type": "code",
   "execution_count": 1,
   "id": "83536136",
   "metadata": {},
   "outputs": [],
   "source": [
    "import numpy as np"
   ]
  },
  {
   "cell_type": "code",
   "execution_count": 3,
   "id": "b7c1ebee",
   "metadata": {},
   "outputs": [
    {
     "name": "stdout",
     "output_type": "stream",
     "text": [
      "[[  1   2   3]\n",
      " [100 200 300]\n",
      " [ 11  22  33]]\n"
     ]
    }
   ],
   "source": [
    "print(D)"
   ]
  },
  {
   "cell_type": "code",
   "execution_count": 4,
   "id": "caf6a1f8",
   "metadata": {},
   "outputs": [
    {
     "name": "stdout",
     "output_type": "stream",
     "text": [
      "[[  1   0   0]\n",
      " [  0 200   0]\n",
      " [  0   0  33]]\n"
     ]
    }
   ],
   "source": [
    "print(np.diag(np.diag(D)))"
   ]
  },
  {
   "cell_type": "code",
   "execution_count": 10,
   "id": "35af0f76",
   "metadata": {},
   "outputs": [
    {
     "name": "stdout",
     "output_type": "stream",
     "text": [
      "[[  7   8   9]\n",
      " [ 77  88  99]\n",
      " [777 888 999]]\n"
     ]
    }
   ],
   "source": [
    "print(E)\n",
    "# print(np.diag(np.diag(E)))"
   ]
  },
  {
   "cell_type": "code",
   "execution_count": 9,
   "id": "ff297b07",
   "metadata": {},
   "outputs": [
    {
     "name": "stdout",
     "output_type": "stream",
     "text": [
      "[[ 77   0]\n",
      " [  0 888]]\n"
     ]
    }
   ],
   "source": [
    "# print(E)\n",
    "print(np.diag(np.diag(E,k=-1)))"
   ]
  },
  {
   "cell_type": "code",
   "execution_count": null,
   "id": "3defaea0",
   "metadata": {},
   "outputs": [],
   "source": [
    "# create a two dimensional array with the flattened input as diagonal"
   ]
  },
  {
   "cell_type": "code",
   "execution_count": 17,
   "id": "e767521a",
   "metadata": {},
   "outputs": [
    {
     "data": {
      "text/plain": [
       "array([[1, 0, 0],\n",
       "       [0, 1, 0],\n",
       "       [0, 0, 1]])"
      ]
     },
     "execution_count": 17,
     "metadata": {},
     "output_type": "execute_result"
    }
   ],
   "source": [
    "x=np.diagflat([[1,1,1]],k=0)\n",
    "x"
   ]
  },
  {
   "cell_type": "code",
   "execution_count": 67,
   "id": "87f4fb9d",
   "metadata": {},
   "outputs": [
    {
     "data": {
      "text/plain": [
       "array([[ 0,  0,  0,  0,  0],\n",
       "       [ 0,  0,  0,  0,  0],\n",
       "       [ 5,  0,  0,  0,  0],\n",
       "       [ 0, 55,  0,  0,  0],\n",
       "       [ 0,  0, 55,  0,  0]])"
      ]
     },
     "execution_count": 67,
     "metadata": {},
     "output_type": "execute_result"
    }
   ],
   "source": [
    "y=np.diagflat([[5,55,55]],k=-2)\n",
    "y"
   ]
  },
  {
   "cell_type": "code",
   "execution_count": 19,
   "id": "1f0f0bea",
   "metadata": {},
   "outputs": [
    {
     "data": {
      "text/plain": [
       "array([[0, 0, 0],\n",
       "       [0, 0, 0],\n",
       "       [5, 0, 0]])"
      ]
     },
     "execution_count": 19,
     "metadata": {},
     "output_type": "execute_result"
    }
   ],
   "source": [
    "Z=np.diagflat([[5]],k=-2)\n",
    "Z"
   ]
  },
  {
   "cell_type": "code",
   "execution_count": 47,
   "id": "356284a2",
   "metadata": {},
   "outputs": [],
   "source": [
    "import numpy as np\n",
    "# import random"
   ]
  },
  {
   "cell_type": "code",
   "execution_count": 77,
   "id": "323664f6",
   "metadata": {},
   "outputs": [
    {
     "data": {
      "text/plain": [
       "8"
      ]
     },
     "execution_count": 77,
     "metadata": {},
     "output_type": "execute_result"
    }
   ],
   "source": [
    "x=np.random.randint(1,10)\n",
    "x"
   ]
  },
  {
   "cell_type": "code",
   "execution_count": null,
   "id": "3ac295b9",
   "metadata": {},
   "outputs": [],
   "source": []
  },
  {
   "cell_type": "code",
   "execution_count": null,
   "id": "f2f491e7",
   "metadata": {},
   "outputs": [],
   "source": []
  },
  {
   "cell_type": "code",
   "execution_count": 1,
   "id": "e3d04766",
   "metadata": {},
   "outputs": [],
   "source": [
    "import numpy as np"
   ]
  },
  {
   "cell_type": "markdown",
   "id": "dc8d2abc",
   "metadata": {},
   "source": [
    "## Random Number genertion"
   ]
  },
  {
   "cell_type": "code",
   "execution_count": 79,
   "id": "443b1301",
   "metadata": {},
   "outputs": [],
   "source": [
    "\n",
    "x=(np.random.rand(5,5))"
   ]
  },
  {
   "cell_type": "code",
   "execution_count": 83,
   "id": "c1e3fef3",
   "metadata": {},
   "outputs": [
    {
     "data": {
      "text/plain": [
       "0.5409121307112507"
      ]
     },
     "execution_count": 83,
     "metadata": {},
     "output_type": "execute_result"
    }
   ],
   "source": [
    "np.mean(x)"
   ]
  },
  {
   "cell_type": "code",
   "execution_count": 82,
   "id": "855b4be3",
   "metadata": {},
   "outputs": [
    {
     "data": {
      "text/plain": [
       "0.55093217001984"
      ]
     },
     "execution_count": 82,
     "metadata": {},
     "output_type": "execute_result"
    }
   ],
   "source": [
    "np.median(x)"
   ]
  },
  {
   "cell_type": "code",
   "execution_count": 85,
   "id": "639a6a64",
   "metadata": {},
   "outputs": [],
   "source": [
    "from scipy import stats as ts"
   ]
  },
  {
   "cell_type": "code",
   "execution_count": 87,
   "id": "71526ee4",
   "metadata": {},
   "outputs": [],
   "source": []
  },
  {
   "cell_type": "code",
   "execution_count": 93,
   "id": "e13f2f35",
   "metadata": {},
   "outputs": [
    {
     "name": "stdout",
     "output_type": "stream",
     "text": [
      "Numbers from Normal distribution with zero mean and standard deviation 1 i.e. standard normal\n"
     ]
    },
    {
     "data": {
      "text/plain": [
       "array([-0.66678525, -2.1983472 , -1.56289409, ..., -0.32546394,\n",
       "        1.60227548, -0.95665922])"
      ]
     },
     "execution_count": 93,
     "metadata": {},
     "output_type": "execute_result"
    }
   ],
   "source": [
    "print(\"Numbers from Normal distribution with zero mean and standard deviation 1 i.e. standard normal\")\n",
    "z=np.random.randn(100000)\n",
    "z"
   ]
  },
  {
   "cell_type": "code",
   "execution_count": 94,
   "id": "ecf09eed",
   "metadata": {},
   "outputs": [
    {
     "data": {
      "text/plain": [
       "1.0012773603113319"
      ]
     },
     "execution_count": 94,
     "metadata": {},
     "output_type": "execute_result"
    }
   ],
   "source": [
    "z.std()"
   ]
  },
  {
   "cell_type": "code",
   "execution_count": 95,
   "id": "ced25504",
   "metadata": {},
   "outputs": [
    {
     "data": {
      "text/plain": [
       "0.0058614513195890325"
      ]
     },
     "execution_count": 95,
     "metadata": {},
     "output_type": "execute_result"
    }
   ],
   "source": [
    "np.mean(z)"
   ]
  },
  {
   "cell_type": "code",
   "execution_count": 14,
   "id": "a6bc0901",
   "metadata": {},
   "outputs": [
    {
     "data": {
      "text/plain": [
       "-0.0014687504596295252"
      ]
     },
     "execution_count": 14,
     "metadata": {},
     "output_type": "execute_result"
    }
   ],
   "source": [
    "np.median(z)"
   ]
  },
  {
   "cell_type": "code",
   "execution_count": null,
   "id": "79eec51e",
   "metadata": {},
   "outputs": [],
   "source": [
    "st.mode(z)"
   ]
  },
  {
   "cell_type": "code",
   "execution_count": null,
   "id": "07e68bf1",
   "metadata": {},
   "outputs": [],
   "source": [
    "# normal dist= mean=median=mode\n",
    "# standard normal distribution=== mean=0, std=1"
   ]
  },
  {
   "cell_type": "code",
   "execution_count": 117,
   "id": "2365b31e",
   "metadata": {},
   "outputs": [
    {
     "data": {
      "text/plain": [
       "array([ 8.82098111,  8.2402243 , 10.35120019, ...,  9.4649447 ,\n",
       "        9.69487333, 11.53490096])"
      ]
     },
     "execution_count": 117,
     "metadata": {},
     "output_type": "execute_result"
    }
   ],
   "source": [
    "# standard normal distribution\n",
    "n=np.random.normal(loc= 10, scale=1, size=2000000)\n",
    "n"
   ]
  },
  {
   "cell_type": "code",
   "execution_count": 107,
   "id": "a4a99fff",
   "metadata": {},
   "outputs": [
    {
     "data": {
      "text/plain": [
       "0.00048762286502903706"
      ]
     },
     "execution_count": 107,
     "metadata": {},
     "output_type": "execute_result"
    }
   ],
   "source": [
    "np.mean(n)"
   ]
  },
  {
   "cell_type": "code",
   "execution_count": 108,
   "id": "0f6141b6",
   "metadata": {},
   "outputs": [
    {
     "data": {
      "text/plain": [
       "0.9993871435891258"
      ]
     },
     "execution_count": 108,
     "metadata": {},
     "output_type": "execute_result"
    }
   ],
   "source": [
    "np.std(n)"
   ]
  },
  {
   "cell_type": "code",
   "execution_count": 112,
   "id": "3f554b95",
   "metadata": {},
   "outputs": [],
   "source": [
    "from scipy import stats as st"
   ]
  },
  {
   "cell_type": "code",
   "execution_count": 75,
   "id": "62eeb373",
   "metadata": {},
   "outputs": [
    {
     "name": "stdout",
     "output_type": "stream",
     "text": [
      "10.002988522073\n",
      "10.003935611258827\n",
      "1.0000776226963488\n"
     ]
    }
   ],
   "source": [
    "print(np.mean(n))\n",
    "print(np.median(n))\n",
    "print(np.std(n))\n",
    "\n",
    "# print(st.mode(n))"
   ]
  },
  {
   "cell_type": "code",
   "execution_count": null,
   "id": "ac27f195",
   "metadata": {},
   "outputs": [],
   "source": []
  },
  {
   "cell_type": "code",
   "execution_count": null,
   "id": "5baef12f",
   "metadata": {},
   "outputs": [],
   "source": [
    "np.std(n)"
   ]
  },
  {
   "cell_type": "code",
   "execution_count": 118,
   "id": "eefd8c2e",
   "metadata": {},
   "outputs": [
    {
     "data": {
      "image/png": "[encoded data removed]",
      "text/plain": [
       "<Figure size 432x288 with 1 Axes>"
      ]
     },
     "metadata": {
      "needs_background": "light"
     },
     "output_type": "display_data"
    }
   ],
   "source": [
    "# QQ plot\n",
    "import pylab\n",
    "st.probplot(n,dist='norm',plot=pylab);\n",
    "# pylab.show()"
   ]
  },
  {
   "cell_type": "code",
   "execution_count": null,
   "id": "ec76d092",
   "metadata": {},
   "outputs": [],
   "source": [
    "n.mean()"
   ]
  },
  {
   "cell_type": "code",
   "execution_count": null,
   "id": "cee6cb6b",
   "metadata": {},
   "outputs": [],
   "source": [
    "n.std()"
   ]
  },
  {
   "cell_type": "code",
   "execution_count": 128,
   "id": "c989900e",
   "metadata": {},
   "outputs": [
    {
     "name": "stdout",
     "output_type": "stream",
     "text": [
      "Random integer generation using\n",
      "[[51 53 54 52 52]\n",
      " [54 53 54 50 50]\n",
      " [51 51 54 51 52]\n",
      " [53 52 51 50 51]]\n"
     ]
    }
   ],
   "source": [
    "print('Random integer generation using')\n",
    "print(np.random.randint(50,55,(4,5)))"
   ]
  },
  {
   "cell_type": "code",
   "execution_count": 130,
   "id": "ece8f6a8",
   "metadata": {},
   "outputs": [
    {
     "data": {
      "text/plain": [
       "array([1, 3, 2, 2, 8, 2, 6, 8, 6, 4, 2, 4, 7, 2, 6, 6, 7, 1, 2, 4, 4, 3,\n",
       "       8, 5, 8, 1, 2, 7, 8, 4, 6, 8, 5, 1, 4, 3, 7, 4, 1, 2, 2, 8, 4, 2,\n",
       "       1, 2, 2, 5, 5, 2, 3, 9, 5, 7, 8, 6, 4, 2, 6, 8, 4, 4, 6, 8, 8, 4,\n",
       "       1, 4, 1, 1, 3, 8, 3, 8, 2, 1, 2, 9, 5, 6, 1, 9, 6, 3, 4, 9, 3, 8,\n",
       "       6, 8, 8, 4, 5, 5, 1, 8, 1, 2, 1, 5])"
      ]
     },
     "execution_count": 130,
     "metadata": {},
     "output_type": "execute_result"
    }
   ],
   "source": [
    "np.random.randint(1,10,100)"
   ]
  },
  {
   "cell_type": "code",
   "execution_count": 150,
   "id": "afce5c54",
   "metadata": {},
   "outputs": [
    {
     "name": "stdout",
     "output_type": "stream",
     "text": [
      "7\n",
      "enter n 5\n",
      "do you want hint yes\n",
      " number in range 6-9\n",
      "enter n 7\n",
      "win\n"
     ]
    }
   ],
   "source": [
    "comp=np.random.randint(1,10)\n",
    "# user=int(input('enter n '))\n",
    "chance=3\n",
    "while chance!=0:\n",
    "    print(comp) \n",
    "    user=int(input('enter n '))\n",
    "    chance-=1\n",
    "    if user==comp:\n",
    "        print('win')\n",
    "        break\n",
    "        \n",
    "    hint=input('do you want hint ')\n",
    "    if hint=='yes':\n",
    "        if comp in range(1,6):\n",
    "            print('comp number is in 1-5')\n",
    "            user=int(input('enter n '))\n",
    "            if user==comp:\n",
    "                print('win')\n",
    "                break\n",
    "                \n",
    "        elif comp in range(6,10):\n",
    "            print(' number in range 6-9')\n",
    "\n",
    "            user=int(input('enter n '))\n",
    "            if user==comp:\n",
    "                print('win')\n",
    "                break\n",
    "\n",
    "                \n",
    "    else:\n",
    "        print(' ok ')\n",
    "        user=int(input('enter n '))\n",
    "        \n",
    "            \n",
    "    \n",
    "\n",
    "        \n",
    "    \n"
   ]
  },
  {
   "cell_type": "code",
   "execution_count": null,
   "id": "1d1fb6df",
   "metadata": {},
   "outputs": [],
   "source": []
  },
  {
   "cell_type": "code",
   "execution_count": null,
   "id": "ac2ba6aa",
   "metadata": {},
   "outputs": [],
   "source": []
  },
  {
   "cell_type": "code",
   "execution_count": null,
   "id": "eddbd7a5",
   "metadata": {},
   "outputs": [],
   "source": []
  },
  {
   "cell_type": "code",
   "execution_count": 18,
   "id": "6ff25953",
   "metadata": {},
   "outputs": [
    {
     "data": {
      "text/plain": [
       "58"
      ]
     },
     "execution_count": 18,
     "metadata": {},
     "output_type": "execute_result"
    }
   ],
   "source": [
    "np.random.randint(100)"
   ]
  },
  {
   "cell_type": "code",
   "execution_count": null,
   "id": "0ea05baa",
   "metadata": {},
   "outputs": [],
   "source": [
    "n=int(input('enter n '))\n",
    "x=np.random.randint(10)\n",
    "chance=3\n",
    "while chance!=0:\n",
    "    if n==x:\n",
    "        print('guessed')\n",
    "        break\n",
    "        \n",
    "    elif x in range(1,3):\n",
    "        print('your number is in between 1-3')\n",
    "        n=int(input('enter n '))\n",
    "        if x==n:\n",
    "            print('guessed')\n",
    "            break\n",
    "            \n",
    "    elif x in range(4,7):\n",
    "        print('your number is in between 4-7')\n",
    "        n=int(input('enter n '))\n",
    "        if x==n:\n",
    "            print('guessed')\n",
    "            break\n",
    "            \n",
    "    else:\n",
    "        print('your number 8-10')\n",
    "        n=int(input('enter n '))\n",
    "        if x==n:\n",
    "            print('guessed')\n",
    "            break\n",
    "    \n",
    "    \n",
    "    \n",
    "        \n",
    "#     n=int(input('enter n'))\n",
    "    chance=chance-1"
   ]
  },
  {
   "cell_type": "markdown",
   "id": "8d6d3700",
   "metadata": {},
   "source": [
    "### sorting"
   ]
  },
  {
   "cell_type": "code",
   "execution_count": 126,
   "id": "c0dfe830",
   "metadata": {},
   "outputs": [
    {
     "data": {
      "text/plain": [
       "array([[13, 95, 49, 39],\n",
       "       [13, 88, 21, 40],\n",
       "       [24, 50, 16, 15],\n",
       "       [62, 80, 68, 90]])"
      ]
     },
     "execution_count": 126,
     "metadata": {},
     "output_type": "execute_result"
    }
   ],
   "source": [
    "arr=np.random.randint(10,100,(4,4))\n",
    "arr"
   ]
  },
  {
   "cell_type": "code",
   "execution_count": 128,
   "id": "e4b35721",
   "metadata": {},
   "outputs": [
    {
     "data": {
      "text/plain": [
       "array([[13, 50, 16, 15],\n",
       "       [13, 80, 21, 39],\n",
       "       [24, 88, 49, 40],\n",
       "       [62, 95, 68, 90]])"
      ]
     },
     "execution_count": 128,
     "metadata": {},
     "output_type": "execute_result"
    }
   ],
   "source": [
    "c=np.sort(arr,axis=0)  # sorting with respect to rows\n",
    "c"
   ]
  },
  {
   "cell_type": "code",
   "execution_count": 129,
   "id": "dc9f65d0",
   "metadata": {},
   "outputs": [
    {
     "data": {
      "text/plain": [
       "array([[13, 39, 49, 95],\n",
       "       [13, 21, 40, 88],\n",
       "       [15, 16, 24, 50],\n",
       "       [62, 68, 80, 90]])"
      ]
     },
     "execution_count": 129,
     "metadata": {},
     "output_type": "execute_result"
    }
   ],
   "source": [
    "d=np.sort(arr,axis=1)# for columns\n",
    "d"
   ]
  },
  {
   "cell_type": "code",
   "execution_count": 130,
   "id": "a761eafb",
   "metadata": {},
   "outputs": [
    {
     "data": {
      "text/plain": [
       "95"
      ]
     },
     "execution_count": 130,
     "metadata": {},
     "output_type": "execute_result"
    }
   ],
   "source": [
    "c.max()"
   ]
  },
  {
   "cell_type": "code",
   "execution_count": 131,
   "id": "6a8085cf",
   "metadata": {},
   "outputs": [
    {
     "data": {
      "text/plain": [
       "13"
      ]
     },
     "execution_count": 131,
     "metadata": {},
     "output_type": "execute_result"
    }
   ],
   "source": [
    "c.min()"
   ]
  },
  {
   "cell_type": "code",
   "execution_count": 132,
   "id": "401b6b34",
   "metadata": {},
   "outputs": [
    {
     "data": {
      "text/plain": [
       "array([3, 0, 3, 3], dtype=int64)"
      ]
     },
     "execution_count": 132,
     "metadata": {},
     "output_type": "execute_result"
    }
   ],
   "source": [
    "arr.argmax(axis=0) # it retuen the index elements of the array"
   ]
  },
  {
   "cell_type": "code",
   "execution_count": 133,
   "id": "82c65050",
   "metadata": {},
   "outputs": [
    {
     "data": {
      "text/plain": [
       "array([0, 2, 2, 2], dtype=int64)"
      ]
     },
     "execution_count": 133,
     "metadata": {},
     "output_type": "execute_result"
    }
   ],
   "source": [
    "arr.argmin(axis=0)"
   ]
  },
  {
   "cell_type": "code",
   "execution_count": null,
   "id": "d34b8e5c",
   "metadata": {},
   "outputs": [],
   "source": [
    "arr.argmax(axis=1)"
   ]
  },
  {
   "cell_type": "code",
   "execution_count": 22,
   "id": "bf89dfc2",
   "metadata": {},
   "outputs": [
    {
     "ename": "NameError",
     "evalue": "name 'arr' is not defined",
     "output_type": "error",
     "traceback": [
      "\u001b[1;31m---------------------------------------------------------------------------\u001b[0m",
      "\u001b[1;31mNameError\u001b[0m                                 Traceback (most recent call last)",
      "\u001b[1;32m<ipython-input-22-460b75e96c78>\u001b[0m in \u001b[0;36m<module>\u001b[1;34m\u001b[0m\n\u001b[1;32m----> 1\u001b[1;33m \u001b[0marr\u001b[0m\u001b[1;33m.\u001b[0m\u001b[0margmin\u001b[0m\u001b[1;33m(\u001b[0m\u001b[0maxis\u001b[0m\u001b[1;33m=\u001b[0m\u001b[1;36m1\u001b[0m\u001b[1;33m)\u001b[0m\u001b[1;33m\u001b[0m\u001b[1;33m\u001b[0m\u001b[0m\n\u001b[0m",
      "\u001b[1;31mNameError\u001b[0m: name 'arr' is not defined"
     ]
    }
   ],
   "source": [
    "arr.argmin(axis=1)"
   ]
  },
  {
   "cell_type": "code",
   "execution_count": null,
   "id": "18be005b",
   "metadata": {},
   "outputs": [],
   "source": [
    "'-----------------------------------------------------------------------------------------------------------------------------'"
   ]
  },
  {
   "cell_type": "code",
   "execution_count": null,
   "id": "c459bf68",
   "metadata": {},
   "outputs": [],
   "source": []
  },
  {
   "cell_type": "code",
   "execution_count": null,
   "id": "e99af551",
   "metadata": {},
   "outputs": [],
   "source": []
  },
  {
   "cell_type": "code",
   "execution_count": null,
   "id": "5f5c5654",
   "metadata": {},
   "outputs": [],
   "source": []
  },
  {
   "cell_type": "code",
   "execution_count": 90,
   "id": "289fc2bb",
   "metadata": {},
   "outputs": [
    {
     "name": "stdout",
     "output_type": "stream",
     "text": [
      "<class 'numpy.ndarray'>\n"
     ]
    },
    {
     "data": {
      "text/plain": [
       "7.619047619047619"
      ]
     },
     "execution_count": 90,
     "metadata": {},
     "output_type": "execute_result"
    }
   ],
   "source": [
    "L=np.array([[1,1,1,1,2,4,5,2,6,3,56,2,5,2,42,2,3,4,5,6,7]]) \n",
    "# print(L)\n",
    "print(type(L))\n",
    "np.mean(L)"
   ]
  },
  {
   "cell_type": "code",
   "execution_count": 91,
   "id": "2d4fdccb",
   "metadata": {},
   "outputs": [
    {
     "data": {
      "text/plain": [
       "3.0"
      ]
     },
     "execution_count": 91,
     "metadata": {},
     "output_type": "execute_result"
    }
   ],
   "source": [
    "np.median(L)"
   ]
  },
  {
   "cell_type": "code",
   "execution_count": 93,
   "id": "a506097a",
   "metadata": {},
   "outputs": [
    {
     "data": {
      "text/plain": [
       "ModeResult(mode=array([[ 1,  1,  1,  1,  2,  4,  5,  2,  6,  3, 56,  2,  5,  2, 42,  2,\n",
       "         3,  4,  5,  6,  7]]), count=array([[1, 1, 1, 1, 1, 1, 1, 1, 1, 1, 1, 1, 1, 1, 1, 1, 1, 1, 1, 1, 1]]))"
      ]
     },
     "execution_count": 93,
     "metadata": {},
     "output_type": "execute_result"
    }
   ],
   "source": [
    "st.mode(L)"
   ]
  }
 ],
 "metadata": {
  "kernelspec": {
   "display_name": "Python 3",
   "language": "python",
   "name": "python3"
  },
  "language_info": {
   "codemirror_mode": {
    "name": "ipython",
    "version": 3
   },
   "file_extension": ".py",
   "mimetype": "text/x-python",
   "name": "python",
   "nbconvert_exporter": "python",
   "pygments_lexer": "ipython3",
   "version": "3.8.8"
  }
 },
 "nbformat": 4,
 "nbformat_minor": 5
}
