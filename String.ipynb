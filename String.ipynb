{
 "cells": [
  {
   "cell_type": "code",
   "execution_count": 1,
   "id": "07f425f0",
   "metadata": {},
   "outputs": [
    {
     "name": "stdout",
     "output_type": "stream",
     "text": [
      "Hiii i am Robin\n"
     ]
    }
   ],
   "source": [
    "# String Notation\n",
    "a='Hiii i am Robin'\n",
    "print(a)"
   ]
  },
  {
   "cell_type": "code",
   "execution_count": 2,
   "id": "a3818c9a",
   "metadata": {},
   "outputs": [
    {
     "name": "stdout",
     "output_type": "stream",
     "text": [
      " hiiii am Robin\n"
     ]
    }
   ],
   "source": [
    "b=\" hiiii am Robin\"\n",
    "print(b)"
   ]
  },
  {
   "cell_type": "code",
   "execution_count": 3,
   "id": "a30911b8",
   "metadata": {},
   "outputs": [
    {
     "name": "stdout",
     "output_type": "stream",
     "text": [
      "hiii\n",
      "my\n",
      "name\n",
      "is\n",
      "Robin\n",
      "Chaddha\n",
      "\n",
      "\n",
      "\n"
     ]
    }
   ],
   "source": [
    "# multi line strings\n",
    "d='''hiii\n",
    "my\n",
    "name\n",
    "is\n",
    "Robin\n",
    "Chaddha\n",
    "\n",
    "\n",
    "'''\n",
    "print(d)\n",
    "\n"
   ]
  },
  {
   "cell_type": "code",
   "execution_count": 4,
   "id": "69e974fa",
   "metadata": {},
   "outputs": [
    {
     "name": "stdout",
     "output_type": "stream",
     "text": [
      "10\n"
     ]
    },
    {
     "data": {
      "text/plain": [
       "'\\nhdhopqw\\ndihpc[j\\n     c,w\\n     dsugdpqwx\\n     qwx]\\n'"
      ]
     },
     "execution_count": 4,
     "metadata": {},
     "output_type": "execute_result"
    }
   ],
   "source": [
    "\n",
    "a=10\n",
    "print(a)\n",
    "'''\n",
    "hdhopqw\n",
    "dihpc[j\n",
    "     c,w\n",
    "     dsugdpqwx\n",
    "     qwx]\n",
    "'''\n"
   ]
  },
  {
   "cell_type": "code",
   "execution_count": 5,
   "id": "fd2cefe5",
   "metadata": {},
   "outputs": [
    {
     "name": "stdout",
     "output_type": "stream",
     "text": [
      " hiiii \n",
      "             my\n",
      "                 name  \n",
      "                      is \n",
      "                         Robin\n",
      "                                Chaddha\n",
      "\n"
     ]
    }
   ],
   "source": [
    "c=\"\"\" hiiii \n",
    "             my\n",
    "                 name  \n",
    "                      is \n",
    "                         Robin\n",
    "                                Chaddha\n",
    "\"\"\"\n",
    "print(c)\n"
   ]
  },
  {
   "cell_type": "markdown",
   "id": "97e3d7a5",
   "metadata": {},
   "source": [
    "### String formatting"
   ]
  },
  {
   "cell_type": "code",
   "execution_count": 6,
   "id": "ad5d457d",
   "metadata": {},
   "outputs": [
    {
     "name": "stdout",
     "output_type": "stream",
     "text": [
      "Robin + Chaddha\n"
     ]
    }
   ],
   "source": [
    "name='Robin'\n",
    "sur_name='Chaddha'\n",
    "print(name,'+',sur_name) # concatenation"
   ]
  },
  {
   "cell_type": "code",
   "execution_count": 7,
   "id": "89a0af5c",
   "metadata": {},
   "outputs": [
    {
     "name": "stdout",
     "output_type": "stream",
     "text": [
      "Robin Chaddha\n"
     ]
    }
   ],
   "source": [
    "name='Robin'\n",
    "full_name= name+ ' '+'Chaddha'\n",
    "print(full_name) # concatenation"
   ]
  },
  {
   "cell_type": "code",
   "execution_count": 8,
   "id": "97833d1c",
   "metadata": {},
   "outputs": [
    {
     "name": "stdout",
     "output_type": "stream",
     "text": [
      "Chaddha Robin \n",
      "Chaddha Robin Chaddha Robin Chaddha Robin Chaddha Robin Chaddha Robin \n"
     ]
    }
   ],
   "source": [
    "a=' Robin '\n",
    "b='Chaddha'\n",
    "c=b+a\n",
    "print(c)\n",
    "print(c*5)"
   ]
  },
  {
   "cell_type": "code",
   "execution_count": 9,
   "id": "082f8c83",
   "metadata": {},
   "outputs": [
    {
     "ename": "TypeError",
     "evalue": "unsupported operand type(s) for -: 'str' and 'str'",
     "output_type": "error",
     "traceback": [
      "\u001b[1;31m---------------------------------------------------------------------------\u001b[0m",
      "\u001b[1;31mTypeError\u001b[0m                                 Traceback (most recent call last)",
      "Cell \u001b[1;32mIn[9], line 4\u001b[0m\n\u001b[0;32m      2\u001b[0m a\u001b[38;5;241m=\u001b[39m\u001b[38;5;124m'\u001b[39m\u001b[38;5;124mRobin\u001b[39m\u001b[38;5;124m'\u001b[39m\n\u001b[0;32m      3\u001b[0m c\u001b[38;5;241m=\u001b[39m\u001b[38;5;124m'\u001b[39m\u001b[38;5;124mChaddha\u001b[39m\u001b[38;5;124m'\u001b[39m\n\u001b[1;32m----> 4\u001b[0m \u001b[38;5;28mprint\u001b[39m(\u001b[43mx\u001b[49m\u001b[38;5;241;43m-\u001b[39;49m\u001b[43mc\u001b[49m)\n",
      "\u001b[1;31mTypeError\u001b[0m: unsupported operand type(s) for -: 'str' and 'str'"
     ]
    }
   ],
   "source": [
    "x='Hiii'\n",
    "a='Robin'\n",
    "c='Chaddha'\n",
    "print(x-c)"
   ]
  },
  {
   "cell_type": "code",
   "execution_count": null,
   "id": "91097401",
   "metadata": {},
   "outputs": [],
   "source": [
    "d='a'\n",
    "print(d*10)"
   ]
  },
  {
   "cell_type": "code",
   "execution_count": null,
   "id": "3602f115",
   "metadata": {},
   "outputs": [],
   "source": [
    "a='hiii'\n",
    "print('hello'+' '+a)"
   ]
  },
  {
   "cell_type": "code",
   "execution_count": null,
   "id": "eee10f21",
   "metadata": {},
   "outputs": [],
   "source": [
    "## f specifier\n",
    "greeting='good morning'\n",
    "greeting1='good evening'\n",
    "# print('hello',greeting)\n",
    "print('hello', greeting1, greeting)\n",
    "print(f'hello {greeting1} {greeting}')"
   ]
  },
  {
   "cell_type": "code",
   "execution_count": null,
   "id": "bfe6d6df",
   "metadata": {},
   "outputs": [],
   "source": [
    "# format specifier\n",
    "name='Robin'\n",
    "\n",
    "final_greeting = 'How are you, {}?'\n",
    "\n",
    "print(final_greeting.format(name))\n",
    "# print(final_greeting)\n"
   ]
  },
  {
   "cell_type": "code",
   "execution_count": null,
   "id": "9733eaa2",
   "metadata": {},
   "outputs": [],
   "source": [
    "name='Robin'\n",
    "surname='Chaddha'\n",
    "\n",
    "print(' my first name is {} and sur name is {} '.format(name,surname))\n",
    "print(' my first name is {} and sur name is {} '.format(surname,name))"
   ]
  },
  {
   "cell_type": "markdown",
   "id": "1283b1cb",
   "metadata": {},
   "source": [
    "####  calculate your age in months use the f string to print ?"
   ]
  },
  {
   "cell_type": "code",
   "execution_count": null,
   "id": "ac2b3a01",
   "metadata": {},
   "outputs": [],
   "source": [
    "age = int(input('Enter your age: ')) # Enter 3\n",
    "print(f'You have lived for {age * 12} months.') # Prints You have lived for 36 months.\n"
   ]
  },
  {
   "cell_type": "code",
   "execution_count": null,
   "id": "8be7950d",
   "metadata": {},
   "outputs": [],
   "source": [
    "age = int(input('Enter your age: ')) # Enter 3\n",
    "months = age * 12\n",
    "print(f'You have lived for {months} months.') # Prints You have lived for 36 months.\n"
   ]
  },
  {
   "cell_type": "markdown",
   "id": "8bd7a71e",
   "metadata": {},
   "source": [
    "### A small exercise: calculate number of seconds lived instead of months! ?\n"
   ]
  },
  {
   "cell_type": "code",
   "execution_count": null,
   "id": "6b61eadf",
   "metadata": {},
   "outputs": [],
   "source": [
    "age=int(input('enter age'))\n",
    "print(f'my age is {age*365*24*60*60} in seconds')"
   ]
  },
  {
   "cell_type": "code",
   "execution_count": null,
   "id": "63ddae5a",
   "metadata": {},
   "outputs": [],
   "source": [
    "name='Robin123466789'\n",
    "\n",
    "surname='Chaddha'\n",
    "                                 \n",
    "# print(len(name)) # to check the length of string\n",
    "# print(len(surname))\n",
    "# print(name[0])\n",
    "# print(name[0:10])\n",
    "# print(name[-2])\n",
    "# print(name[-5:])\n",
    "# print(name[:10])\n",
    "print(name[:])\n"
   ]
  },
  {
   "cell_type": "code",
   "execution_count": null,
   "id": "5553a96d",
   "metadata": {},
   "outputs": [],
   "source": [
    "# checking immutability\n",
    "a='Robin'\n",
    "\n",
    "a[0]='R'\n",
    "print(a)"
   ]
  },
  {
   "cell_type": "code",
   "execution_count": null,
   "id": "d5715474",
   "metadata": {},
   "outputs": [],
   "source": [
    "name='Robin123466789'"
   ]
  },
  {
   "cell_type": "code",
   "execution_count": null,
   "id": "3df677ad",
   "metadata": {},
   "outputs": [],
   "source": [
    "print(name[6]) # indexing"
   ]
  },
  {
   "cell_type": "code",
   "execution_count": null,
   "id": "740ca154",
   "metadata": {},
   "outputs": [],
   "source": [
    "print(name[8])\n",
    "print(name[13])"
   ]
  },
  {
   "cell_type": "code",
   "execution_count": null,
   "id": "d21f21e0",
   "metadata": {},
   "outputs": [],
   "source": [
    "print(name[3:6]) # slicing last index excluded"
   ]
  },
  {
   "cell_type": "code",
   "execution_count": null,
   "id": "96bccedc",
   "metadata": {},
   "outputs": [],
   "source": [
    "print(name[100000000000])"
   ]
  },
  {
   "cell_type": "code",
   "execution_count": null,
   "id": "af3a8ad3",
   "metadata": {},
   "outputs": [],
   "source": [
    "print(name[6:1000000000000000000000000000000000000]) #slicing"
   ]
  },
  {
   "cell_type": "code",
   "execution_count": null,
   "id": "f534d9cd",
   "metadata": {},
   "outputs": [],
   "source": [
    "print(name[-1:])"
   ]
  },
  {
   "cell_type": "code",
   "execution_count": null,
   "id": "acf3e276",
   "metadata": {},
   "outputs": [],
   "source": [
    "print(name[:-3])"
   ]
  },
  {
   "cell_type": "code",
   "execution_count": null,
   "id": "dfd40aa6",
   "metadata": {},
   "outputs": [],
   "source": [
    "print(name[::-1])"
   ]
  },
  {
   "cell_type": "code",
   "execution_count": null,
   "id": "22fdac5d",
   "metadata": {},
   "outputs": [],
   "source": [
    "print(name[-5:-2]) # slicing"
   ]
  },
  {
   "cell_type": "code",
   "execution_count": null,
   "id": "bdaaafc9",
   "metadata": {},
   "outputs": [],
   "source": [
    "print(name[::-1]) # reverse of stirng"
   ]
  },
  {
   "cell_type": "code",
   "execution_count": null,
   "id": "552440a0",
   "metadata": {},
   "outputs": [],
   "source": [
    "print(name.upper())"
   ]
  },
  {
   "cell_type": "code",
   "execution_count": null,
   "id": "b80d9ff4",
   "metadata": {},
   "outputs": [],
   "source": [
    "print(surname.lower())"
   ]
  },
  {
   "cell_type": "code",
   "execution_count": null,
   "id": "79a8bcb4",
   "metadata": {},
   "outputs": [],
   "source": [
    "print(name.count('e'))"
   ]
  },
  {
   "cell_type": "code",
   "execution_count": null,
   "id": "7336b975",
   "metadata": {},
   "outputs": [],
   "source": [
    "print(name.find('u'))"
   ]
  },
  {
   "cell_type": "code",
   "execution_count": null,
   "id": "1f482ffd",
   "metadata": {},
   "outputs": [],
   "source": [
    "print(name.replace('d','D'))"
   ]
  },
  {
   "cell_type": "code",
   "execution_count": null,
   "id": "bd473a3f",
   "metadata": {},
   "outputs": [],
   "source": [
    "print(name.isalpha())\n"
   ]
  },
  {
   "cell_type": "code",
   "execution_count": null,
   "id": "d04989e7",
   "metadata": {},
   "outputs": [],
   "source": [
    "a='1234'\n",
    "print(a.isdigit())"
   ]
  },
  {
   "cell_type": "code",
   "execution_count": null,
   "id": "d15ceb68",
   "metadata": {},
   "outputs": [],
   "source": [
    "b='123'\n",
    "print(b.isalnum()) #t\n",
    "print(b.isupper()) #f\n",
    "print(b.islower()) #t\n",
    "print(b.replace('p','a'))\n",
    "print(b.replace(b[0:3],'n'))"
   ]
  },
  {
   "cell_type": "markdown",
   "id": "62d4231c",
   "metadata": {},
   "source": [
    "### String functions"
   ]
  },
  {
   "cell_type": "code",
   "execution_count": null,
   "id": "3f14f7ce",
   "metadata": {},
   "outputs": [],
   "source": [
    "mystr='a quick brown fox jumps over the lazy dog'\n",
    "# print(len(mystr))\n",
    "# print(mystr[5])\n",
    "# print(mystr[7])\n",
    "# print(mystr[0:4])\n",
    "# print(mystr[:21])\n",
    "# print(mystr[0:41])\n",
    "# print(mystr[0:])\n",
    "# print(mystr[100])\n",
    "# print(mystr[30])\n",
    "# print(mystr[0:100])\n",
    "# print(mystr[100:0])\n",
    "# print(mystr[0:42:2])\n",
    "# print(mystr[0:42:10])\n",
    "# print(mystr[0:42:100])\n",
    "# print(mystr[::])\n",
    "# print(mystr[0:41:1])\n",
    "# print(mystr[::1])\n",
    "# print(mystr[::2])\n",
    "# print(mystr[::50])\n",
    "# print(mystr[19:5])\n",
    "# print(mystr[19:-5])\n",
    "# # print(mystr[-3])\n",
    "# print(mystr[-3:])\n",
    "# print(mystr[0:-3])\n",
    "# print(mystr[-3:-2])\n",
    "# print(mystr[-27:-24])\n",
    "# print(mystr[-3:-11])\n",
    "# print(mystr[14:17])\n",
    "print(mystr[::-1])\n",
    "print(mystr[::-5])\n",
    "print('------------------------------------------')\n",
    "print(mystr[4:21])\n",
    "mystr[14:28]\n"
   ]
  },
  {
   "cell_type": "code",
   "execution_count": null,
   "id": "7b2c410c",
   "metadata": {},
   "outputs": [],
   "source": [
    "mystr='a quick brown fox jumps over a lazy dog'"
   ]
  },
  {
   "cell_type": "code",
   "execution_count": null,
   "id": "44ee2023",
   "metadata": {},
   "outputs": [],
   "source": [
    "# count\n",
    "print(mystr.count('o')) # to count the particular character in a string"
   ]
  },
  {
   "cell_type": "code",
   "execution_count": null,
   "id": "ca5e6850",
   "metadata": {},
   "outputs": [],
   "source": [
    "#capitalize\n",
    "print(mystr.capitalize())"
   ]
  },
  {
   "cell_type": "code",
   "execution_count": 10,
   "id": "21ea8e26",
   "metadata": {},
   "outputs": [
    {
     "ename": "NameError",
     "evalue": "name 'mystr' is not defined",
     "output_type": "error",
     "traceback": [
      "\u001b[1;31m---------------------------------------------------------------------------\u001b[0m",
      "\u001b[1;31mNameError\u001b[0m                                 Traceback (most recent call last)",
      "Cell \u001b[1;32mIn[10], line 5\u001b[0m\n\u001b[0;32m      1\u001b[0m \u001b[38;5;66;03m#find\u001b[39;00m\n\u001b[0;32m      2\u001b[0m \u001b[38;5;66;03m# print(mystr.find('o'))\u001b[39;00m\n\u001b[0;32m      3\u001b[0m \u001b[38;5;66;03m# print(mystr.find('do'))\u001b[39;00m\n\u001b[0;32m      4\u001b[0m \u001b[38;5;66;03m# print(mystr.find('#$%^&*((*&^%$))'))\u001b[39;00m\n\u001b[1;32m----> 5\u001b[0m \u001b[38;5;28mprint\u001b[39m(\u001b[43mmystr\u001b[49m\u001b[38;5;241m.\u001b[39mfind(\u001b[38;5;124m'\u001b[39m\u001b[38;5;124mbr\u001b[39m\u001b[38;5;124m'\u001b[39m))\n\u001b[0;32m      6\u001b[0m \u001b[38;5;28mprint\u001b[39m(mystr\u001b[38;5;241m.\u001b[39mfind(\u001b[38;5;124m'\u001b[39m\u001b[38;5;124mbr\u001b[39m\u001b[38;5;124m'\u001b[39m))\n",
      "\u001b[1;31mNameError\u001b[0m: name 'mystr' is not defined"
     ]
    }
   ],
   "source": [
    "#find\n",
    "# print(mystr.find('o'))\n",
    "# print(mystr.find('do'))\n",
    "# print(mystr.find('#$%^&*((*&^%$))'))\n",
    "print(mystr.find('br'))\n",
    "print(mystr.find('br'))"
   ]
  },
  {
   "cell_type": "code",
   "execution_count": null,
   "id": "08445374",
   "metadata": {},
   "outputs": [],
   "source": [
    "print(mystr.index('o'))\n",
    "print(mystr.find('o'))"
   ]
  },
  {
   "cell_type": "code",
   "execution_count": 11,
   "id": "734d3ae8",
   "metadata": {},
   "outputs": [
    {
     "name": "stdout",
     "output_type": "stream",
     "text": [
      "False\n",
      "True\n",
      "True\n",
      "True\n",
      "True\n",
      "False\n"
     ]
    }
   ],
   "source": [
    "mystr='a quick brown fox jumps over a lazy dog'\n",
    "mystr1='aquickbrownfoxjumpsoverthelazydog'\n",
    "mystr2='12345678967'\n",
    "mystr3='deepanshu2022'\n",
    "mystr4=' '\n",
    "print(mystr.isalpha())\n",
    "print(mystr1.isalpha())\n",
    "print(mystr2.isdigit())\n",
    "print(mystr3.isalnum())\n",
    "print(mystr4.isspace())\n",
    "print(mystr.isspace())\n",
    "\n"
   ]
  },
  {
   "cell_type": "code",
   "execution_count": 12,
   "id": "eb47015f",
   "metadata": {},
   "outputs": [],
   "source": [
    "mystr='a quick brown fox jumps over a lazy dog'\n",
    "\n"
   ]
  },
  {
   "cell_type": "code",
   "execution_count": 13,
   "id": "70c1e447",
   "metadata": {},
   "outputs": [
    {
     "name": "stdout",
     "output_type": "stream",
     "text": [
      "A QUICK BROWN FOX JUMPS OVER A LAZY DOG\n",
      "A QUICK BROWN FOX JUMPS OVER A LAZY DOG\n",
      "a quick brown fox jumps over a lazy dog\n",
      "A QUICK BROWN FOX JUMPS OVER A LAZY DOG\n",
      "False\n"
     ]
    }
   ],
   "source": [
    "print(mystr.upper())\n",
    "abc=mystr.upper()\n",
    "print(abc)\n",
    "print(abc.lower())\n",
    "print(abc.upper())\n",
    "print(abc.islower())\n",
    "# print(abc.isupper())\n",
    "\n"
   ]
  },
  {
   "cell_type": "code",
   "execution_count": 14,
   "id": "d5fc378a",
   "metadata": {},
   "outputs": [
    {
     "name": "stdout",
     "output_type": "stream",
     "text": [
      "True\n",
      "False\n",
      "True\n"
     ]
    }
   ],
   "source": [
    "name='Deepanshu Verma'\n",
    "name1='deepanshu'\n",
    "string=' '\n",
    "# print(name.iscapitalize())\n",
    "print(name.istitle()) # checks the first word  is capita or not\n",
    "print(name1.istitle())\n",
    "print(string.isspace())\n"
   ]
  },
  {
   "cell_type": "code",
   "execution_count": 15,
   "id": "b46949ad",
   "metadata": {},
   "outputs": [
    {
     "name": "stdout",
     "output_type": "stream",
     "text": [
      "a quick brown fox jumps over a lazy dog\n"
     ]
    }
   ],
   "source": [
    "print(mystr)"
   ]
  },
  {
   "cell_type": "code",
   "execution_count": 16,
   "id": "b63185fd",
   "metadata": {},
   "outputs": [
    {
     "name": "stdout",
     "output_type": "stream",
     "text": [
      "a   brown fox jumps over a lazy dog\n"
     ]
    }
   ],
   "source": [
    "# print(mystr.replace('quick','jaldi'))\n",
    "print(mystr.replace('quick',' '))"
   ]
  },
  {
   "cell_type": "code",
   "execution_count": 17,
   "id": "9c80dff4",
   "metadata": {},
   "outputs": [
    {
     "name": "stdout",
     "output_type": "stream",
     "text": [
      "upper\n",
      "LOWER\n"
     ]
    }
   ],
   "source": [
    "xyz='UPPER'\n",
    "abc='lower'\n",
    "print(xyz.swapcase())\n",
    "print(abc.swapcase())\n"
   ]
  },
  {
   "cell_type": "code",
   "execution_count": 18,
   "id": "3d2cb9e1",
   "metadata": {},
   "outputs": [
    {
     "name": "stdout",
     "output_type": "stream",
     "text": [
      "['a', 'quick', 'brown', 'fox', 'jumps', 'over', 'a', 'lazy', 'dog']\n",
      "['a', 'quick', 'brown', 'fox', 'jumps', 'over', 'the', 'lazy', 'dog']\n",
      "['a', 'quick', 'brown', 'fox', 'jumps', 'over', 'the', 'lazy', 'dog']\n",
      "['aquickbrownfoxjumpsoverthelazydog']\n"
     ]
    }
   ],
   "source": [
    "mystr3='a quick brown fox jumps over the lazy dog'\n",
    "mystr2='a,quick,brown,fox,jumps,over,the,lazy,dog'\n",
    "mystr1='aquickbrownfoxjumpsoverthelazydog'\n",
    "\n",
    "print(mystr.split())\n",
    "print(mystr3.split(' '))\n",
    "print(mystr2.split(','))\n",
    "print(mystr1.split())"
   ]
  },
  {
   "cell_type": "code",
   "execution_count": 19,
   "id": "a84cd5e0",
   "metadata": {},
   "outputs": [
    {
     "name": "stdout",
     "output_type": "stream",
     "text": [
      "a quick brown fox jumps over a lazy dog\n"
     ]
    }
   ],
   "source": [
    "print(mystr)"
   ]
  },
  {
   "cell_type": "code",
   "execution_count": 20,
   "id": "2a0ebf5b",
   "metadata": {},
   "outputs": [
    {
     "name": "stdout",
     "output_type": "stream",
     "text": [
      "a quick brown fox jumps over a lazy \n",
      " quick brown fox jumps over a lazy dog\n",
      "a quick brown fox jumps over a lazy dog\n",
      "True\n",
      "True\n"
     ]
    }
   ],
   "source": [
    "# strip function prints the string after removing the from beginning and end\n",
    "# a quick brown fox jumps over a lazy dog\n",
    "print(mystr.strip(\"dog\"))\n",
    "print(mystr.strip('a'))\n",
    "print(mystr.strip('fox'))\n",
    "print(mystr.endswith('dog'))\n",
    "print(mystr.startswith('a'))"
   ]
  },
  {
   "cell_type": "code",
   "execution_count": 21,
   "id": "376c3803",
   "metadata": {},
   "outputs": [
    {
     "name": "stdout",
     "output_type": "stream",
     "text": [
      "2\n"
     ]
    }
   ],
   "source": [
    "email='abcc@123.com'\n",
    "c=0\n",
    "for i in email:\n",
    "    if i.isalpha() or i.isdigit():\n",
    "        pass\n",
    "    else:\n",
    "        c+=1\n",
    "print(c)"
   ]
  }
 ],
 "metadata": {
  "kernelspec": {
   "display_name": "Python 3 (ipykernel)",
   "language": "python",
   "name": "python3"
  },
  "language_info": {
   "codemirror_mode": {
    "name": "ipython",
    "version": 3
   },
   "file_extension": ".py",
   "mimetype": "text/x-python",
   "name": "python",
   "nbconvert_exporter": "python",
   "pygments_lexer": "ipython3",
   "version": "3.10.9"
  }
 },
 "nbformat": 4,
 "nbformat_minor": 5
}
